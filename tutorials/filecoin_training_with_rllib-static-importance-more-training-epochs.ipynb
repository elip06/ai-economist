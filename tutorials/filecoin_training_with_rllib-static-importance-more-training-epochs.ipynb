{
 "cells": [
  {
   "cell_type": "code",
   "execution_count": 1,
   "id": "618c9afa",
   "metadata": {},
   "outputs": [],
   "source": [
    "# Define the configuration of the environment that will be built\n",
    "\n",
    "env_config_dict = {\n",
    "    # ===== SCENARIO CLASS =====\n",
    "    # Which Scenario class to use: the class's name in the Scenario Registry (foundation.scenarios).\n",
    "    # The environment object will be an instance of the Scenario class.\n",
    "    'scenario_name': 'filecoin-energy',\n",
    "    \n",
    "    # ===== COMPONENTS =====\n",
    "    # Which components to use (specified as list of (\"component_name\", {component_kwargs}) tuples).\n",
    "    #   \"component_name\" refers to the Component class's name in the Component Registry (foundation.components)\n",
    "    #   {component_kwargs} is a dictionary of kwargs passed to the Component class\n",
    "    # The order in which components reset, step, and generate obs follows their listed order below.\n",
    "    'components': [\n",
    "        # (2) Trading collectible resources\n",
    "        ('BuyRECFromVirtualStore', { 'green_score_importance': 0.0, 'static': True}),\n",
    "    ],\n",
    "    \n",
    "\n",
    "    # ===== STANDARD ARGUMENTS ======\n",
    "    # kwargs that are used by every Scenario class (i.e. defined in BaseEnvironment)\n",
    "    'n_agents': 100,          # Number of non-planner agents (must be > 1)\n",
    "    'world_size': [1, 1], # [Height, Width] of the env world\n",
    "    'episode_length': 336, # Number of timesteps per episode\n",
    "    'static': True,\n",
    "    \n",
    "    # In multi-action-mode, the policy selects an action for each action subspace (defined in component code).\n",
    "    # Otherwise, the policy selects only 1 action.\n",
    "    'multi_action_mode_agents': False,\n",
    "    'multi_action_mode_planner': False,\n",
    "    \n",
    "    # When flattening observations, concatenate scalar & vector observations before output.\n",
    "    # Otherwise, return observations with minimal processing.\n",
    "    'flatten_observations': False,\n",
    "    # When Flattening masks, concatenate each action subspace mask into a single array.\n",
    "    # Note: flatten_masks = True is required for masking action logits in the code below.\n",
    "    'flatten_masks': True,\n",
    "    'dense_log_frequency': 1\n",
    "}"
   ]
  },
  {
   "cell_type": "code",
   "execution_count": 2,
   "id": "029c36a0",
   "metadata": {},
   "outputs": [
    {
     "name": "stdout",
     "output_type": "stream",
     "text": [
      "Inside covid19_components.py: 0 GPUs are available.\n",
      "No GPUs found! Running the simulation on a CPU.\n",
      "Inside covid19_env.py: 0 GPUs are available.\n",
      "No GPUs found! Running the simulation on a CPU.\n"
     ]
    },
    {
     "name": "stderr",
     "output_type": "stream",
     "text": [
      "/home/ubuntu/.local/lib/python3.7/site-packages/tensorflow/python/framework/dtypes.py:516: FutureWarning: Passing (type, 1) or '1type' as a synonym of type is deprecated; in a future version of numpy, it will be understood as (type, (1,)) / '(1,)type'.\n",
      "  _np_qint8 = np.dtype([(\"qint8\", np.int8, 1)])\n",
      "/home/ubuntu/.local/lib/python3.7/site-packages/tensorflow/python/framework/dtypes.py:517: FutureWarning: Passing (type, 1) or '1type' as a synonym of type is deprecated; in a future version of numpy, it will be understood as (type, (1,)) / '(1,)type'.\n",
      "  _np_quint8 = np.dtype([(\"quint8\", np.uint8, 1)])\n",
      "/home/ubuntu/.local/lib/python3.7/site-packages/tensorflow/python/framework/dtypes.py:518: FutureWarning: Passing (type, 1) or '1type' as a synonym of type is deprecated; in a future version of numpy, it will be understood as (type, (1,)) / '(1,)type'.\n",
      "  _np_qint16 = np.dtype([(\"qint16\", np.int16, 1)])\n",
      "/home/ubuntu/.local/lib/python3.7/site-packages/tensorflow/python/framework/dtypes.py:519: FutureWarning: Passing (type, 1) or '1type' as a synonym of type is deprecated; in a future version of numpy, it will be understood as (type, (1,)) / '(1,)type'.\n",
      "  _np_quint16 = np.dtype([(\"quint16\", np.uint16, 1)])\n",
      "/home/ubuntu/.local/lib/python3.7/site-packages/tensorflow/python/framework/dtypes.py:520: FutureWarning: Passing (type, 1) or '1type' as a synonym of type is deprecated; in a future version of numpy, it will be understood as (type, (1,)) / '(1,)type'.\n",
      "  _np_qint32 = np.dtype([(\"qint32\", np.int32, 1)])\n",
      "/home/ubuntu/.local/lib/python3.7/site-packages/tensorflow/python/framework/dtypes.py:525: FutureWarning: Passing (type, 1) or '1type' as a synonym of type is deprecated; in a future version of numpy, it will be understood as (type, (1,)) / '(1,)type'.\n",
      "  np_resource = np.dtype([(\"resource\", np.ubyte, 1)])\n",
      "/home/ubuntu/.local/lib/python3.7/site-packages/tensorboard/compat/tensorflow_stub/dtypes.py:541: FutureWarning: Passing (type, 1) or '1type' as a synonym of type is deprecated; in a future version of numpy, it will be understood as (type, (1,)) / '(1,)type'.\n",
      "  _np_qint8 = np.dtype([(\"qint8\", np.int8, 1)])\n",
      "/home/ubuntu/.local/lib/python3.7/site-packages/tensorboard/compat/tensorflow_stub/dtypes.py:542: FutureWarning: Passing (type, 1) or '1type' as a synonym of type is deprecated; in a future version of numpy, it will be understood as (type, (1,)) / '(1,)type'.\n",
      "  _np_quint8 = np.dtype([(\"quint8\", np.uint8, 1)])\n",
      "/home/ubuntu/.local/lib/python3.7/site-packages/tensorboard/compat/tensorflow_stub/dtypes.py:543: FutureWarning: Passing (type, 1) or '1type' as a synonym of type is deprecated; in a future version of numpy, it will be understood as (type, (1,)) / '(1,)type'.\n",
      "  _np_qint16 = np.dtype([(\"qint16\", np.int16, 1)])\n",
      "/home/ubuntu/.local/lib/python3.7/site-packages/tensorboard/compat/tensorflow_stub/dtypes.py:544: FutureWarning: Passing (type, 1) or '1type' as a synonym of type is deprecated; in a future version of numpy, it will be understood as (type, (1,)) / '(1,)type'.\n",
      "  _np_quint16 = np.dtype([(\"quint16\", np.uint16, 1)])\n",
      "/home/ubuntu/.local/lib/python3.7/site-packages/tensorboard/compat/tensorflow_stub/dtypes.py:545: FutureWarning: Passing (type, 1) or '1type' as a synonym of type is deprecated; in a future version of numpy, it will be understood as (type, (1,)) / '(1,)type'.\n",
      "  _np_qint32 = np.dtype([(\"qint32\", np.int32, 1)])\n",
      "/home/ubuntu/.local/lib/python3.7/site-packages/tensorboard/compat/tensorflow_stub/dtypes.py:550: FutureWarning: Passing (type, 1) or '1type' as a synonym of type is deprecated; in a future version of numpy, it will be understood as (type, (1,)) / '(1,)type'.\n",
      "  np_resource = np.dtype([(\"resource\", np.ubyte, 1)])\n"
     ]
    },
    {
     "name": "stdout",
     "output_type": "stream",
     "text": [
      "[EnvWrapper] Spaces\n",
      "[EnvWrapper] Obs (a)   \n",
      "action_mask    : (22,)\n",
      "time           : (1,)\n",
      "world-endogenous-ConsumedEnergy: (24,)\n",
      "world-endogenous-EnergyPrice: (1,)\n",
      "world-endogenous-GreenScore: (1,)\n",
      "world-endogenous-GreenScoresLastDay: (24,)\n",
      "world-endogenous-InitialGreenScore: (1,)\n",
      "world-endogenous-NewData: (1,)\n",
      "world-endogenous-RECsPrice: (1,)\n",
      "world-endogenous-ReliabilityScore: (1,)\n",
      "world-endogenous-TotalData: (1,)\n",
      "world-endogenous-TotalScore: (1,)\n",
      "\n",
      "\n",
      "[EnvWrapper] Obs (p)   \n",
      "action_mask    : (1,)\n",
      "\n",
      "\n",
      "[EnvWrapper] Action (a) Discrete(22)\n",
      "[EnvWrapper] Action (p) Discrete(1)\n"
     ]
    }
   ],
   "source": [
    "from rllib.env_wrapper import RLlibEnvWrapper\n",
    "env_obj = RLlibEnvWrapper({\"env_config_dict\": env_config_dict}, verbose=True)"
   ]
  },
  {
   "cell_type": "code",
   "execution_count": 3,
   "id": "fe751b55",
   "metadata": {},
   "outputs": [],
   "source": [
    "import ray\n",
    "from ray.rllib.agents.ppo import PPOTrainer"
   ]
  },
  {
   "cell_type": "code",
   "execution_count": 4,
   "id": "9a826ce0",
   "metadata": {},
   "outputs": [],
   "source": [
    "policies = {\n",
    "    \"a\": (\n",
    "        None,  # uses default policy\n",
    "        env_obj.observation_space,\n",
    "        env_obj.action_space,\n",
    "        {}  # define a custom agent policy configuration.\n",
    "    ),\n",
    "    \"p\": (\n",
    "        None,  # uses default policy\n",
    "        env_obj.observation_space_pl,\n",
    "        env_obj.action_space_pl,\n",
    "        {}  # define a custom planner policy configuration.\n",
    "    )\n",
    "}\n",
    "\n",
    "# In foundation, all the agents have integer ids and the social planner has an id of \"p\"\n",
    "policy_mapping_fun = lambda i: \"a\" if str(i).isdigit() else \"p\"\n",
    "\n",
    "policies_to_train = [\"a\", \"p\"]"
   ]
  },
  {
   "cell_type": "code",
   "execution_count": 5,
   "id": "64331642",
   "metadata": {},
   "outputs": [],
   "source": [
    "trainer_config = {\n",
    "    \"multiagent\": {\n",
    "        \"policies\": policies,\n",
    "        \"policies_to_train\": policies_to_train,\n",
    "        \"policy_mapping_fn\": policy_mapping_fun,\n",
    "    }\n",
    "}"
   ]
  },
  {
   "cell_type": "code",
   "execution_count": 6,
   "id": "f2476f35",
   "metadata": {},
   "outputs": [],
   "source": [
    "trainer_config.update(\n",
    "    {\n",
    "        \"num_workers\": 2,\n",
    "        \"num_envs_per_worker\": 2,\n",
    "        # Other training parameters\n",
    "        \"train_batch_size\":  4000,\n",
    "        \"sgd_minibatch_size\": 4000,\n",
    "        \"num_sgd_iter\": 1,\n",
    "        \"lr\": 0.00001,\n",
    "    }\n",
    ")"
   ]
  },
  {
   "cell_type": "code",
   "execution_count": 7,
   "id": "33e6c665",
   "metadata": {},
   "outputs": [],
   "source": [
    "# We also add the \"num_envs_per_worker\" parameter for the env. wrapper to index the environments.\n",
    "env_config = {\n",
    "    \"env_config_dict\": env_config_dict,\n",
    "    \"num_envs_per_worker\": trainer_config.get('num_envs_per_worker'),   \n",
    "}\n",
    "\n",
    "trainer_config.update(\n",
    "    {\n",
    "        \"env_config\": env_config        \n",
    "    }\n",
    ")"
   ]
  },
  {
   "cell_type": "code",
   "execution_count": 8,
   "id": "cf127879",
   "metadata": {},
   "outputs": [
    {
     "name": "stderr",
     "output_type": "stream",
     "text": [
      "2022-06-01 09:21:51,903\tINFO resource_spec.py:212 -- Starting Ray with 9.13 GiB memory available for workers and up to 4.57 GiB for objects. You can adjust these settings with ray.init(memory=<bytes>, object_store_memory=<bytes>).\n",
      "2022-06-01 09:21:52,561\tINFO services.py:1148 -- View the Ray dashboard at \u001b[1m\u001b[32m127.0.0.1:8265\u001b[39m\u001b[22m\n"
     ]
    },
    {
     "data": {
      "text/plain": [
       "{'node_ip_address': '172.31.29.14',\n",
       " 'redis_address': '172.31.29.14:38913',\n",
       " 'object_store_address': '/tmp/ray/session_2022-06-01_09-21-51_888393_1954/sockets/plasma_store',\n",
       " 'raylet_socket_name': '/tmp/ray/session_2022-06-01_09-21-51_888393_1954/sockets/raylet',\n",
       " 'webui_url': '127.0.0.1:8265',\n",
       " 'session_dir': '/tmp/ray/session_2022-06-01_09-21-51_888393_1954'}"
      ]
     },
     "execution_count": 8,
     "metadata": {},
     "output_type": "execute_result"
    }
   ],
   "source": [
    "# Initialize Ray\n",
    "ray.init(webui_host=\"127.0.0.1\")"
   ]
  },
  {
   "cell_type": "code",
   "execution_count": 9,
   "id": "8f9c08a5",
   "metadata": {},
   "outputs": [
    {
     "name": "stderr",
     "output_type": "stream",
     "text": [
      "2022-06-01 09:21:53,244\tINFO trainer.py:428 -- Tip: set 'eager': true or the --eager flag to enable TensorFlow eager execution\n",
      "2022-06-01 09:21:53,327\tINFO trainer.py:585 -- Current log_level is WARN. For more information, set 'log_level': 'INFO' / 'DEBUG' or use the -v and -vv flags.\n"
     ]
    },
    {
     "name": "stdout",
     "output_type": "stream",
     "text": [
      "\u001b[2m\u001b[36m(pid=2014)\u001b[0m /home/ubuntu/.local/lib/python3.7/site-packages/tensorflow/python/framework/dtypes.py:516: FutureWarning: Passing (type, 1) or '1type' as a synonym of type is deprecated; in a future version of numpy, it will be understood as (type, (1,)) / '(1,)type'.\n",
      "\u001b[2m\u001b[36m(pid=2014)\u001b[0m   _np_qint8 = np.dtype([(\"qint8\", np.int8, 1)])\n",
      "\u001b[2m\u001b[36m(pid=2014)\u001b[0m /home/ubuntu/.local/lib/python3.7/site-packages/tensorflow/python/framework/dtypes.py:517: FutureWarning: Passing (type, 1) or '1type' as a synonym of type is deprecated; in a future version of numpy, it will be understood as (type, (1,)) / '(1,)type'.\n",
      "\u001b[2m\u001b[36m(pid=2014)\u001b[0m   _np_quint8 = np.dtype([(\"quint8\", np.uint8, 1)])\n",
      "\u001b[2m\u001b[36m(pid=2014)\u001b[0m /home/ubuntu/.local/lib/python3.7/site-packages/tensorflow/python/framework/dtypes.py:518: FutureWarning: Passing (type, 1) or '1type' as a synonym of type is deprecated; in a future version of numpy, it will be understood as (type, (1,)) / '(1,)type'.\n",
      "\u001b[2m\u001b[36m(pid=2014)\u001b[0m   _np_qint16 = np.dtype([(\"qint16\", np.int16, 1)])\n",
      "\u001b[2m\u001b[36m(pid=2014)\u001b[0m /home/ubuntu/.local/lib/python3.7/site-packages/tensorflow/python/framework/dtypes.py:519: FutureWarning: Passing (type, 1) or '1type' as a synonym of type is deprecated; in a future version of numpy, it will be understood as (type, (1,)) / '(1,)type'.\n",
      "\u001b[2m\u001b[36m(pid=2014)\u001b[0m   _np_quint16 = np.dtype([(\"quint16\", np.uint16, 1)])\n",
      "\u001b[2m\u001b[36m(pid=2014)\u001b[0m /home/ubuntu/.local/lib/python3.7/site-packages/tensorflow/python/framework/dtypes.py:520: FutureWarning: Passing (type, 1) or '1type' as a synonym of type is deprecated; in a future version of numpy, it will be understood as (type, (1,)) / '(1,)type'.\n",
      "\u001b[2m\u001b[36m(pid=2014)\u001b[0m   _np_qint32 = np.dtype([(\"qint32\", np.int32, 1)])\n",
      "\u001b[2m\u001b[36m(pid=2014)\u001b[0m /home/ubuntu/.local/lib/python3.7/site-packages/tensorflow/python/framework/dtypes.py:525: FutureWarning: Passing (type, 1) or '1type' as a synonym of type is deprecated; in a future version of numpy, it will be understood as (type, (1,)) / '(1,)type'.\n",
      "\u001b[2m\u001b[36m(pid=2014)\u001b[0m   np_resource = np.dtype([(\"resource\", np.ubyte, 1)])\n",
      "\u001b[2m\u001b[36m(pid=2012)\u001b[0m /home/ubuntu/.local/lib/python3.7/site-packages/tensorflow/python/framework/dtypes.py:516: FutureWarning: Passing (type, 1) or '1type' as a synonym of type is deprecated; in a future version of numpy, it will be understood as (type, (1,)) / '(1,)type'.\n",
      "\u001b[2m\u001b[36m(pid=2012)\u001b[0m   _np_qint8 = np.dtype([(\"qint8\", np.int8, 1)])\n",
      "\u001b[2m\u001b[36m(pid=2012)\u001b[0m /home/ubuntu/.local/lib/python3.7/site-packages/tensorflow/python/framework/dtypes.py:517: FutureWarning: Passing (type, 1) or '1type' as a synonym of type is deprecated; in a future version of numpy, it will be understood as (type, (1,)) / '(1,)type'.\n",
      "\u001b[2m\u001b[36m(pid=2012)\u001b[0m   _np_quint8 = np.dtype([(\"quint8\", np.uint8, 1)])\n",
      "\u001b[2m\u001b[36m(pid=2012)\u001b[0m /home/ubuntu/.local/lib/python3.7/site-packages/tensorflow/python/framework/dtypes.py:518: FutureWarning: Passing (type, 1) or '1type' as a synonym of type is deprecated; in a future version of numpy, it will be understood as (type, (1,)) / '(1,)type'.\n",
      "\u001b[2m\u001b[36m(pid=2012)\u001b[0m   _np_qint16 = np.dtype([(\"qint16\", np.int16, 1)])\n",
      "\u001b[2m\u001b[36m(pid=2012)\u001b[0m /home/ubuntu/.local/lib/python3.7/site-packages/tensorflow/python/framework/dtypes.py:519: FutureWarning: Passing (type, 1) or '1type' as a synonym of type is deprecated; in a future version of numpy, it will be understood as (type, (1,)) / '(1,)type'.\n",
      "\u001b[2m\u001b[36m(pid=2012)\u001b[0m   _np_quint16 = np.dtype([(\"quint16\", np.uint16, 1)])\n",
      "\u001b[2m\u001b[36m(pid=2012)\u001b[0m /home/ubuntu/.local/lib/python3.7/site-packages/tensorflow/python/framework/dtypes.py:520: FutureWarning: Passing (type, 1) or '1type' as a synonym of type is deprecated; in a future version of numpy, it will be understood as (type, (1,)) / '(1,)type'.\n",
      "\u001b[2m\u001b[36m(pid=2012)\u001b[0m   _np_qint32 = np.dtype([(\"qint32\", np.int32, 1)])\n",
      "\u001b[2m\u001b[36m(pid=2012)\u001b[0m /home/ubuntu/.local/lib/python3.7/site-packages/tensorflow/python/framework/dtypes.py:525: FutureWarning: Passing (type, 1) or '1type' as a synonym of type is deprecated; in a future version of numpy, it will be understood as (type, (1,)) / '(1,)type'.\n",
      "\u001b[2m\u001b[36m(pid=2012)\u001b[0m   np_resource = np.dtype([(\"resource\", np.ubyte, 1)])\n",
      "\u001b[2m\u001b[36m(pid=2014)\u001b[0m /home/ubuntu/.local/lib/python3.7/site-packages/tensorboard/compat/tensorflow_stub/dtypes.py:541: FutureWarning: Passing (type, 1) or '1type' as a synonym of type is deprecated; in a future version of numpy, it will be understood as (type, (1,)) / '(1,)type'.\n",
      "\u001b[2m\u001b[36m(pid=2014)\u001b[0m   _np_qint8 = np.dtype([(\"qint8\", np.int8, 1)])\n",
      "\u001b[2m\u001b[36m(pid=2014)\u001b[0m /home/ubuntu/.local/lib/python3.7/site-packages/tensorboard/compat/tensorflow_stub/dtypes.py:542: FutureWarning: Passing (type, 1) or '1type' as a synonym of type is deprecated; in a future version of numpy, it will be understood as (type, (1,)) / '(1,)type'.\n",
      "\u001b[2m\u001b[36m(pid=2014)\u001b[0m   _np_quint8 = np.dtype([(\"quint8\", np.uint8, 1)])\n",
      "\u001b[2m\u001b[36m(pid=2014)\u001b[0m /home/ubuntu/.local/lib/python3.7/site-packages/tensorboard/compat/tensorflow_stub/dtypes.py:543: FutureWarning: Passing (type, 1) or '1type' as a synonym of type is deprecated; in a future version of numpy, it will be understood as (type, (1,)) / '(1,)type'.\n",
      "\u001b[2m\u001b[36m(pid=2014)\u001b[0m   _np_qint16 = np.dtype([(\"qint16\", np.int16, 1)])\n",
      "\u001b[2m\u001b[36m(pid=2014)\u001b[0m /home/ubuntu/.local/lib/python3.7/site-packages/tensorboard/compat/tensorflow_stub/dtypes.py:544: FutureWarning: Passing (type, 1) or '1type' as a synonym of type is deprecated; in a future version of numpy, it will be understood as (type, (1,)) / '(1,)type'.\n",
      "\u001b[2m\u001b[36m(pid=2014)\u001b[0m   _np_quint16 = np.dtype([(\"quint16\", np.uint16, 1)])\n",
      "\u001b[2m\u001b[36m(pid=2014)\u001b[0m /home/ubuntu/.local/lib/python3.7/site-packages/tensorboard/compat/tensorflow_stub/dtypes.py:545: FutureWarning: Passing (type, 1) or '1type' as a synonym of type is deprecated; in a future version of numpy, it will be understood as (type, (1,)) / '(1,)type'.\n",
      "\u001b[2m\u001b[36m(pid=2014)\u001b[0m   _np_qint32 = np.dtype([(\"qint32\", np.int32, 1)])\n",
      "\u001b[2m\u001b[36m(pid=2014)\u001b[0m /home/ubuntu/.local/lib/python3.7/site-packages/tensorboard/compat/tensorflow_stub/dtypes.py:550: FutureWarning: Passing (type, 1) or '1type' as a synonym of type is deprecated; in a future version of numpy, it will be understood as (type, (1,)) / '(1,)type'.\n",
      "\u001b[2m\u001b[36m(pid=2014)\u001b[0m   np_resource = np.dtype([(\"resource\", np.ubyte, 1)])\n",
      "\u001b[2m\u001b[36m(pid=2012)\u001b[0m /home/ubuntu/.local/lib/python3.7/site-packages/tensorboard/compat/tensorflow_stub/dtypes.py:541: FutureWarning: Passing (type, 1) or '1type' as a synonym of type is deprecated; in a future version of numpy, it will be understood as (type, (1,)) / '(1,)type'.\n",
      "\u001b[2m\u001b[36m(pid=2012)\u001b[0m   _np_qint8 = np.dtype([(\"qint8\", np.int8, 1)])\n",
      "\u001b[2m\u001b[36m(pid=2012)\u001b[0m /home/ubuntu/.local/lib/python3.7/site-packages/tensorboard/compat/tensorflow_stub/dtypes.py:542: FutureWarning: Passing (type, 1) or '1type' as a synonym of type is deprecated; in a future version of numpy, it will be understood as (type, (1,)) / '(1,)type'.\n",
      "\u001b[2m\u001b[36m(pid=2012)\u001b[0m   _np_quint8 = np.dtype([(\"quint8\", np.uint8, 1)])\n",
      "\u001b[2m\u001b[36m(pid=2012)\u001b[0m /home/ubuntu/.local/lib/python3.7/site-packages/tensorboard/compat/tensorflow_stub/dtypes.py:543: FutureWarning: Passing (type, 1) or '1type' as a synonym of type is deprecated; in a future version of numpy, it will be understood as (type, (1,)) / '(1,)type'.\n",
      "\u001b[2m\u001b[36m(pid=2012)\u001b[0m   _np_qint16 = np.dtype([(\"qint16\", np.int16, 1)])\n",
      "\u001b[2m\u001b[36m(pid=2012)\u001b[0m /home/ubuntu/.local/lib/python3.7/site-packages/tensorboard/compat/tensorflow_stub/dtypes.py:544: FutureWarning: Passing (type, 1) or '1type' as a synonym of type is deprecated; in a future version of numpy, it will be understood as (type, (1,)) / '(1,)type'.\n",
      "\u001b[2m\u001b[36m(pid=2012)\u001b[0m   _np_quint16 = np.dtype([(\"quint16\", np.uint16, 1)])\n",
      "\u001b[2m\u001b[36m(pid=2012)\u001b[0m /home/ubuntu/.local/lib/python3.7/site-packages/tensorboard/compat/tensorflow_stub/dtypes.py:545: FutureWarning: Passing (type, 1) or '1type' as a synonym of type is deprecated; in a future version of numpy, it will be understood as (type, (1,)) / '(1,)type'.\n",
      "\u001b[2m\u001b[36m(pid=2012)\u001b[0m   _np_qint32 = np.dtype([(\"qint32\", np.int32, 1)])\n",
      "\u001b[2m\u001b[36m(pid=2012)\u001b[0m /home/ubuntu/.local/lib/python3.7/site-packages/tensorboard/compat/tensorflow_stub/dtypes.py:550: FutureWarning: Passing (type, 1) or '1type' as a synonym of type is deprecated; in a future version of numpy, it will be understood as (type, (1,)) / '(1,)type'.\n",
      "\u001b[2m\u001b[36m(pid=2012)\u001b[0m   np_resource = np.dtype([(\"resource\", np.ubyte, 1)])\n"
     ]
    },
    {
     "name": "stdout",
     "output_type": "stream",
     "text": [
      "\u001b[2m\u001b[36m(pid=2014)\u001b[0m Inside covid19_components.py: 0 GPUs are available.\n",
      "\u001b[2m\u001b[36m(pid=2014)\u001b[0m No GPUs found! Running the simulation on a CPU.\n",
      "\u001b[2m\u001b[36m(pid=2014)\u001b[0m Inside covid19_env.py: 0 GPUs are available.\n",
      "\u001b[2m\u001b[36m(pid=2014)\u001b[0m No GPUs found! Running the simulation on a CPU.\n",
      "\u001b[2m\u001b[36m(pid=2012)\u001b[0m Inside covid19_components.py: 0 GPUs are available.\n",
      "\u001b[2m\u001b[36m(pid=2012)\u001b[0m No GPUs found! Running the simulation on a CPU.\n",
      "\u001b[2m\u001b[36m(pid=2012)\u001b[0m Inside covid19_env.py: 0 GPUs are available.\n",
      "\u001b[2m\u001b[36m(pid=2012)\u001b[0m No GPUs found! Running the simulation on a CPU.\n"
     ]
    },
    {
     "name": "stderr",
     "output_type": "stream",
     "text": [
      "2022-06-01 09:22:03,584\tINFO trainable.py:180 -- _setup took 10.258 seconds. If your trainable is slow to initialize, consider setting reuse_actors=True to reduce actor creation overheads.\n",
      "2022-06-01 09:22:03,584\tINFO trainable.py:217 -- Getting current IP.\n"
     ]
    }
   ],
   "source": [
    "# Create the PPO trainer.\n",
    "trainer = PPOTrainer(\n",
    "    env=RLlibEnvWrapper,\n",
    "    config=trainer_config,\n",
    "    )"
   ]
  },
  {
   "cell_type": "code",
   "execution_count": 10,
   "id": "30b07c25",
   "metadata": {},
   "outputs": [
    {
     "name": "stdout",
     "output_type": "stream",
     "text": [
      "********** Iter : 0 **********\n",
      "\u001b[2m\u001b[36m(pid=2014)\u001b[0m 2022-06-01 09:22:06,913\tWARNING sampler.py:404 -- More than 2020 observations for 21 env steps are buffered in the sampler. If this is more than you expected, check that that you set a horizon on your environment correctly and that it terminates at some point. Note: In multi-agent environments, `rollout_fragment_length` sets the batch size based on environment steps, not the steps of individual agents, which can result in unexpectedly large batches. Also, you may be in evaluation waiting for your Env to terminate (batch_mode=`complete_episodes`). Make sure it does at some point.\n",
      "episode_reward_mean: 366.9016107866969\n",
      "********** Iter : 1 **********\n",
      "episode_reward_mean: 366.95443770593096\n",
      "********** Iter : 2 **********\n",
      "episode_reward_mean: 366.93564053920204\n",
      "********** Iter : 3 **********\n",
      "episode_reward_mean: 366.9205303152104\n",
      "********** Iter : 4 **********\n",
      "episode_reward_mean: 366.9203711500739\n",
      "********** Iter : 5 **********\n",
      "episode_reward_mean: 366.9213930514029\n",
      "********** Iter : 6 **********\n",
      "episode_reward_mean: 366.91024863588007\n",
      "********** Iter : 7 **********\n",
      "episode_reward_mean: 366.91804997635643\n",
      "********** Iter : 8 **********\n",
      "episode_reward_mean: 366.91486841163737\n",
      "********** Iter : 9 **********\n",
      "episode_reward_mean: 366.90828570024956\n",
      "********** Iter : 10 **********\n",
      "episode_reward_mean: 366.90370616988525\n",
      "********** Iter : 11 **********\n",
      "episode_reward_mean: 366.9066153963078\n",
      "********** Iter : 12 **********\n",
      "episode_reward_mean: 366.9091745212616\n",
      "********** Iter : 13 **********\n",
      "episode_reward_mean: 366.89965101101893\n",
      "********** Iter : 14 **********\n",
      "episode_reward_mean: 366.90285667421585\n",
      "********** Iter : 15 **********\n",
      "episode_reward_mean: 366.89506288849276\n",
      "********** Iter : 16 **********\n",
      "episode_reward_mean: 366.8888169177762\n",
      "********** Iter : 17 **********\n",
      "episode_reward_mean: 366.89045105869394\n",
      "********** Iter : 18 **********\n",
      "episode_reward_mean: 366.8964120412558\n",
      "********** Iter : 19 **********\n",
      "episode_reward_mean: 366.89562695742075\n",
      "********** Iter : 20 **********\n",
      "episode_reward_mean: 366.8910427012467\n",
      "********** Iter : 21 **********\n",
      "episode_reward_mean: 366.8903330685547\n",
      "********** Iter : 22 **********\n",
      "episode_reward_mean: 366.8923540090182\n",
      "********** Iter : 23 **********\n",
      "episode_reward_mean: 366.89563423116203\n",
      "********** Iter : 24 **********\n",
      "episode_reward_mean: 366.89545123744193\n",
      "********** Iter : 25 **********\n",
      "episode_reward_mean: 366.9049049610296\n",
      "********** Iter : 26 **********\n",
      "episode_reward_mean: 366.90328329214776\n",
      "********** Iter : 27 **********\n",
      "episode_reward_mean: 366.89716065716055\n",
      "********** Iter : 28 **********\n",
      "episode_reward_mean: 366.8990135672361\n",
      "********** Iter : 29 **********\n",
      "episode_reward_mean: 366.91187465156986\n",
      "********** Iter : 30 **********\n",
      "episode_reward_mean: 366.9124903194159\n",
      "********** Iter : 31 **********\n",
      "episode_reward_mean: 366.91584997302607\n",
      "********** Iter : 32 **********\n",
      "episode_reward_mean: 366.92334928807844\n",
      "********** Iter : 33 **********\n",
      "episode_reward_mean: 366.9156736926093\n",
      "********** Iter : 34 **********\n",
      "episode_reward_mean: 366.9211849391712\n",
      "********** Iter : 35 **********\n",
      "episode_reward_mean: 366.9213867950229\n",
      "********** Iter : 36 **********\n",
      "episode_reward_mean: 366.9306762503387\n",
      "********** Iter : 37 **********\n",
      "episode_reward_mean: 366.93242993139313\n",
      "********** Iter : 38 **********\n",
      "episode_reward_mean: 366.9294293545133\n",
      "********** Iter : 39 **********\n",
      "episode_reward_mean: 366.92132141028384\n",
      "********** Iter : 40 **********\n",
      "episode_reward_mean: 366.91800753934956\n",
      "********** Iter : 41 **********\n",
      "episode_reward_mean: 366.91311515576376\n",
      "********** Iter : 42 **********\n",
      "episode_reward_mean: 366.91305119163\n",
      "********** Iter : 43 **********\n",
      "episode_reward_mean: 366.9142125088276\n",
      "********** Iter : 44 **********\n",
      "episode_reward_mean: 366.90659711769723\n",
      "********** Iter : 45 **********\n",
      "episode_reward_mean: 366.911171031725\n",
      "********** Iter : 46 **********\n",
      "episode_reward_mean: 366.9072346604217\n",
      "********** Iter : 47 **********\n",
      "episode_reward_mean: 366.9045175442984\n",
      "********** Iter : 48 **********\n",
      "episode_reward_mean: 366.9082359730462\n",
      "********** Iter : 49 **********\n",
      "episode_reward_mean: 366.9069157113713\n"
     ]
    }
   ],
   "source": [
    "NUM_ITERS = 50\n",
    "for iteration in range(NUM_ITERS):\n",
    "    print(f'********** Iter : {iteration} **********')\n",
    "    result = trainer.train()\n",
    "    print(f'''episode_reward_mean: {result.get('episode_reward_mean')}''')"
   ]
  },
  {
   "cell_type": "code",
   "execution_count": 11,
   "id": "7d87d22c",
   "metadata": {},
   "outputs": [
    {
     "data": {
      "text/plain": [
       "{'loc': [-1, -1],\n",
       " 'inventory': {},\n",
       " 'escrow': {},\n",
       " 'endogenous': {'ConsumedEnergy': array([0., 0., 0., 0., 0., 0., 0., 0., 0., 0., 0., 0., 0., 0., 0., 0., 0.,\n",
       "         0., 0., 0., 0., 0., 0., 0.]),\n",
       "  'GreenScore': 0.6888900000000001,\n",
       "  'GreenScoresLastDay': array([0.68889, 0.68889, 0.68889, 0.68889, 0.68889, 0.68889, 0.68889,\n",
       "         0.68889, 0.68889, 0.68889, 0.68889, 0.68889, 0.68889, 0.68889,\n",
       "         0.68889, 0.68889, 0.68889, 0.68889, 0.68889, 0.68889, 0.68889,\n",
       "         0.68889, 0.68889, 0.68889]),\n",
       "  'NewData': 0.0,\n",
       "  'RECsPrice': 0.0,\n",
       "  'TotalData': 0.0,\n",
       "  'ReliabilityScore': 0.3,\n",
       "  'TotalScore': 0.3,\n",
       "  'EnergyPrice': 0.115,\n",
       "  'InitialGreenScore': 0.68889}}"
      ]
     },
     "execution_count": 11,
     "metadata": {},
     "output_type": "execute_result"
    }
   ],
   "source": [
    "env_obj.env.get_agent(3).state"
   ]
  },
  {
   "cell_type": "code",
   "execution_count": 12,
   "id": "d7e6256f",
   "metadata": {},
   "outputs": [],
   "source": [
    "def generate_rollout_from_current_trainer_policy(\n",
    "    trainer, \n",
    "    env_obj,\n",
    "    num_dense_logs=1\n",
    "):\n",
    "    dense_logs = {}\n",
    "    for idx in range(num_dense_logs):\n",
    "        # Set initial states\n",
    "        agent_states = {}\n",
    "        for agent_idx in range(env_obj.env.n_agents):\n",
    "            agent_states[str(agent_idx)] = trainer.get_policy(\"a\").get_initial_state()\n",
    "        planner_states = trainer.get_policy(\"p\").get_initial_state()   \n",
    "\n",
    "        # Play out the episode\n",
    "        obs = env_obj.reset(force_dense_logging=True)\n",
    "        for t in range(env_obj.env.episode_length):\n",
    "            actions = {}\n",
    "            for agent_idx in range(env_obj.env.n_agents):\n",
    "                # Use the trainer object directly to sample actions for each agent\n",
    "                actions[str(agent_idx)] = trainer.compute_action(\n",
    "                    obs[str(agent_idx)], \n",
    "                    agent_states[str(agent_idx)], \n",
    "                    policy_id=\"a\",\n",
    "                    full_fetch=False\n",
    "                )\n",
    "\n",
    "            # Action sampling for the planner\n",
    "            actions[\"p\"] = trainer.compute_action(\n",
    "                obs['p'], \n",
    "                planner_states, \n",
    "                policy_id='p',\n",
    "                full_fetch=False\n",
    "            )\n",
    "\n",
    "            obs, rew, done, info = env_obj.step(actions)        \n",
    "            if done['__all__']:\n",
    "                break\n",
    "        dense_logs[idx] = env_obj.env.dense_log\n",
    "    return dense_logs"
   ]
  },
  {
   "cell_type": "code",
   "execution_count": 13,
   "id": "b1fbc5f7",
   "metadata": {},
   "outputs": [],
   "source": [
    "dense_logs = generate_rollout_from_current_trainer_policy(\n",
    "    trainer, \n",
    "    env_obj,\n",
    "    num_dense_logs=1\n",
    ")"
   ]
  },
  {
   "cell_type": "code",
   "execution_count": 14,
   "id": "d82a2faa",
   "metadata": {},
   "outputs": [],
   "source": [
    "timesteps = len(dense_logs[0]['states'])"
   ]
  },
  {
   "cell_type": "code",
   "execution_count": 15,
   "id": "079e73df",
   "metadata": {},
   "outputs": [],
   "source": [
    "import numpy as np"
   ]
  },
  {
   "cell_type": "code",
   "execution_count": 16,
   "id": "7a70fd50",
   "metadata": {},
   "outputs": [],
   "source": [
    "avg_green_scores = [np.mean(np.array([dense_logs[0]['states'][i][k]['endogenous']['GreenScore'] for k in dense_logs[0]['states'][i].keys() if k != 'p'])) for i in range(0,timesteps)]"
   ]
  },
  {
   "cell_type": "code",
   "execution_count": 17,
   "id": "0b95e6f9",
   "metadata": {},
   "outputs": [],
   "source": [
    "def reliability_scores(agent_reliability_scores, agent_storage):\n",
    "    if np.sum(agent_storage) == 0:\n",
    "        return 0.0\n",
    "    return np.sum(agent_reliability_scores * agent_storage) / np.sum(agent_storage)\n",
    "\n",
    "\n",
    "def green_scores(agent_green_scores, agent_storage):\n",
    "    if np.sum(agent_storage) == 0:\n",
    "        return 0.0\n",
    "    return np.sum(agent_green_scores * agent_storage) / np.sum(agent_storage)"
   ]
  },
  {
   "cell_type": "code",
   "execution_count": 18,
   "id": "73ea2935",
   "metadata": {},
   "outputs": [],
   "source": [
    "system_greenness = []\n",
    "for i in range(0,timesteps):  \n",
    "    agent_green_scores = np.array(\n",
    "        [dense_logs[0]['states'][i][k]['endogenous']['GreenScore'] for k in dense_logs[0]['states'][i].keys() if k != 'p']\n",
    "    )\n",
    "    agent_data = np.array(\n",
    "        [dense_logs[0]['states'][i][k]['endogenous']['TotalData'] for k in dense_logs[0]['states'][i].keys() if k != 'p']\n",
    "    )\n",
    "\n",
    "    rel = green_scores(agent_green_scores, agent_data)\n",
    "    system_greenness.append(rel)"
   ]
  },
  {
   "cell_type": "code",
   "execution_count": 19,
   "id": "fa8970c5",
   "metadata": {},
   "outputs": [],
   "source": [
    "system_reliability = []\n",
    "for i in range(0,timesteps):  \n",
    "    agent_reliability_scores = np.array(\n",
    "        [dense_logs[0]['states'][i][k]['endogenous']['ReliabilityScore'] for k in dense_logs[0]['states'][i].keys() if k != 'p']\n",
    "    )\n",
    "    agent_data = np.array(\n",
    "        [dense_logs[0]['states'][i][k]['endogenous']['TotalData'] for k in dense_logs[0]['states'][i].keys() if k != 'p']\n",
    "    )\n",
    "\n",
    "    rel = reliability_scores(agent_reliability_scores, agent_data)\n",
    "    system_reliability.append(rel)"
   ]
  },
  {
   "cell_type": "code",
   "execution_count": 20,
   "id": "c0c97727",
   "metadata": {},
   "outputs": [],
   "source": [
    "agent_0_green_scores = [log[\"0\"][\"endogenous\"][\"GreenScore\"] for log in dense_logs[0]['states']]\n",
    "agent_1_green_scores = [log[\"1\"][\"endogenous\"][\"GreenScore\"] for log in dense_logs[0]['states']]\n",
    "agent_2_green_scores = [log[\"2\"][\"endogenous\"][\"GreenScore\"] for log in dense_logs[0]['states']]\n",
    "agent_3_green_scores = [log[\"3\"][\"endogenous\"][\"GreenScore\"] for log in dense_logs[0]['states']]"
   ]
  },
  {
   "cell_type": "code",
   "execution_count": 21,
   "id": "f7221a0a",
   "metadata": {},
   "outputs": [],
   "source": [
    "agent_0_rel_scores = [log[\"0\"][\"endogenous\"][\"ReliabilityScore\"] for log in dense_logs[0]['states']]\n",
    "agent_1_rel_scores = [log[\"1\"][\"endogenous\"][\"ReliabilityScore\"] for log in dense_logs[0]['states']]\n",
    "agent_2_rel_scores = [log[\"2\"][\"endogenous\"][\"ReliabilityScore\"] for log in dense_logs[0]['states']]\n",
    "agent_3_rel_scores = [log[\"3\"][\"endogenous\"][\"ReliabilityScore\"] for log in dense_logs[0]['states']]"
   ]
  },
  {
   "cell_type": "code",
   "execution_count": 22,
   "id": "8b8b05cf",
   "metadata": {},
   "outputs": [],
   "source": [
    "agent_0_score = [log[\"0\"][\"endogenous\"][\"TotalScore\"] for log in dense_logs[0]['states']]\n",
    "agent_1_score = [log[\"1\"][\"endogenous\"][\"TotalScore\"] for log in dense_logs[0]['states']]\n",
    "agent_2_score = [log[\"2\"][\"endogenous\"][\"TotalScore\"] for log in dense_logs[0]['states']]\n",
    "agent_3_score = [log[\"3\"][\"endogenous\"][\"TotalScore\"] for log in dense_logs[0]['states']]"
   ]
  },
  {
   "cell_type": "code",
   "execution_count": 23,
   "id": "e339d422",
   "metadata": {},
   "outputs": [],
   "source": [
    "agent_0_data = [log[\"0\"][\"endogenous\"][\"TotalData\"] for log in dense_logs[0]['states']]\n",
    "agent_1_data = [log[\"1\"][\"endogenous\"][\"TotalData\"] for log in dense_logs[0]['states']]\n",
    "agent_2_data = [log[\"2\"][\"endogenous\"][\"TotalData\"] for log in dense_logs[0]['states']]\n",
    "agent_3_data = [log[\"3\"][\"endogenous\"][\"TotalData\"] for log in dense_logs[0]['states']]"
   ]
  },
  {
   "cell_type": "code",
   "execution_count": 24,
   "id": "d092834f",
   "metadata": {},
   "outputs": [
    {
     "data": {
      "image/png": "[encoded data removed]",
      "text/plain": [
       "<Figure size 432x288 with 1 Axes>"
      ]
     },
     "metadata": {
      "needs_background": "light"
     },
     "output_type": "display_data"
    }
   ],
   "source": [
    "import matplotlib.pyplot as plt\n",
    "import numpy as np\n",
    "\n",
    "plt.plot(np.arange(0,timesteps),agent_0_green_scores, label=\"Agent 0\")\n",
    "plt.plot(np.arange(0,timesteps),agent_1_green_scores, label=\"Agent 1\")\n",
    "plt.plot(np.arange(0,timesteps),agent_2_green_scores, label=\"Agent 2\")\n",
    "plt.plot(np.arange(0,timesteps),agent_3_green_scores, label=\"Agent 3\")\n",
    "plt.title('Miner Green Scores')\n",
    "plt.legend()\n",
    "plt.xlabel('Timesteps')\n",
    "plt.ylabel('Green Scores')\n",
    "plt.savefig(\"miners_green_scores_0_importance_50_epochs.png\")\n",
    "plt.show()"
   ]
  },
  {
   "cell_type": "code",
   "execution_count": 25,
   "id": "87742f36",
   "metadata": {},
   "outputs": [
    {
     "data": {
      "image/png": "[encoded data removed]",
      "text/plain": [
       "<Figure size 432x288 with 1 Axes>"
      ]
     },
     "metadata": {
      "needs_background": "light"
     },
     "output_type": "display_data"
    }
   ],
   "source": [
    "plt.plot(np.arange(0,timesteps),agent_0_score, label=\"Agent 0\")\n",
    "plt.plot(np.arange(0,timesteps),agent_1_score, label=\"Agent 1\")\n",
    "plt.plot(np.arange(0,timesteps),agent_2_score, label=\"Agent 2\")\n",
    "plt.plot(np.arange(0,timesteps),agent_3_score, label=\"Agent 3\")\n",
    "plt.title('Miner Total Scores')\n",
    "plt.legend()\n",
    "plt.xlabel('Timesteps')\n",
    "plt.ylabel('Reliability Scores')\n",
    "plt.savefig(\"miners_total_scores_0_importance_50_epochs.png\")\n",
    "plt.show()"
   ]
  },
  {
   "cell_type": "code",
   "execution_count": 26,
   "id": "9f6b555d",
   "metadata": {},
   "outputs": [
    {
     "data": {
      "image/png": "[encoded data removed]",
      "text/plain": [
       "<Figure size 432x288 with 1 Axes>"
      ]
     },
     "metadata": {
      "needs_background": "light"
     },
     "output_type": "display_data"
    }
   ],
   "source": [
    "plt.plot(np.arange(0,timesteps),agent_0_score, label=\"Agent 0\")\n",
    "plt.plot(np.arange(0,timesteps),agent_1_score, label=\"Agent 1\")\n",
    "plt.plot(np.arange(0,timesteps),agent_2_score, label=\"Agent 2\")\n",
    "plt.plot(np.arange(0,timesteps),agent_3_score, label=\"Agent 3\")\n",
    "plt.title('Miner Total Scores')\n",
    "plt.legend()\n",
    "plt.xlabel('Timesteps')\n",
    "plt.ylabel('Reliability Scores')\n",
    "plt.savefig(\"miners_total_scores_0_importance_50_epochs.png\")\n",
    "plt.show()"
   ]
  },
  {
   "cell_type": "code",
   "execution_count": 27,
   "id": "44147fc8",
   "metadata": {},
   "outputs": [
    {
     "data": {
      "image/png": "[encoded data removed]",
      "text/plain": [
       "<Figure size 432x288 with 1 Axes>"
      ]
     },
     "metadata": {
      "needs_background": "light"
     },
     "output_type": "display_data"
    }
   ],
   "source": [
    "plt.plot(np.arange(0,timesteps),agent_0_data, label=\"Agent 0\")\n",
    "plt.plot(np.arange(0,timesteps),agent_1_data, label=\"Agent 1\")\n",
    "plt.plot(np.arange(0,timesteps),agent_2_data, label=\"Agent 2\")\n",
    "plt.plot(np.arange(0,timesteps),agent_3_data, label=\"Agent 3\")\n",
    "plt.title('Total Data Stored By Each Miner')\n",
    "plt.legend()\n",
    "plt.xlabel('Timesteps')\n",
    "plt.ylabel('Data Storage')\n",
    "plt.savefig(\"miners_data_stored_0_importance_50_epochs.png\")\n",
    "plt.show()"
   ]
  },
  {
   "cell_type": "code",
   "execution_count": 28,
   "id": "6b57bfff",
   "metadata": {},
   "outputs": [
    {
     "data": {
      "image/png": "[encoded data removed]",
      "text/plain": [
       "<Figure size 432x288 with 1 Axes>"
      ]
     },
     "metadata": {
      "needs_background": "light"
     },
     "output_type": "display_data"
    }
   ],
   "source": [
    "plt.plot(np.arange(0,timesteps),avg_green_scores)\n",
    "plt.xlabel('Timesteps')\n",
    "plt.ylabel('Average Green Score of the System over Time')\n",
    "plt.savefig(\"avg_miner_green_score_0_importance_50_epochs.png\")\n",
    "plt.show()"
   ]
  },
  {
   "cell_type": "code",
   "execution_count": 29,
   "id": "7b2e2c8e",
   "metadata": {},
   "outputs": [
    {
     "data": {
      "image/png": "[encoded data removed]",
      "text/plain": [
       "<Figure size 432x288 with 1 Axes>"
      ]
     },
     "metadata": {
      "needs_background": "light"
     },
     "output_type": "display_data"
    }
   ],
   "source": [
    "plt.plot(np.arange(0,timesteps),system_reliability)\n",
    "plt.xlabel('Timesteps')\n",
    "plt.ylabel('Average Reliability of the System over Time')\n",
    "plt.savefig(\"system_reliability_0_importance_50_epochs.png\")\n",
    "plt.show()"
   ]
  },
  {
   "cell_type": "code",
   "execution_count": 34,
   "id": "5295650a",
   "metadata": {},
   "outputs": [
    {
     "data": {
      "text/plain": [
       "[0.0,\n",
       " 0.19771675925925924,\n",
       " 0.4217455043859649,\n",
       " 0.6304851284673005,\n",
       " 0.6542907372908616,\n",
       " 0.6809801278976041,\n",
       " 0.6545965175835797,\n",
       " 0.6379466514322696,\n",
       " 0.61915689286553,\n",
       " 0.650934045120464,\n",
       " 0.6596054174549199,\n",
       " 0.6610970783451141,\n",
       " 0.6661606310967122,\n",
       " 0.6699264005893374,\n",
       " 0.6569220041462321,\n",
       " 0.6676385183121312,\n",
       " 0.6698836174919914,\n",
       " 0.6713828464308784,\n",
       " 0.6757432272148888,\n",
       " 0.6780393742061751,\n",
       " 0.6839665097189123,\n",
       " 0.6689941262442166,\n",
       " 0.6760404343826597,\n",
       " 0.6682888455275743,\n",
       " 0.6572829196328207,\n",
       " 0.6625539437387358,\n",
       " 0.6583136036859351,\n",
       " 0.6536574463834682,\n",
       " 0.6440583061430774,\n",
       " 0.642962817780098,\n",
       " 0.6451962829088398,\n",
       " 0.6551089935181383,\n",
       " 0.6589579514622048,\n",
       " 0.6528332742523325,\n",
       " 0.6508086795698953,\n",
       " 0.6570941100955767,\n",
       " 0.6448112258617393,\n",
       " 0.6533019661632157,\n",
       " 0.6539774290872763,\n",
       " 0.6521042489983995,\n",
       " 0.663664528423315,\n",
       " 0.6586356659908447,\n",
       " 0.652447944482374,\n",
       " 0.6494943246538725,\n",
       " 0.650333550116636,\n",
       " 0.6607998670643243,\n",
       " 0.6692191817046659,\n",
       " 0.6707814848581789,\n",
       " 0.6778016321849045,\n",
       " 0.6693465616821125,\n",
       " 0.6681789345690646,\n",
       " 0.6663245300154549,\n",
       " 0.6695334261197574,\n",
       " 0.671302072312696,\n",
       " 0.6613563584990086,\n",
       " 0.653057557614037,\n",
       " 0.6533439244797716,\n",
       " 0.6631830756876117,\n",
       " 0.6598568725959671,\n",
       " 0.6616505853518111,\n",
       " 0.6712706331624679,\n",
       " 0.6721076061716899,\n",
       " 0.6700014972291042,\n",
       " 0.666768489218067,\n",
       " 0.6654491728190712,\n",
       " 0.6742089503035711,\n",
       " 0.682084422539916,\n",
       " 0.6901281728310538,\n",
       " 0.6880663349321131,\n",
       " 0.689628472459988,\n",
       " 0.6819445838423044,\n",
       " 0.6916207247503835,\n",
       " 0.6905840334810496,\n",
       " 0.6820825553612465,\n",
       " 0.6912452552800697,\n",
       " 0.6902663590345185,\n",
       " 0.7065493299019096,\n",
       " 0.7007108231743505,\n",
       " 0.7031106817683273,\n",
       " 0.6940740436791922,\n",
       " 0.691538872583981,\n",
       " 0.6771045727497983,\n",
       " 0.6685477956433391,\n",
       " 0.6717603419386967,\n",
       " 0.6722220051839699,\n",
       " 0.6774446419949949,\n",
       " 0.6779463823908647,\n",
       " 0.6821062842387068,\n",
       " 0.6763501758439571,\n",
       " 0.671613959594924,\n",
       " 0.6639521241817605,\n",
       " 0.6482718634102129,\n",
       " 0.641245336375749,\n",
       " 0.6375790245756434,\n",
       " 0.6372838251791799,\n",
       " 0.6389977910810051,\n",
       " 0.6376289179518011,\n",
       " 0.6404528555512775,\n",
       " 0.6361935194802621,\n",
       " 0.6371674712989366,\n",
       " 0.6306516512511191,\n",
       " 0.6371091533545985,\n",
       " 0.6327953554127391,\n",
       " 0.624165245530321,\n",
       " 0.6277000995313051,\n",
       " 0.634562587754569,\n",
       " 0.6371990779275404,\n",
       " 0.6395827860801869,\n",
       " 0.6481930599717832,\n",
       " 0.6492182966324754,\n",
       " 0.6466681081346921,\n",
       " 0.6469705438800234,\n",
       " 0.6481392636801598,\n",
       " 0.6501818985199631,\n",
       " 0.6533444424254893,\n",
       " 0.6600199228487731,\n",
       " 0.6635181705675985,\n",
       " 0.6550970322663349,\n",
       " 0.6581853041849715,\n",
       " 0.6600658813114679,\n",
       " 0.659093442538615,\n",
       " 0.6495869251534262,\n",
       " 0.6514596503797592,\n",
       " 0.641927505023677,\n",
       " 0.639898000532799,\n",
       " 0.6469216712001267,\n",
       " 0.643967507347282,\n",
       " 0.6562140533423882,\n",
       " 0.6613717842882895,\n",
       " 0.6586354488451431,\n",
       " 0.661137960360656,\n",
       " 0.6550497197902592,\n",
       " 0.6595875210837839,\n",
       " 0.6591887486010376,\n",
       " 0.661733795557065,\n",
       " 0.6720925452294039,\n",
       " 0.6788533813598916,\n",
       " 0.6796047830526764,\n",
       " 0.679588363979786,\n",
       " 0.6784844991327805,\n",
       " 0.678421593603468,\n",
       " 0.6783155899156774,\n",
       " 0.6767164125796605,\n",
       " 0.6752936776944526,\n",
       " 0.6638444354433939,\n",
       " 0.6713138565862006,\n",
       " 0.6702450934534616,\n",
       " 0.676467062362194,\n",
       " 0.6764664280439928,\n",
       " 0.6721540361156282,\n",
       " 0.6664295461689815,\n",
       " 0.6591325964397285,\n",
       " 0.6413780315258663,\n",
       " 0.651066365568855,\n",
       " 0.6489011910013767,\n",
       " 0.6443200593648915,\n",
       " 0.6464337070676913,\n",
       " 0.6444757755277868,\n",
       " 0.6378557955221458,\n",
       " 0.6294681722585137,\n",
       " 0.6311819677915526,\n",
       " 0.6338144115689964,\n",
       " 0.6354266297280855,\n",
       " 0.6334974116693584,\n",
       " 0.641029854209137,\n",
       " 0.6407416956957376,\n",
       " 0.637888559625571,\n",
       " 0.630957275342548,\n",
       " 0.6261665068621882,\n",
       " 0.6306276572804135,\n",
       " 0.6315970772235641,\n",
       " 0.6415307718531172,\n",
       " 0.6442683010537014,\n",
       " 0.6382458314176888,\n",
       " 0.641908496896694,\n",
       " 0.6400190724461036,\n",
       " 0.6529014346765775,\n",
       " 0.6447926135308119,\n",
       " 0.6371115997883096,\n",
       " 0.6425320791188421,\n",
       " 0.6487022431756422,\n",
       " 0.6494907769845042,\n",
       " 0.6485114668533632,\n",
       " 0.6508897110248909,\n",
       " 0.6500517570706841,\n",
       " 0.6437570129076152,\n",
       " 0.6440339488856472,\n",
       " 0.6464337726788235,\n",
       " 0.6471240861909977,\n",
       " 0.6462519695200981,\n",
       " 0.6405234423062945,\n",
       " 0.6465033700651089,\n",
       " 0.6467916962729955,\n",
       " 0.6358081427357339,\n",
       " 0.6390554622457087,\n",
       " 0.6379389425545178,\n",
       " 0.6347045563400404,\n",
       " 0.6382353189528666,\n",
       " 0.6386124487941763,\n",
       " 0.6458959242443915,\n",
       " 0.6467472789439699,\n",
       " 0.6462994116014995,\n",
       " 0.6549548349815395,\n",
       " 0.6545802011444812,\n",
       " 0.6434464431099389,\n",
       " 0.6482469074889755,\n",
       " 0.6514389429387144,\n",
       " 0.6496383391403836,\n",
       " 0.6567234529582757,\n",
       " 0.6578780739272212,\n",
       " 0.6608982289435903,\n",
       " 0.6569780852729441,\n",
       " 0.6509740486167596,\n",
       " 0.6495105365654176,\n",
       " 0.6534610972364842,\n",
       " 0.6555158949408495,\n",
       " 0.6569584570218042,\n",
       " 0.6534387605420525,\n",
       " 0.6527944703048121,\n",
       " 0.6581919337986502,\n",
       " 0.6554163393250555,\n",
       " 0.6528504188543829,\n",
       " 0.6479682583168286,\n",
       " 0.6441645815686471,\n",
       " 0.6441662146846873,\n",
       " 0.6536216696195157,\n",
       " 0.6575760420583979,\n",
       " 0.6547328777140181,\n",
       " 0.6580256513157349,\n",
       " 0.6588069997016204,\n",
       " 0.6534429821762942,\n",
       " 0.6480813513744093,\n",
       " 0.6504303072790373,\n",
       " 0.6498193621124816,\n",
       " 0.652628285133873,\n",
       " 0.6546650161373563,\n",
       " 0.6649208542599098,\n",
       " 0.6662747190560718,\n",
       " 0.6642862921756983,\n",
       " 0.6641768623104002,\n",
       " 0.6610814789954361,\n",
       " 0.6541504347902236,\n",
       " 0.6512804882226866,\n",
       " 0.6517742111718481,\n",
       " 0.6518386279420344,\n",
       " 0.658556920450522,\n",
       " 0.6596016863776671,\n",
       " 0.6593514869153886,\n",
       " 0.6546146630730884,\n",
       " 0.6547437072734398,\n",
       " 0.6573366673109642,\n",
       " 0.6647489717854844,\n",
       " 0.6658771946992259,\n",
       " 0.6632377103697427,\n",
       " 0.6671793406528337,\n",
       " 0.6649693903841852,\n",
       " 0.6630242892748617,\n",
       " 0.6622000145961991,\n",
       " 0.6727628566114316,\n",
       " 0.6707507496645576,\n",
       " 0.66291874473322,\n",
       " 0.674131573919581,\n",
       " 0.6773419637534425,\n",
       " 0.6716007138626298,\n",
       " 0.6783231384286114,\n",
       " 0.6819959488862025,\n",
       " 0.6756503589427111,\n",
       " 0.6656655456182362,\n",
       " 0.6619762227436518,\n",
       " 0.6559658580945864,\n",
       " 0.6574447604249192,\n",
       " 0.6571449010094773,\n",
       " 0.6552667810809545,\n",
       " 0.6601127355590618,\n",
       " 0.667107297448797,\n",
       " 0.6602379921185038,\n",
       " 0.6645809829628911,\n",
       " 0.6689952583538405,\n",
       " 0.6775561165453509,\n",
       " 0.6730849420467251,\n",
       " 0.6786612556733597,\n",
       " 0.6774271426391827,\n",
       " 0.6656568318133482,\n",
       " 0.6708913899964304,\n",
       " 0.676221928018578,\n",
       " 0.662502462327477,\n",
       " 0.6596246035982546,\n",
       " 0.66857703164794,\n",
       " 0.6706493752216341,\n",
       " 0.6680593294195494,\n",
       " 0.661658813947435,\n",
       " 0.6584732778816973,\n",
       " 0.6593259428436894,\n",
       " 0.6594788724784449,\n",
       " 0.6639157849655511,\n",
       " 0.6722980583029534,\n",
       " 0.6735078103590918,\n",
       " 0.6791693409899152,\n",
       " 0.6744373883812568,\n",
       " 0.6700841089834999,\n",
       " 0.664060650732006,\n",
       " 0.6618034775193886,\n",
       " 0.6566806053325795,\n",
       " 0.6578285079350153,\n",
       " 0.6533830745584297,\n",
       " 0.6562211331521884,\n",
       " 0.6714182075533313,\n",
       " 0.6673120920580152,\n",
       " 0.6577316460524053,\n",
       " 0.6643365607861406,\n",
       " 0.667150333339684,\n",
       " 0.6667989331406918,\n",
       " 0.6644352583700387,\n",
       " 0.6711895304678747,\n",
       " 0.6744799265149518,\n",
       " 0.6787414078400956,\n",
       " 0.6791005385640823,\n",
       " 0.6832355761859968,\n",
       " 0.6828304646879277,\n",
       " 0.6779371914738868,\n",
       " 0.6726241184410612,\n",
       " 0.6680788137728023,\n",
       " 0.6725283982328247,\n",
       " 0.6747453831500405,\n",
       " 0.6767242402932986,\n",
       " 0.6779969500717073,\n",
       " 0.6786352661656431,\n",
       " 0.6824597588918252,\n",
       " 0.681124484002076,\n",
       " 0.6887361557789152,\n",
       " 0.6827205781344743,\n",
       " 0.6887441734677229,\n",
       " 0.6913634738804466,\n",
       " 0.6884987445665472,\n",
       " 0.6926497851477937,\n",
       " 0.6876246600287682,\n",
       " 0.6839567798045961]"
      ]
     },
     "execution_count": 34,
     "metadata": {},
     "output_type": "execute_result"
    }
   ],
   "source": [
    "system_greenness"
   ]
  },
  {
   "cell_type": "code",
   "execution_count": 31,
   "id": "c1d44770",
   "metadata": {},
   "outputs": [
    {
     "data": {
      "image/png": "[encoded data removed]",
      "text/plain": [
       "<Figure size 432x288 with 1 Axes>"
      ]
     },
     "metadata": {
      "needs_background": "light"
     },
     "output_type": "display_data"
    }
   ],
   "source": [
    "plt.plot(np.arange(0,timesteps),system_greenness)\n",
    "plt.xlabel('Timesteps')\n",
    "plt.ylabel('Average Green Score of the System over Time')\n",
    "plt.savefig(\"system_greenness_0_importance_50_epochs.png\")\n",
    "plt.show()"
   ]
  },
  {
   "cell_type": "code",
   "execution_count": 32,
   "id": "1f734456",
   "metadata": {},
   "outputs": [
    {
     "data": {
      "text/plain": [
       "{'0': {'BuyRecFromVirtualStore': 1},\n",
       " '1': {'BuyRecFromVirtualStore': 12},\n",
       " '2': {'BuyRecFromVirtualStore': 17},\n",
       " '3': {'BuyRecFromVirtualStore': 8},\n",
       " '4': {'BuyRecFromVirtualStore': 20},\n",
       " '5': {},\n",
       " '6': {'BuyRecFromVirtualStore': 2},\n",
       " '7': {'BuyRecFromVirtualStore': 17},\n",
       " '8': {'BuyRecFromVirtualStore': 6},\n",
       " '9': {'BuyRecFromVirtualStore': 5},\n",
       " '10': {'BuyRecFromVirtualStore': 12},\n",
       " '11': {'BuyRecFromVirtualStore': 19},\n",
       " '12': {'BuyRecFromVirtualStore': 21},\n",
       " '13': {'BuyRecFromVirtualStore': 21},\n",
       " '14': {'BuyRecFromVirtualStore': 15},\n",
       " '15': {'BuyRecFromVirtualStore': 11},\n",
       " '16': {'BuyRecFromVirtualStore': 21},\n",
       " '17': {'BuyRecFromVirtualStore': 18},\n",
       " '18': {'BuyRecFromVirtualStore': 6},\n",
       " '19': {'BuyRecFromVirtualStore': 19},\n",
       " '20': {'BuyRecFromVirtualStore': 20},\n",
       " '21': {'BuyRecFromVirtualStore': 11},\n",
       " '22': {'BuyRecFromVirtualStore': 2},\n",
       " '23': {'BuyRecFromVirtualStore': 17},\n",
       " '24': {},\n",
       " '25': {},\n",
       " '26': {'BuyRecFromVirtualStore': 18},\n",
       " '27': {'BuyRecFromVirtualStore': 21},\n",
       " '28': {'BuyRecFromVirtualStore': 4},\n",
       " '29': {'BuyRecFromVirtualStore': 16},\n",
       " '30': {'BuyRecFromVirtualStore': 16},\n",
       " '31': {'BuyRecFromVirtualStore': 21},\n",
       " '32': {'BuyRecFromVirtualStore': 6},\n",
       " '33': {'BuyRecFromVirtualStore': 9},\n",
       " '34': {'BuyRecFromVirtualStore': 12},\n",
       " '35': {'BuyRecFromVirtualStore': 10},\n",
       " '36': {'BuyRecFromVirtualStore': 18},\n",
       " '37': {'BuyRecFromVirtualStore': 5},\n",
       " '38': {'BuyRecFromVirtualStore': 14},\n",
       " '39': {'BuyRecFromVirtualStore': 9},\n",
       " '40': {'BuyRecFromVirtualStore': 1},\n",
       " '41': {'BuyRecFromVirtualStore': 2},\n",
       " '42': {'BuyRecFromVirtualStore': 3},\n",
       " '43': {'BuyRecFromVirtualStore': 11},\n",
       " '44': {'BuyRecFromVirtualStore': 16},\n",
       " '45': {'BuyRecFromVirtualStore': 8},\n",
       " '46': {'BuyRecFromVirtualStore': 19},\n",
       " '47': {'BuyRecFromVirtualStore': 13},\n",
       " '48': {'BuyRecFromVirtualStore': 7},\n",
       " '49': {'BuyRecFromVirtualStore': 3},\n",
       " '50': {'BuyRecFromVirtualStore': 16},\n",
       " '51': {'BuyRecFromVirtualStore': 11},\n",
       " '52': {'BuyRecFromVirtualStore': 1},\n",
       " '53': {'BuyRecFromVirtualStore': 12},\n",
       " '54': {'BuyRecFromVirtualStore': 21},\n",
       " '55': {'BuyRecFromVirtualStore': 8},\n",
       " '56': {'BuyRecFromVirtualStore': 14},\n",
       " '57': {},\n",
       " '58': {'BuyRecFromVirtualStore': 12},\n",
       " '59': {'BuyRecFromVirtualStore': 21},\n",
       " '60': {'BuyRecFromVirtualStore': 13},\n",
       " '61': {'BuyRecFromVirtualStore': 1},\n",
       " '62': {'BuyRecFromVirtualStore': 16},\n",
       " '63': {'BuyRecFromVirtualStore': 8},\n",
       " '64': {'BuyRecFromVirtualStore': 4},\n",
       " '65': {'BuyRecFromVirtualStore': 4},\n",
       " '66': {'BuyRecFromVirtualStore': 12},\n",
       " '67': {'BuyRecFromVirtualStore': 20},\n",
       " '68': {'BuyRecFromVirtualStore': 9},\n",
       " '69': {'BuyRecFromVirtualStore': 9},\n",
       " '70': {'BuyRecFromVirtualStore': 5},\n",
       " '71': {'BuyRecFromVirtualStore': 2},\n",
       " '72': {'BuyRecFromVirtualStore': 9},\n",
       " '73': {'BuyRecFromVirtualStore': 20},\n",
       " '74': {'BuyRecFromVirtualStore': 4},\n",
       " '75': {'BuyRecFromVirtualStore': 10},\n",
       " '76': {'BuyRecFromVirtualStore': 5},\n",
       " '77': {'BuyRecFromVirtualStore': 12},\n",
       " '78': {'BuyRecFromVirtualStore': 15},\n",
       " '79': {'BuyRecFromVirtualStore': 12},\n",
       " '80': {'BuyRecFromVirtualStore': 14},\n",
       " '81': {'BuyRecFromVirtualStore': 7},\n",
       " '82': {'BuyRecFromVirtualStore': 17},\n",
       " '83': {'BuyRecFromVirtualStore': 4},\n",
       " '84': {'BuyRecFromVirtualStore': 16},\n",
       " '85': {'BuyRecFromVirtualStore': 12},\n",
       " '86': {'BuyRecFromVirtualStore': 16},\n",
       " '87': {'BuyRecFromVirtualStore': 14},\n",
       " '88': {'BuyRecFromVirtualStore': 21},\n",
       " '89': {},\n",
       " '90': {'BuyRecFromVirtualStore': 6},\n",
       " '91': {'BuyRecFromVirtualStore': 4},\n",
       " '92': {'BuyRecFromVirtualStore': 12},\n",
       " '93': {'BuyRecFromVirtualStore': 7},\n",
       " '94': {'BuyRecFromVirtualStore': 6},\n",
       " '95': {'BuyRecFromVirtualStore': 20},\n",
       " '96': {'BuyRecFromVirtualStore': 18},\n",
       " '97': {'BuyRecFromVirtualStore': 9},\n",
       " '98': {'BuyRecFromVirtualStore': 16},\n",
       " '99': {'BuyRecFromVirtualStore': 15},\n",
       " 'p': {}}"
      ]
     },
     "execution_count": 32,
     "metadata": {},
     "output_type": "execute_result"
    }
   ],
   "source": [
    "dense_logs[0]['actions'][167]"
   ]
  },
  {
   "cell_type": "code",
   "execution_count": 33,
   "id": "6ac30c44",
   "metadata": {},
   "outputs": [],
   "source": [
    "# Shutdown Ray after use\n",
    "ray.shutdown()"
   ]
  },
  {
   "cell_type": "code",
   "execution_count": null,
   "id": "1e4a8540",
   "metadata": {},
   "outputs": [],
   "source": []
  }
 ],
 "metadata": {
  "kernelspec": {
   "display_name": "Python 3",
   "language": "python",
   "name": "python3"
  },
  "language_info": {
   "codemirror_mode": {
    "name": "ipython",
    "version": 3
   },
   "file_extension": ".py",
   "mimetype": "text/x-python",
   "name": "python",
   "nbconvert_exporter": "python",
   "pygments_lexer": "ipython3",
   "version": "3.7.13"
  }
 },
 "nbformat": 4,
 "nbformat_minor": 5
}
