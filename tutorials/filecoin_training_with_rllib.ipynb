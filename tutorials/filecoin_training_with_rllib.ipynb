{
 "cells": [
  {
   "cell_type": "code",
   "execution_count": 26,
   "id": "618c9afa",
   "metadata": {},
   "outputs": [],
   "source": [
    "# Define the configuration of the environment that will be built\n",
    "\n",
    "env_config_dict = {\n",
    "    # ===== SCENARIO CLASS =====\n",
    "    # Which Scenario class to use: the class's name in the Scenario Registry (foundation.scenarios).\n",
    "    # The environment object will be an instance of the Scenario class.\n",
    "    'scenario_name': 'filecoin-energy',\n",
    "    \n",
    "    # ===== COMPONENTS =====\n",
    "    # Which components to use (specified as list of (\"component_name\", {component_kwargs}) tuples).\n",
    "    #   \"component_name\" refers to the Component class's name in the Component Registry (foundation.components)\n",
    "    #   {component_kwargs} is a dictionary of kwargs passed to the Component class\n",
    "    # The order in which components reset, step, and generate obs follows their listed order below.\n",
    "    'components': [\n",
    "        # (1) Building houses\n",
    "        ('ChangeMinerSelectionPolicy', {}),\n",
    "        # (2) Trading collectible resources\n",
    "        ('BuyRECFromVirtualStore', {}),\n",
    "    ],\n",
    "    \n",
    "\n",
    "    # ===== STANDARD ARGUMENTS ======\n",
    "    # kwargs that are used by every Scenario class (i.e. defined in BaseEnvironment)\n",
    "    'n_agents': 4,          # Number of non-planner agents (must be > 1)\n",
    "    'world_size': [1, 1], # [Height, Width] of the env world\n",
    "    'episode_length': 100, # Number of timesteps per episode\n",
    "    \n",
    "    # In multi-action-mode, the policy selects an action for each action subspace (defined in component code).\n",
    "    # Otherwise, the policy selects only 1 action.\n",
    "    'multi_action_mode_agents': False,\n",
    "    'multi_action_mode_planner': False,\n",
    "    \n",
    "    # When flattening observations, concatenate scalar & vector observations before output.\n",
    "    # Otherwise, return observations with minimal processing.\n",
    "    'flatten_observations': False,\n",
    "    # When Flattening masks, concatenate each action subspace mask into a single array.\n",
    "    # Note: flatten_masks = True is required for masking action logits in the code below.\n",
    "    'flatten_masks': True,\n",
    "    'dense_log_frequency': 1\n",
    "}"
   ]
  },
  {
   "cell_type": "code",
   "execution_count": 27,
   "id": "029c36a0",
   "metadata": {},
   "outputs": [
    {
     "name": "stdout",
     "output_type": "stream",
     "text": [
      "[EnvWrapper] Spaces\n",
      "[EnvWrapper] Obs (a)   \n",
      "BuyRecFromVirtualStore-rec_price: (1,)\n",
      "action_mask    : (21,)\n",
      "time           : (1,)\n",
      "world-endogenous-ConsumedEnergy: (1,)\n",
      "world-endogenous-EnergyPrice: (1,)\n",
      "world-endogenous-GreenScore: (1,)\n",
      "world-endogenous-GreenScoresLastDay: (24,)\n",
      "world-endogenous-InitialGreenScore: (1,)\n",
      "world-endogenous-NewData: (1,)\n",
      "world-endogenous-RECsPrice: (1,)\n",
      "world-endogenous-ReliabilityScore: (1,)\n",
      "world-endogenous-TotalData: (1,)\n",
      "world-endogenous-TotalScore: (1,)\n",
      "\n",
      "\n",
      "[EnvWrapper] Obs (p)   \n",
      "action_mask    : (21,)\n",
      "time           : (1,)\n",
      "world-reliability: (1,)\n",
      "world-renewables: (1,)\n",
      "\n",
      "\n",
      "[EnvWrapper] Action (a) Discrete(21)\n",
      "[EnvWrapper] Action (p) Discrete(21)\n"
     ]
    }
   ],
   "source": [
    "from rllib.env_wrapper import RLlibEnvWrapper\n",
    "env_obj = RLlibEnvWrapper({\"env_config_dict\": env_config_dict}, verbose=True)"
   ]
  },
  {
   "cell_type": "code",
   "execution_count": 28,
   "id": "fe751b55",
   "metadata": {},
   "outputs": [],
   "source": [
    "import ray\n",
    "from ray.rllib.agents.ppo import PPOTrainer"
   ]
  },
  {
   "cell_type": "code",
   "execution_count": 29,
   "id": "9a826ce0",
   "metadata": {},
   "outputs": [],
   "source": [
    "policies = {\n",
    "    \"a\": (\n",
    "        None,  # uses default policy\n",
    "        env_obj.observation_space,\n",
    "        env_obj.action_space,\n",
    "        {}  # define a custom agent policy configuration.\n",
    "    ),\n",
    "    \"p\": (\n",
    "        None,  # uses default policy\n",
    "        env_obj.observation_space_pl,\n",
    "        env_obj.action_space_pl,\n",
    "        {}  # define a custom planner policy configuration.\n",
    "    )\n",
    "}\n",
    "\n",
    "# In foundation, all the agents have integer ids and the social planner has an id of \"p\"\n",
    "policy_mapping_fun = lambda i: \"a\" if str(i).isdigit() else \"p\"\n",
    "\n",
    "policies_to_train = [\"a\", \"p\"]"
   ]
  },
  {
   "cell_type": "code",
   "execution_count": 30,
   "id": "64331642",
   "metadata": {},
   "outputs": [],
   "source": [
    "trainer_config = {\n",
    "    \"multiagent\": {\n",
    "        \"policies\": policies,\n",
    "        \"policies_to_train\": policies_to_train,\n",
    "        \"policy_mapping_fn\": policy_mapping_fun,\n",
    "    }\n",
    "}"
   ]
  },
  {
   "cell_type": "code",
   "execution_count": 31,
   "id": "f2476f35",
   "metadata": {},
   "outputs": [],
   "source": [
    "trainer_config.update(\n",
    "    {\n",
    "        \"num_workers\": 2,\n",
    "        \"num_envs_per_worker\": 2,\n",
    "        # Other training parameters\n",
    "        \"train_batch_size\":  4000,\n",
    "        \"sgd_minibatch_size\": 4000,\n",
    "        \"num_sgd_iter\": 1\n",
    "    }\n",
    ")"
   ]
  },
  {
   "cell_type": "code",
   "execution_count": 32,
   "id": "33e6c665",
   "metadata": {},
   "outputs": [],
   "source": [
    "# We also add the \"num_envs_per_worker\" parameter for the env. wrapper to index the environments.\n",
    "env_config = {\n",
    "    \"env_config_dict\": env_config_dict,\n",
    "    \"num_envs_per_worker\": trainer_config.get('num_envs_per_worker'),   \n",
    "}\n",
    "\n",
    "trainer_config.update(\n",
    "    {\n",
    "        \"env_config\": env_config        \n",
    "    }\n",
    ")"
   ]
  },
  {
   "cell_type": "code",
   "execution_count": 33,
   "id": "cf127879",
   "metadata": {},
   "outputs": [
    {
     "name": "stderr",
     "output_type": "stream",
     "text": [
      "2022-05-25 12:19:40,947\tINFO resource_spec.py:212 -- Starting Ray with 8.74 GiB memory available for workers and up to 4.38 GiB for objects. You can adjust these settings with ray.init(memory=<bytes>, object_store_memory=<bytes>).\n",
      "2022-05-25 12:19:41,289\tINFO services.py:1148 -- View the Ray dashboard at \u001b[1m\u001b[32m127.0.0.1:8265\u001b[39m\u001b[22m\n"
     ]
    },
    {
     "data": {
      "text/plain": [
       "{'node_ip_address': '172.31.29.14',\n",
       " 'redis_address': '172.31.29.14:57997',\n",
       " 'object_store_address': '/tmp/ray/session_2022-05-25_12-19-40_946230_5728/sockets/plasma_store',\n",
       " 'raylet_socket_name': '/tmp/ray/session_2022-05-25_12-19-40_946230_5728/sockets/raylet',\n",
       " 'webui_url': '127.0.0.1:8265',\n",
       " 'session_dir': '/tmp/ray/session_2022-05-25_12-19-40_946230_5728'}"
      ]
     },
     "execution_count": 33,
     "metadata": {},
     "output_type": "execute_result"
    }
   ],
   "source": [
    "# Initialize Ray\n",
    "ray.init(webui_host=\"127.0.0.1\")"
   ]
  },
  {
   "cell_type": "code",
   "execution_count": 34,
   "id": "8f9c08a5",
   "metadata": {},
   "outputs": [
    {
     "name": "stdout",
     "output_type": "stream",
     "text": [
      "\u001b[2m\u001b[36m(pid=7689)\u001b[0m /home/ubuntu/.local/lib/python3.7/site-packages/tensorflow/python/framework/dtypes.py:516: FutureWarning: Passing (type, 1) or '1type' as a synonym of type is deprecated; in a future version of numpy, it will be understood as (type, (1,)) / '(1,)type'.\n",
      "\u001b[2m\u001b[36m(pid=7689)\u001b[0m   _np_qint8 = np.dtype([(\"qint8\", np.int8, 1)])\n",
      "\u001b[2m\u001b[36m(pid=7689)\u001b[0m /home/ubuntu/.local/lib/python3.7/site-packages/tensorflow/python/framework/dtypes.py:517: FutureWarning: Passing (type, 1) or '1type' as a synonym of type is deprecated; in a future version of numpy, it will be understood as (type, (1,)) / '(1,)type'.\n",
      "\u001b[2m\u001b[36m(pid=7689)\u001b[0m   _np_quint8 = np.dtype([(\"quint8\", np.uint8, 1)])\n",
      "\u001b[2m\u001b[36m(pid=7689)\u001b[0m /home/ubuntu/.local/lib/python3.7/site-packages/tensorflow/python/framework/dtypes.py:518: FutureWarning: Passing (type, 1) or '1type' as a synonym of type is deprecated; in a future version of numpy, it will be understood as (type, (1,)) / '(1,)type'.\n",
      "\u001b[2m\u001b[36m(pid=7689)\u001b[0m   _np_qint16 = np.dtype([(\"qint16\", np.int16, 1)])\n",
      "\u001b[2m\u001b[36m(pid=7689)\u001b[0m /home/ubuntu/.local/lib/python3.7/site-packages/tensorflow/python/framework/dtypes.py:519: FutureWarning: Passing (type, 1) or '1type' as a synonym of type is deprecated; in a future version of numpy, it will be understood as (type, (1,)) / '(1,)type'.\n",
      "\u001b[2m\u001b[36m(pid=7689)\u001b[0m   _np_quint16 = np.dtype([(\"quint16\", np.uint16, 1)])\n",
      "\u001b[2m\u001b[36m(pid=7689)\u001b[0m /home/ubuntu/.local/lib/python3.7/site-packages/tensorflow/python/framework/dtypes.py:520: FutureWarning: Passing (type, 1) or '1type' as a synonym of type is deprecated; in a future version of numpy, it will be understood as (type, (1,)) / '(1,)type'.\n",
      "\u001b[2m\u001b[36m(pid=7689)\u001b[0m   _np_qint32 = np.dtype([(\"qint32\", np.int32, 1)])\n",
      "\u001b[2m\u001b[36m(pid=7689)\u001b[0m /home/ubuntu/.local/lib/python3.7/site-packages/tensorflow/python/framework/dtypes.py:525: FutureWarning: Passing (type, 1) or '1type' as a synonym of type is deprecated; in a future version of numpy, it will be understood as (type, (1,)) / '(1,)type'.\n",
      "\u001b[2m\u001b[36m(pid=7689)\u001b[0m   np_resource = np.dtype([(\"resource\", np.ubyte, 1)])\n",
      "\u001b[2m\u001b[36m(pid=7687)\u001b[0m /home/ubuntu/.local/lib/python3.7/site-packages/tensorflow/python/framework/dtypes.py:516: FutureWarning: Passing (type, 1) or '1type' as a synonym of type is deprecated; in a future version of numpy, it will be understood as (type, (1,)) / '(1,)type'.\n",
      "\u001b[2m\u001b[36m(pid=7687)\u001b[0m   _np_qint8 = np.dtype([(\"qint8\", np.int8, 1)])\n",
      "\u001b[2m\u001b[36m(pid=7687)\u001b[0m /home/ubuntu/.local/lib/python3.7/site-packages/tensorflow/python/framework/dtypes.py:517: FutureWarning: Passing (type, 1) or '1type' as a synonym of type is deprecated; in a future version of numpy, it will be understood as (type, (1,)) / '(1,)type'.\n",
      "\u001b[2m\u001b[36m(pid=7687)\u001b[0m   _np_quint8 = np.dtype([(\"quint8\", np.uint8, 1)])\n",
      "\u001b[2m\u001b[36m(pid=7687)\u001b[0m /home/ubuntu/.local/lib/python3.7/site-packages/tensorflow/python/framework/dtypes.py:518: FutureWarning: Passing (type, 1) or '1type' as a synonym of type is deprecated; in a future version of numpy, it will be understood as (type, (1,)) / '(1,)type'.\n",
      "\u001b[2m\u001b[36m(pid=7687)\u001b[0m   _np_qint16 = np.dtype([(\"qint16\", np.int16, 1)])\n",
      "\u001b[2m\u001b[36m(pid=7687)\u001b[0m /home/ubuntu/.local/lib/python3.7/site-packages/tensorflow/python/framework/dtypes.py:519: FutureWarning: Passing (type, 1) or '1type' as a synonym of type is deprecated; in a future version of numpy, it will be understood as (type, (1,)) / '(1,)type'.\n",
      "\u001b[2m\u001b[36m(pid=7687)\u001b[0m   _np_quint16 = np.dtype([(\"quint16\", np.uint16, 1)])\n",
      "\u001b[2m\u001b[36m(pid=7687)\u001b[0m /home/ubuntu/.local/lib/python3.7/site-packages/tensorflow/python/framework/dtypes.py:520: FutureWarning: Passing (type, 1) or '1type' as a synonym of type is deprecated; in a future version of numpy, it will be understood as (type, (1,)) / '(1,)type'.\n",
      "\u001b[2m\u001b[36m(pid=7687)\u001b[0m   _np_qint32 = np.dtype([(\"qint32\", np.int32, 1)])\n",
      "\u001b[2m\u001b[36m(pid=7687)\u001b[0m /home/ubuntu/.local/lib/python3.7/site-packages/tensorflow/python/framework/dtypes.py:525: FutureWarning: Passing (type, 1) or '1type' as a synonym of type is deprecated; in a future version of numpy, it will be understood as (type, (1,)) / '(1,)type'.\n",
      "\u001b[2m\u001b[36m(pid=7687)\u001b[0m   np_resource = np.dtype([(\"resource\", np.ubyte, 1)])\n",
      "\u001b[2m\u001b[36m(pid=7689)\u001b[0m /home/ubuntu/.local/lib/python3.7/site-packages/tensorboard/compat/tensorflow_stub/dtypes.py:541: FutureWarning: Passing (type, 1) or '1type' as a synonym of type is deprecated; in a future version of numpy, it will be understood as (type, (1,)) / '(1,)type'.\n",
      "\u001b[2m\u001b[36m(pid=7689)\u001b[0m   _np_qint8 = np.dtype([(\"qint8\", np.int8, 1)])\n",
      "\u001b[2m\u001b[36m(pid=7689)\u001b[0m /home/ubuntu/.local/lib/python3.7/site-packages/tensorboard/compat/tensorflow_stub/dtypes.py:542: FutureWarning: Passing (type, 1) or '1type' as a synonym of type is deprecated; in a future version of numpy, it will be understood as (type, (1,)) / '(1,)type'.\n",
      "\u001b[2m\u001b[36m(pid=7689)\u001b[0m   _np_quint8 = np.dtype([(\"quint8\", np.uint8, 1)])\n",
      "\u001b[2m\u001b[36m(pid=7689)\u001b[0m /home/ubuntu/.local/lib/python3.7/site-packages/tensorboard/compat/tensorflow_stub/dtypes.py:543: FutureWarning: Passing (type, 1) or '1type' as a synonym of type is deprecated; in a future version of numpy, it will be understood as (type, (1,)) / '(1,)type'.\n",
      "\u001b[2m\u001b[36m(pid=7689)\u001b[0m   _np_qint16 = np.dtype([(\"qint16\", np.int16, 1)])\n",
      "\u001b[2m\u001b[36m(pid=7689)\u001b[0m /home/ubuntu/.local/lib/python3.7/site-packages/tensorboard/compat/tensorflow_stub/dtypes.py:544: FutureWarning: Passing (type, 1) or '1type' as a synonym of type is deprecated; in a future version of numpy, it will be understood as (type, (1,)) / '(1,)type'.\n",
      "\u001b[2m\u001b[36m(pid=7689)\u001b[0m   _np_quint16 = np.dtype([(\"quint16\", np.uint16, 1)])\n",
      "\u001b[2m\u001b[36m(pid=7689)\u001b[0m /home/ubuntu/.local/lib/python3.7/site-packages/tensorboard/compat/tensorflow_stub/dtypes.py:545: FutureWarning: Passing (type, 1) or '1type' as a synonym of type is deprecated; in a future version of numpy, it will be understood as (type, (1,)) / '(1,)type'.\n",
      "\u001b[2m\u001b[36m(pid=7689)\u001b[0m   _np_qint32 = np.dtype([(\"qint32\", np.int32, 1)])\n",
      "\u001b[2m\u001b[36m(pid=7689)\u001b[0m /home/ubuntu/.local/lib/python3.7/site-packages/tensorboard/compat/tensorflow_stub/dtypes.py:550: FutureWarning: Passing (type, 1) or '1type' as a synonym of type is deprecated; in a future version of numpy, it will be understood as (type, (1,)) / '(1,)type'.\n",
      "\u001b[2m\u001b[36m(pid=7689)\u001b[0m   np_resource = np.dtype([(\"resource\", np.ubyte, 1)])\n",
      "\u001b[2m\u001b[36m(pid=7687)\u001b[0m /home/ubuntu/.local/lib/python3.7/site-packages/tensorboard/compat/tensorflow_stub/dtypes.py:541: FutureWarning: Passing (type, 1) or '1type' as a synonym of type is deprecated; in a future version of numpy, it will be understood as (type, (1,)) / '(1,)type'.\n",
      "\u001b[2m\u001b[36m(pid=7687)\u001b[0m   _np_qint8 = np.dtype([(\"qint8\", np.int8, 1)])\n",
      "\u001b[2m\u001b[36m(pid=7687)\u001b[0m /home/ubuntu/.local/lib/python3.7/site-packages/tensorboard/compat/tensorflow_stub/dtypes.py:542: FutureWarning: Passing (type, 1) or '1type' as a synonym of type is deprecated; in a future version of numpy, it will be understood as (type, (1,)) / '(1,)type'.\n",
      "\u001b[2m\u001b[36m(pid=7687)\u001b[0m   _np_quint8 = np.dtype([(\"quint8\", np.uint8, 1)])\n",
      "\u001b[2m\u001b[36m(pid=7687)\u001b[0m /home/ubuntu/.local/lib/python3.7/site-packages/tensorboard/compat/tensorflow_stub/dtypes.py:543: FutureWarning: Passing (type, 1) or '1type' as a synonym of type is deprecated; in a future version of numpy, it will be understood as (type, (1,)) / '(1,)type'.\n",
      "\u001b[2m\u001b[36m(pid=7687)\u001b[0m   _np_qint16 = np.dtype([(\"qint16\", np.int16, 1)])\n",
      "\u001b[2m\u001b[36m(pid=7687)\u001b[0m /home/ubuntu/.local/lib/python3.7/site-packages/tensorboard/compat/tensorflow_stub/dtypes.py:544: FutureWarning: Passing (type, 1) or '1type' as a synonym of type is deprecated; in a future version of numpy, it will be understood as (type, (1,)) / '(1,)type'.\n",
      "\u001b[2m\u001b[36m(pid=7687)\u001b[0m   _np_quint16 = np.dtype([(\"quint16\", np.uint16, 1)])\n",
      "\u001b[2m\u001b[36m(pid=7687)\u001b[0m /home/ubuntu/.local/lib/python3.7/site-packages/tensorboard/compat/tensorflow_stub/dtypes.py:545: FutureWarning: Passing (type, 1) or '1type' as a synonym of type is deprecated; in a future version of numpy, it will be understood as (type, (1,)) / '(1,)type'.\n",
      "\u001b[2m\u001b[36m(pid=7687)\u001b[0m   _np_qint32 = np.dtype([(\"qint32\", np.int32, 1)])\n",
      "\u001b[2m\u001b[36m(pid=7687)\u001b[0m /home/ubuntu/.local/lib/python3.7/site-packages/tensorboard/compat/tensorflow_stub/dtypes.py:550: FutureWarning: Passing (type, 1) or '1type' as a synonym of type is deprecated; in a future version of numpy, it will be understood as (type, (1,)) / '(1,)type'.\n",
      "\u001b[2m\u001b[36m(pid=7687)\u001b[0m   np_resource = np.dtype([(\"resource\", np.ubyte, 1)])\n"
     ]
    },
    {
     "name": "stdout",
     "output_type": "stream",
     "text": [
      "\u001b[2m\u001b[36m(pid=7689)\u001b[0m Inside covid19_components.py: 0 GPUs are available.\n",
      "\u001b[2m\u001b[36m(pid=7689)\u001b[0m No GPUs found! Running the simulation on a CPU.\n",
      "\u001b[2m\u001b[36m(pid=7689)\u001b[0m Inside covid19_env.py: 0 GPUs are available.\n",
      "\u001b[2m\u001b[36m(pid=7689)\u001b[0m No GPUs found! Running the simulation on a CPU.\n",
      "\u001b[2m\u001b[36m(pid=7687)\u001b[0m Inside covid19_components.py: 0 GPUs are available.\n",
      "\u001b[2m\u001b[36m(pid=7687)\u001b[0m No GPUs found! Running the simulation on a CPU.\n",
      "\u001b[2m\u001b[36m(pid=7687)\u001b[0m Inside covid19_env.py: 0 GPUs are available.\n",
      "\u001b[2m\u001b[36m(pid=7687)\u001b[0m No GPUs found! Running the simulation on a CPU.\n"
     ]
    },
    {
     "name": "stderr",
     "output_type": "stream",
     "text": [
      "2022-05-25 12:19:53,261\tINFO trainable.py:180 -- _setup took 10.962 seconds. If your trainable is slow to initialize, consider setting reuse_actors=True to reduce actor creation overheads.\n",
      "2022-05-25 12:19:53,262\tINFO trainable.py:217 -- Getting current IP.\n"
     ]
    }
   ],
   "source": [
    "# Create the PPO trainer.\n",
    "trainer = PPOTrainer(\n",
    "    env=RLlibEnvWrapper,\n",
    "    config=trainer_config,\n",
    "    )"
   ]
  },
  {
   "cell_type": "code",
   "execution_count": 35,
   "id": "30b07c25",
   "metadata": {},
   "outputs": [
    {
     "name": "stdout",
     "output_type": "stream",
     "text": [
      "********** Iter : 0 **********\n",
      "episode_reward_mean: 1.60241198734763\n",
      "********** Iter : 1 **********\n",
      "episode_reward_mean: 1.5896337191391243\n",
      "********** Iter : 2 **********\n",
      "episode_reward_mean: 1.5588148426858637\n",
      "********** Iter : 3 **********\n",
      "episode_reward_mean: 1.5447436148719842\n",
      "********** Iter : 4 **********\n",
      "episode_reward_mean: 1.5493435638550443\n"
     ]
    }
   ],
   "source": [
    "NUM_ITERS = 5\n",
    "for iteration in range(NUM_ITERS):\n",
    "    print(f'********** Iter : {iteration} **********')\n",
    "    result = trainer.train()\n",
    "    print(f'''episode_reward_mean: {result.get('episode_reward_mean')}''')"
   ]
  },
  {
   "cell_type": "code",
   "execution_count": 11,
   "id": "7d87d22c",
   "metadata": {},
   "outputs": [
    {
     "data": {
      "text/plain": [
       "{'loc': [-1, -1],\n",
       " 'inventory': {},\n",
       " 'escrow': {},\n",
       " 'endogenous': {'ConsumedEnergy': 0.0,\n",
       "  'GreenScore': 0.28278,\n",
       "  'GreenScoresLastDay': array([0.28278, 0.28278, 0.28278, 0.28278, 0.28278, 0.28278, 0.28278,\n",
       "         0.28278, 0.28278, 0.28278, 0.28278, 0.28278, 0.28278, 0.28278,\n",
       "         0.28278, 0.28278, 0.28278, 0.28278, 0.28278, 0.28278, 0.28278,\n",
       "         0.28278, 0.28278, 0.28278]),\n",
       "  'NewData': 0.0,\n",
       "  'RECsPrice': 0.0,\n",
       "  'ReliabilityScore': 0.3,\n",
       "  'TotalData': 0.0,\n",
       "  'TotalScore': 0.3,\n",
       "  'EnergyPrice': 0.082,\n",
       "  'InitialGreenScore': 0.28278}}"
      ]
     },
     "execution_count": 11,
     "metadata": {},
     "output_type": "execute_result"
    }
   ],
   "source": [
    "env_obj.env.get_agent(3).state"
   ]
  },
  {
   "cell_type": "code",
   "execution_count": 36,
   "id": "d7e6256f",
   "metadata": {},
   "outputs": [],
   "source": [
    "def generate_rollout_from_current_trainer_policy(\n",
    "    trainer, \n",
    "    env_obj,\n",
    "    num_dense_logs=1\n",
    "):\n",
    "    dense_logs = {}\n",
    "    for idx in range(num_dense_logs):\n",
    "        # Set initial states\n",
    "        agent_states = {}\n",
    "        for agent_idx in range(env_obj.env.n_agents):\n",
    "            agent_states[str(agent_idx)] = trainer.get_policy(\"a\").get_initial_state()\n",
    "        planner_states = trainer.get_policy(\"p\").get_initial_state()   \n",
    "\n",
    "        # Play out the episode\n",
    "        obs = env_obj.reset(force_dense_logging=True)\n",
    "        for t in range(env_obj.env.episode_length):\n",
    "            actions = {}\n",
    "            for agent_idx in range(env_obj.env.n_agents):\n",
    "                # Use the trainer object directly to sample actions for each agent\n",
    "                actions[str(agent_idx)] = trainer.compute_action(\n",
    "                    obs[str(agent_idx)], \n",
    "                    agent_states[str(agent_idx)], \n",
    "                    policy_id=\"a\",\n",
    "                    full_fetch=False\n",
    "                )\n",
    "\n",
    "            # Action sampling for the planner\n",
    "            actions[\"p\"] = trainer.compute_action(\n",
    "                obs['p'], \n",
    "                planner_states, \n",
    "                policy_id='p',\n",
    "                full_fetch=False\n",
    "            )\n",
    "\n",
    "            obs, rew, done, info = env_obj.step(actions)        \n",
    "            if done['__all__']:\n",
    "                break\n",
    "        dense_logs[idx] = env_obj.env.dense_log\n",
    "    return dense_logs"
   ]
  },
  {
   "cell_type": "code",
   "execution_count": 37,
   "id": "b1fbc5f7",
   "metadata": {},
   "outputs": [],
   "source": [
    "dense_logs = generate_rollout_from_current_trainer_policy(\n",
    "    trainer, \n",
    "    env_obj,\n",
    "    num_dense_logs=1\n",
    ")"
   ]
  },
  {
   "cell_type": "code",
   "execution_count": 38,
   "id": "d82a2faa",
   "metadata": {},
   "outputs": [
    {
     "data": {
      "text/plain": [
       "{'0': {'loc': [-1, -1],\n",
       "  'inventory': {},\n",
       "  'escrow': {},\n",
       "  'endogenous': {'ConsumedEnergy': 0.0,\n",
       "   'GreenScore': 0.09710999999999999,\n",
       "   'GreenScoresLastDay': [0.09711,\n",
       "    0.09711,\n",
       "    0.09711,\n",
       "    0.09711,\n",
       "    0.09711,\n",
       "    0.09711,\n",
       "    0.09711,\n",
       "    0.09711,\n",
       "    0.09711,\n",
       "    0.09711,\n",
       "    0.09711,\n",
       "    0.09711,\n",
       "    0.09711,\n",
       "    0.09711,\n",
       "    0.09711,\n",
       "    0.09711,\n",
       "    0.09711,\n",
       "    0.09711,\n",
       "    0.09711,\n",
       "    0.09711,\n",
       "    0.09711,\n",
       "    0.09711,\n",
       "    0.09711,\n",
       "    0.09711],\n",
       "   'NewData': 0.0,\n",
       "   'RECsPrice': 0.0,\n",
       "   'ReliabilityScore': 0.75,\n",
       "   'TotalData': 0.0,\n",
       "   'TotalScore': 0.75,\n",
       "   'EnergyPrice': 0.097,\n",
       "   'InitialGreenScore': 0.09711}},\n",
       " '1': {'loc': [-1, -1],\n",
       "  'inventory': {},\n",
       "  'escrow': {},\n",
       "  'endogenous': {'ConsumedEnergy': 0.0,\n",
       "   'GreenScore': 0.0003,\n",
       "   'GreenScoresLastDay': [0.0003,\n",
       "    0.0003,\n",
       "    0.0003,\n",
       "    0.0003,\n",
       "    0.0003,\n",
       "    0.0003,\n",
       "    0.0003,\n",
       "    0.0003,\n",
       "    0.0003,\n",
       "    0.0003,\n",
       "    0.0003,\n",
       "    0.0003,\n",
       "    0.0003,\n",
       "    0.0003,\n",
       "    0.0003,\n",
       "    0.0003,\n",
       "    0.0003,\n",
       "    0.0003,\n",
       "    0.0003,\n",
       "    0.0003,\n",
       "    0.0003,\n",
       "    0.0003,\n",
       "    0.0003,\n",
       "    0.0003],\n",
       "   'NewData': 0.0,\n",
       "   'RECsPrice': 0.0,\n",
       "   'ReliabilityScore': 0.3,\n",
       "   'TotalData': 0.0,\n",
       "   'TotalScore': 0.3,\n",
       "   'EnergyPrice': 0.15,\n",
       "   'InitialGreenScore': 0.0003}},\n",
       " '2': {'loc': [-1, -1],\n",
       "  'inventory': {},\n",
       "  'escrow': {},\n",
       "  'endogenous': {'ConsumedEnergy': 0.0,\n",
       "   'GreenScore': 0.09710999999999999,\n",
       "   'GreenScoresLastDay': [0.09711,\n",
       "    0.09711,\n",
       "    0.09711,\n",
       "    0.09711,\n",
       "    0.09711,\n",
       "    0.09711,\n",
       "    0.09711,\n",
       "    0.09711,\n",
       "    0.09711,\n",
       "    0.09711,\n",
       "    0.09711,\n",
       "    0.09711,\n",
       "    0.09711,\n",
       "    0.09711,\n",
       "    0.09711,\n",
       "    0.09711,\n",
       "    0.09711,\n",
       "    0.09711,\n",
       "    0.09711,\n",
       "    0.09711,\n",
       "    0.09711,\n",
       "    0.09711,\n",
       "    0.09711,\n",
       "    0.09711],\n",
       "   'NewData': 0.0,\n",
       "   'RECsPrice': 0.0,\n",
       "   'ReliabilityScore': 0.3,\n",
       "   'TotalData': 0.0,\n",
       "   'TotalScore': 0.3,\n",
       "   'EnergyPrice': 0.097,\n",
       "   'InitialGreenScore': 0.09711}},\n",
       " '3': {'loc': [-1, -1],\n",
       "  'inventory': {},\n",
       "  'escrow': {},\n",
       "  'endogenous': {'ConsumedEnergy': 0.0,\n",
       "   'GreenScore': 0.21955,\n",
       "   'GreenScoresLastDay': [0.21955,\n",
       "    0.21955,\n",
       "    0.21955,\n",
       "    0.21955,\n",
       "    0.21955,\n",
       "    0.21955,\n",
       "    0.21955,\n",
       "    0.21955,\n",
       "    0.21955,\n",
       "    0.21955,\n",
       "    0.21955,\n",
       "    0.21955,\n",
       "    0.21955,\n",
       "    0.21955,\n",
       "    0.21955,\n",
       "    0.21955,\n",
       "    0.21955,\n",
       "    0.21955,\n",
       "    0.21955,\n",
       "    0.21955,\n",
       "    0.21955,\n",
       "    0.21955,\n",
       "    0.21955,\n",
       "    0.21955],\n",
       "   'NewData': 0.0,\n",
       "   'RECsPrice': 0.0,\n",
       "   'ReliabilityScore': 0.3,\n",
       "   'TotalData': 0.0,\n",
       "   'TotalScore': 0.3,\n",
       "   'EnergyPrice': 0.193,\n",
       "   'InitialGreenScore': 0.21955}},\n",
       " 'p': {'inventory': {},\n",
       "  'escrow': {},\n",
       "  'endogenous': {},\n",
       "  'GreenScoreImportance': 0}}"
      ]
     },
     "execution_count": 38,
     "metadata": {},
     "output_type": "execute_result"
    }
   ],
   "source": [
    "dense_logs[0]['states'][0]"
   ]
  },
  {
   "cell_type": "code",
   "execution_count": 39,
   "id": "63f072c0",
   "metadata": {},
   "outputs": [],
   "source": [
    "planner_gr_score_importances = [log[\"p\"][\"GreenScoreImportance\"] for log in dense_logs[0]['states']]"
   ]
  },
  {
   "cell_type": "code",
   "execution_count": 53,
   "id": "c0c97727",
   "metadata": {},
   "outputs": [],
   "source": [
    "agent_0_green_scores = [log[\"0\"][\"endogenous\"][\"GreenScore\"] for log in dense_logs[0]['states']]\n",
    "agent_1_green_scores = [log[\"1\"][\"endogenous\"][\"GreenScore\"] for log in dense_logs[0]['states']]\n",
    "agent_2_green_scores = [log[\"2\"][\"endogenous\"][\"GreenScore\"] for log in dense_logs[0]['states']]\n",
    "agent_3_green_scores = [log[\"3\"][\"endogenous\"][\"GreenScore\"] for log in dense_logs[0]['states']]"
   ]
  },
  {
   "cell_type": "code",
   "execution_count": 54,
   "id": "f7221a0a",
   "metadata": {},
   "outputs": [],
   "source": [
    "agent_0_rel_scores = [log[\"0\"][\"endogenous\"][\"ReliabilityScore\"] for log in dense_logs[0]['states']]\n",
    "agent_1_rel_scores = [log[\"1\"][\"endogenous\"][\"ReliabilityScore\"] for log in dense_logs[0]['states']]\n",
    "agent_2_rel_scores = [log[\"2\"][\"endogenous\"][\"ReliabilityScore\"] for log in dense_logs[0]['states']]\n",
    "agent_3_rel_scores = [log[\"3\"][\"endogenous\"][\"ReliabilityScore\"] for log in dense_logs[0]['states']]"
   ]
  },
  {
   "cell_type": "code",
   "execution_count": 55,
   "id": "8b8b05cf",
   "metadata": {},
   "outputs": [],
   "source": [
    "agent_0_score = [log[\"0\"][\"endogenous\"][\"TotalScore\"] for log in dense_logs[0]['states']]\n",
    "agent_1_score = [log[\"1\"][\"endogenous\"][\"TotalScore\"] for log in dense_logs[0]['states']]\n",
    "agent_2_score = [log[\"2\"][\"endogenous\"][\"TotalScore\"] for log in dense_logs[0]['states']]\n",
    "agent_3_score = [log[\"3\"][\"endogenous\"][\"TotalScore\"] for log in dense_logs[0]['states']]"
   ]
  },
  {
   "cell_type": "code",
   "execution_count": 56,
   "id": "e339d422",
   "metadata": {},
   "outputs": [],
   "source": [
    "agent_0_data = [log[\"0\"][\"endogenous\"][\"TotalData\"] for log in dense_logs[0]['states']]\n",
    "agent_1_data = [log[\"1\"][\"endogenous\"][\"TotalData\"] for log in dense_logs[0]['states']]\n",
    "agent_2_data = [log[\"2\"][\"endogenous\"][\"TotalData\"] for log in dense_logs[0]['states']]\n",
    "agent_3_data = [log[\"3\"][\"endogenous\"][\"TotalData\"] for log in dense_logs[0]['states']]"
   ]
  },
  {
   "cell_type": "code",
   "execution_count": 57,
   "id": "94152c35",
   "metadata": {},
   "outputs": [
    {
     "data": {
      "text/plain": [
       "101"
      ]
     },
     "execution_count": 57,
     "metadata": {},
     "output_type": "execute_result"
    }
   ],
   "source": [
    "len(agent_0_green_scores)"
   ]
  },
  {
   "cell_type": "code",
   "execution_count": 58,
   "id": "d092834f",
   "metadata": {},
   "outputs": [
    {
     "data": {
      "image/png": "[encoded data removed]",
      "text/plain": [
       "<Figure size 432x288 with 1 Axes>"
      ]
     },
     "metadata": {
      "needs_background": "light"
     },
     "output_type": "display_data"
    }
   ],
   "source": [
    "import matplotlib.pyplot as plt\n",
    "import numpy as np\n",
    "\n",
    "plt.plot(np.arange(0,101),agent_0_green_scores, label=\"Agent 0\")\n",
    "plt.plot(np.arange(0,101),agent_1_green_scores, label=\"Agent 1\")\n",
    "plt.plot(np.arange(0,101),agent_2_green_scores, label=\"Agent 2\")\n",
    "plt.plot(np.arange(0,101),agent_3_green_scores, label=\"Agent 3\")\n",
    "plt.title('Miner Green Scores')\n",
    "plt.legend()\n",
    "plt.xlabel('Timesteps')\n",
    "plt.ylabel('Green Scores')\n",
    "plt.savefig(\"miners_green_scores.png\")\n",
    "plt.show()"
   ]
  },
  {
   "cell_type": "code",
   "execution_count": 59,
   "id": "385da864",
   "metadata": {},
   "outputs": [
    {
     "data": {
      "image/png": "[encoded data removed]",
      "text/plain": [
       "<Figure size 432x288 with 1 Axes>"
      ]
     },
     "metadata": {
      "needs_background": "light"
     },
     "output_type": "display_data"
    }
   ],
   "source": [
    "plt.plot(np.arange(0,101),agent_0_rel_scores, label=\"Agent 0\")\n",
    "plt.plot(np.arange(0,101),agent_1_rel_scores, label=\"Agent 1\")\n",
    "plt.plot(np.arange(0,101),agent_2_rel_scores, label=\"Agent 2\")\n",
    "plt.plot(np.arange(0,101),agent_3_rel_scores, label=\"Agent 3\")\n",
    "plt.title('Miner Reliability Scores')\n",
    "plt.legend()\n",
    "plt.xlabel('Timesteps')\n",
    "plt.ylabel('Reliability Scores')\n",
    "plt.savefig(\"miners_reliability_scores.png\")\n",
    "plt.show()"
   ]
  },
  {
   "cell_type": "code",
   "execution_count": 60,
   "id": "9f6b555d",
   "metadata": {},
   "outputs": [
    {
     "data": {
      "image/png": "[encoded data removed]",
      "text/plain": [
       "<Figure size 432x288 with 1 Axes>"
      ]
     },
     "metadata": {
      "needs_background": "light"
     },
     "output_type": "display_data"
    }
   ],
   "source": [
    "plt.plot(np.arange(0,101),agent_0_score, label=\"Agent 0\")\n",
    "plt.plot(np.arange(0,101),agent_1_score, label=\"Agent 1\")\n",
    "plt.plot(np.arange(0,101),agent_2_score, label=\"Agent 2\")\n",
    "plt.plot(np.arange(0,101),agent_3_score, label=\"Agent 3\")\n",
    "plt.title('Miner Total Scores')\n",
    "plt.legend()\n",
    "plt.xlabel('Timesteps')\n",
    "plt.ylabel('Reliability Scores')\n",
    "plt.savefig(\"miners_total_scores.png\")\n",
    "plt.show()"
   ]
  },
  {
   "cell_type": "code",
   "execution_count": 61,
   "id": "44147fc8",
   "metadata": {},
   "outputs": [
    {
     "data": {
      "image/png": "[encoded data removed]",
      "text/plain": [
       "<Figure size 432x288 with 1 Axes>"
      ]
     },
     "metadata": {
      "needs_background": "light"
     },
     "output_type": "display_data"
    }
   ],
   "source": [
    "plt.plot(np.arange(0,101),agent_0_data, label=\"Agent 0\")\n",
    "plt.plot(np.arange(0,101),agent_1_data, label=\"Agent 1\")\n",
    "plt.plot(np.arange(0,101),agent_2_data, label=\"Agent 2\")\n",
    "plt.plot(np.arange(0,101),agent_3_data, label=\"Agent 3\")\n",
    "plt.title('Total Data Stored By Each Miner')\n",
    "plt.legend()\n",
    "plt.xlabel('Timesteps')\n",
    "plt.ylabel('Data Storage')\n",
    "plt.savefig(\"miners_data_stored.png\")\n",
    "plt.show()"
   ]
  },
  {
   "cell_type": "code",
   "execution_count": 62,
   "id": "a0134317",
   "metadata": {},
   "outputs": [
    {
     "data": {
      "image/png": "[encoded data removed]",
      "text/plain": [
       "<Figure size 432x288 with 1 Axes>"
      ]
     },
     "metadata": {
      "needs_background": "light"
     },
     "output_type": "display_data"
    }
   ],
   "source": [
    "plt.plot(np.arange(0,101),planner_gr_score_importances)\n",
    "plt.title('Green Score Importance over Time')\n",
    "plt.xlabel('Timesteps')\n",
    "plt.ylabel('Green Score Importance')\n",
    "plt.savefig(\"planner_policy.png\")\n",
    "plt.show()"
   ]
  },
  {
   "cell_type": "code",
   "execution_count": null,
   "id": "7b2e2c8e",
   "metadata": {},
   "outputs": [],
   "source": []
  },
  {
   "cell_type": "code",
   "execution_count": 63,
   "id": "6ac30c44",
   "metadata": {},
   "outputs": [],
   "source": [
    "# Shutdown Ray after use\n",
    "ray.shutdown()"
   ]
  },
  {
   "cell_type": "code",
   "execution_count": null,
   "id": "1e4a8540",
   "metadata": {},
   "outputs": [],
   "source": []
  }
 ],
 "metadata": {
  "kernelspec": {
   "display_name": "Python 3",
   "language": "python",
   "name": "python3"
  },
  "language_info": {
   "codemirror_mode": {
    "name": "ipython",
    "version": 3
   },
   "file_extension": ".py",
   "mimetype": "text/x-python",
   "name": "python",
   "nbconvert_exporter": "python",
   "pygments_lexer": "ipython3",
   "version": "3.7.13"
  }
 },
 "nbformat": 4,
 "nbformat_minor": 5
}
