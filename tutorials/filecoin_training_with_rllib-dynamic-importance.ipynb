{
 "cells": [
  {
   "cell_type": "code",
   "execution_count": 1,
   "id": "618c9afa",
   "metadata": {},
   "outputs": [],
   "source": [
    "# Define the configuration of the environment that will be built\n",
    "\n",
    "env_config_dict = {\n",
    "    # ===== SCENARIO CLASS =====\n",
    "    # Which Scenario class to use: the class's name in the Scenario Registry (foundation.scenarios).\n",
    "    # The environment object will be an instance of the Scenario class.\n",
    "    'scenario_name': 'filecoin-energy',\n",
    "    \n",
    "    # ===== COMPONENTS =====\n",
    "    # Which components to use (specified as list of (\"component_name\", {component_kwargs}) tuples).\n",
    "    #   \"component_name\" refers to the Component class's name in the Component Registry (foundation.components)\n",
    "    #   {component_kwargs} is a dictionary of kwargs passed to the Component class\n",
    "    # The order in which components reset, step, and generate obs follows their listed order below.\n",
    "    'components': [\n",
    "        ('ChangeMinerSelectionPolicy', {}),\n",
    "        # (2) Trading collectible resources\n",
    "        ('BuyRECFromVirtualStore', { 'static': False}),\n",
    "    ],\n",
    "    \n",
    "\n",
    "    # ===== STANDARD ARGUMENTS ======\n",
    "    # kwargs that are used by every Scenario class (i.e. defined in BaseEnvironment)\n",
    "    'n_agents': 100,          # Number of non-planner agents (must be > 1)\n",
    "    'world_size': [1, 1], # [Height, Width] of the env world\n",
    "    'episode_length': 336, # Number of timesteps per episode\n",
    "    'static': False,\n",
    "    \n",
    "    # In multi-action-mode, the policy selects an action for each action subspace (defined in component code).\n",
    "    # Otherwise, the policy selects only 1 action.\n",
    "    'multi_action_mode_agents': False,\n",
    "    'multi_action_mode_planner': False,\n",
    "    \n",
    "    # When flattening observations, concatenate scalar & vector observations before output.\n",
    "    # Otherwise, return observations with minimal processing.\n",
    "    'flatten_observations': False,\n",
    "    # When Flattening masks, concatenate each action subspace mask into a single array.\n",
    "    # Note: flatten_masks = True is required for masking action logits in the code below.\n",
    "    'flatten_masks': True,\n",
    "    'dense_log_frequency': 1\n",
    "}"
   ]
  },
  {
   "cell_type": "code",
   "execution_count": 2,
   "id": "029c36a0",
   "metadata": {},
   "outputs": [
    {
     "name": "stdout",
     "output_type": "stream",
     "text": [
      "Inside covid19_components.py: 0 GPUs are available.\n",
      "No GPUs found! Running the simulation on a CPU.\n",
      "Inside covid19_env.py: 0 GPUs are available.\n",
      "No GPUs found! Running the simulation on a CPU.\n"
     ]
    },
    {
     "name": "stderr",
     "output_type": "stream",
     "text": [
      "/home/ubuntu/.local/lib/python3.7/site-packages/tensorflow/python/framework/dtypes.py:516: FutureWarning: Passing (type, 1) or '1type' as a synonym of type is deprecated; in a future version of numpy, it will be understood as (type, (1,)) / '(1,)type'.\n",
      "  _np_qint8 = np.dtype([(\"qint8\", np.int8, 1)])\n",
      "/home/ubuntu/.local/lib/python3.7/site-packages/tensorflow/python/framework/dtypes.py:517: FutureWarning: Passing (type, 1) or '1type' as a synonym of type is deprecated; in a future version of numpy, it will be understood as (type, (1,)) / '(1,)type'.\n",
      "  _np_quint8 = np.dtype([(\"quint8\", np.uint8, 1)])\n",
      "/home/ubuntu/.local/lib/python3.7/site-packages/tensorflow/python/framework/dtypes.py:518: FutureWarning: Passing (type, 1) or '1type' as a synonym of type is deprecated; in a future version of numpy, it will be understood as (type, (1,)) / '(1,)type'.\n",
      "  _np_qint16 = np.dtype([(\"qint16\", np.int16, 1)])\n",
      "/home/ubuntu/.local/lib/python3.7/site-packages/tensorflow/python/framework/dtypes.py:519: FutureWarning: Passing (type, 1) or '1type' as a synonym of type is deprecated; in a future version of numpy, it will be understood as (type, (1,)) / '(1,)type'.\n",
      "  _np_quint16 = np.dtype([(\"quint16\", np.uint16, 1)])\n",
      "/home/ubuntu/.local/lib/python3.7/site-packages/tensorflow/python/framework/dtypes.py:520: FutureWarning: Passing (type, 1) or '1type' as a synonym of type is deprecated; in a future version of numpy, it will be understood as (type, (1,)) / '(1,)type'.\n",
      "  _np_qint32 = np.dtype([(\"qint32\", np.int32, 1)])\n",
      "/home/ubuntu/.local/lib/python3.7/site-packages/tensorflow/python/framework/dtypes.py:525: FutureWarning: Passing (type, 1) or '1type' as a synonym of type is deprecated; in a future version of numpy, it will be understood as (type, (1,)) / '(1,)type'.\n",
      "  np_resource = np.dtype([(\"resource\", np.ubyte, 1)])\n",
      "/home/ubuntu/.local/lib/python3.7/site-packages/tensorboard/compat/tensorflow_stub/dtypes.py:541: FutureWarning: Passing (type, 1) or '1type' as a synonym of type is deprecated; in a future version of numpy, it will be understood as (type, (1,)) / '(1,)type'.\n",
      "  _np_qint8 = np.dtype([(\"qint8\", np.int8, 1)])\n",
      "/home/ubuntu/.local/lib/python3.7/site-packages/tensorboard/compat/tensorflow_stub/dtypes.py:542: FutureWarning: Passing (type, 1) or '1type' as a synonym of type is deprecated; in a future version of numpy, it will be understood as (type, (1,)) / '(1,)type'.\n",
      "  _np_quint8 = np.dtype([(\"quint8\", np.uint8, 1)])\n",
      "/home/ubuntu/.local/lib/python3.7/site-packages/tensorboard/compat/tensorflow_stub/dtypes.py:543: FutureWarning: Passing (type, 1) or '1type' as a synonym of type is deprecated; in a future version of numpy, it will be understood as (type, (1,)) / '(1,)type'.\n",
      "  _np_qint16 = np.dtype([(\"qint16\", np.int16, 1)])\n",
      "/home/ubuntu/.local/lib/python3.7/site-packages/tensorboard/compat/tensorflow_stub/dtypes.py:544: FutureWarning: Passing (type, 1) or '1type' as a synonym of type is deprecated; in a future version of numpy, it will be understood as (type, (1,)) / '(1,)type'.\n",
      "  _np_quint16 = np.dtype([(\"quint16\", np.uint16, 1)])\n",
      "/home/ubuntu/.local/lib/python3.7/site-packages/tensorboard/compat/tensorflow_stub/dtypes.py:545: FutureWarning: Passing (type, 1) or '1type' as a synonym of type is deprecated; in a future version of numpy, it will be understood as (type, (1,)) / '(1,)type'.\n",
      "  _np_qint32 = np.dtype([(\"qint32\", np.int32, 1)])\n",
      "/home/ubuntu/.local/lib/python3.7/site-packages/tensorboard/compat/tensorflow_stub/dtypes.py:550: FutureWarning: Passing (type, 1) or '1type' as a synonym of type is deprecated; in a future version of numpy, it will be understood as (type, (1,)) / '(1,)type'.\n",
      "  np_resource = np.dtype([(\"resource\", np.ubyte, 1)])\n"
     ]
    },
    {
     "name": "stdout",
     "output_type": "stream",
     "text": [
      "[EnvWrapper] Spaces\n",
      "[EnvWrapper] Obs (a)   \n",
      "action_mask    : (22,)\n",
      "time           : (1,)\n",
      "world-endogenous-ConsumedEnergy: (24,)\n",
      "world-endogenous-EnergyPrice: (1,)\n",
      "world-endogenous-GreenScore: (1,)\n",
      "world-endogenous-GreenScoresLastDay: (24,)\n",
      "world-endogenous-InitialGreenScore: (1,)\n",
      "world-endogenous-NewData: (1,)\n",
      "world-endogenous-RECsPrice: (1,)\n",
      "world-endogenous-ReliabilityScore: (1,)\n",
      "world-endogenous-TotalData: (1,)\n",
      "world-endogenous-TotalScore: (1,)\n",
      "\n",
      "\n",
      "[EnvWrapper] Obs (p)   \n",
      "action_mask    : (21,)\n",
      "time           : (1,)\n",
      "world-reliability: (1,)\n",
      "world-renewables: (1,)\n",
      "\n",
      "\n",
      "[EnvWrapper] Action (a) Discrete(22)\n",
      "[EnvWrapper] Action (p) Discrete(21)\n"
     ]
    }
   ],
   "source": [
    "from rllib.env_wrapper import RLlibEnvWrapper\n",
    "env_obj = RLlibEnvWrapper({\"env_config_dict\": env_config_dict}, verbose=True)"
   ]
  },
  {
   "cell_type": "code",
   "execution_count": 3,
   "id": "fe751b55",
   "metadata": {},
   "outputs": [],
   "source": [
    "import ray\n",
    "from ray.rllib.agents.ppo import PPOTrainer"
   ]
  },
  {
   "cell_type": "code",
   "execution_count": 4,
   "id": "9a826ce0",
   "metadata": {},
   "outputs": [],
   "source": [
    "policies = {\n",
    "    \"a\": (\n",
    "        None,  # uses default policy\n",
    "        env_obj.observation_space,\n",
    "        env_obj.action_space,\n",
    "        {}  # define a custom agent policy configuration.\n",
    "    ),\n",
    "    \"p\": (\n",
    "        None,  # uses default policy\n",
    "        env_obj.observation_space_pl,\n",
    "        env_obj.action_space_pl,\n",
    "        {}  # define a custom planner policy configuration.\n",
    "    )\n",
    "}\n",
    "\n",
    "# In foundation, all the agents have integer ids and the social planner has an id of \"p\"\n",
    "policy_mapping_fun = lambda i: \"a\" if str(i).isdigit() else \"p\"\n",
    "\n",
    "policies_to_train = [\"a\", \"p\"]"
   ]
  },
  {
   "cell_type": "code",
   "execution_count": 5,
   "id": "64331642",
   "metadata": {},
   "outputs": [],
   "source": [
    "trainer_config = {\n",
    "    \"multiagent\": {\n",
    "        \"policies\": policies,\n",
    "        \"policies_to_train\": policies_to_train,\n",
    "        \"policy_mapping_fn\": policy_mapping_fun,\n",
    "    }\n",
    "}"
   ]
  },
  {
   "cell_type": "code",
   "execution_count": 6,
   "id": "f2476f35",
   "metadata": {},
   "outputs": [],
   "source": [
    "trainer_config.update(\n",
    "    {\n",
    "        \"num_workers\": 2,\n",
    "        \"num_envs_per_worker\": 2,\n",
    "        # Other training parameters\n",
    "        \"train_batch_size\":  4000,\n",
    "        \"sgd_minibatch_size\": 4000,\n",
    "        \"num_sgd_iter\": 1,\n",
    "        \"lr\": 0.00001,\n",
    "    }\n",
    ")"
   ]
  },
  {
   "cell_type": "code",
   "execution_count": 7,
   "id": "33e6c665",
   "metadata": {},
   "outputs": [],
   "source": [
    "# We also add the \"num_envs_per_worker\" parameter for the env. wrapper to index the environments.\n",
    "env_config = {\n",
    "    \"env_config_dict\": env_config_dict,\n",
    "    \"num_envs_per_worker\": trainer_config.get('num_envs_per_worker'),   \n",
    "}\n",
    "\n",
    "trainer_config.update(\n",
    "    {\n",
    "        \"env_config\": env_config        \n",
    "    }\n",
    ")"
   ]
  },
  {
   "cell_type": "code",
   "execution_count": 8,
   "id": "cf127879",
   "metadata": {},
   "outputs": [
    {
     "name": "stderr",
     "output_type": "stream",
     "text": [
      "2022-05-31 12:36:35,093\tINFO resource_spec.py:212 -- Starting Ray with 8.01 GiB memory available for workers and up to 4.02 GiB for objects. You can adjust these settings with ray.init(memory=<bytes>, object_store_memory=<bytes>).\n",
      "2022-05-31 12:36:35,553\tINFO services.py:1148 -- View the Ray dashboard at \u001b[1m\u001b[32m127.0.0.1:8265\u001b[39m\u001b[22m\n"
     ]
    },
    {
     "data": {
      "text/plain": [
       "{'node_ip_address': '172.31.29.14',\n",
       " 'redis_address': '172.31.29.14:25693',\n",
       " 'object_store_address': '/tmp/ray/session_2022-05-31_12-36-35_091899_28665/sockets/plasma_store',\n",
       " 'raylet_socket_name': '/tmp/ray/session_2022-05-31_12-36-35_091899_28665/sockets/raylet',\n",
       " 'webui_url': '127.0.0.1:8265',\n",
       " 'session_dir': '/tmp/ray/session_2022-05-31_12-36-35_091899_28665'}"
      ]
     },
     "execution_count": 8,
     "metadata": {},
     "output_type": "execute_result"
    }
   ],
   "source": [
    "# Initialize Ray\n",
    "ray.init(webui_host=\"127.0.0.1\")"
   ]
  },
  {
   "cell_type": "code",
   "execution_count": 9,
   "id": "8f9c08a5",
   "metadata": {},
   "outputs": [
    {
     "name": "stderr",
     "output_type": "stream",
     "text": [
      "2022-05-31 12:36:36,201\tINFO trainer.py:428 -- Tip: set 'eager': true or the --eager flag to enable TensorFlow eager execution\n",
      "2022-05-31 12:36:36,256\tINFO trainer.py:585 -- Current log_level is WARN. For more information, set 'log_level': 'INFO' / 'DEBUG' or use the -v and -vv flags.\n"
     ]
    },
    {
     "name": "stdout",
     "output_type": "stream",
     "text": [
      "\u001b[2m\u001b[36m(pid=28727)\u001b[0m /home/ubuntu/.local/lib/python3.7/site-packages/tensorflow/python/framework/dtypes.py:516: FutureWarning: Passing (type, 1) or '1type' as a synonym of type is deprecated; in a future version of numpy, it will be understood as (type, (1,)) / '(1,)type'.\n",
      "\u001b[2m\u001b[36m(pid=28727)\u001b[0m   _np_qint8 = np.dtype([(\"qint8\", np.int8, 1)])\n",
      "\u001b[2m\u001b[36m(pid=28727)\u001b[0m /home/ubuntu/.local/lib/python3.7/site-packages/tensorflow/python/framework/dtypes.py:517: FutureWarning: Passing (type, 1) or '1type' as a synonym of type is deprecated; in a future version of numpy, it will be understood as (type, (1,)) / '(1,)type'.\n",
      "\u001b[2m\u001b[36m(pid=28727)\u001b[0m   _np_quint8 = np.dtype([(\"quint8\", np.uint8, 1)])\n",
      "\u001b[2m\u001b[36m(pid=28727)\u001b[0m /home/ubuntu/.local/lib/python3.7/site-packages/tensorflow/python/framework/dtypes.py:518: FutureWarning: Passing (type, 1) or '1type' as a synonym of type is deprecated; in a future version of numpy, it will be understood as (type, (1,)) / '(1,)type'.\n",
      "\u001b[2m\u001b[36m(pid=28727)\u001b[0m   _np_qint16 = np.dtype([(\"qint16\", np.int16, 1)])\n",
      "\u001b[2m\u001b[36m(pid=28727)\u001b[0m /home/ubuntu/.local/lib/python3.7/site-packages/tensorflow/python/framework/dtypes.py:519: FutureWarning: Passing (type, 1) or '1type' as a synonym of type is deprecated; in a future version of numpy, it will be understood as (type, (1,)) / '(1,)type'.\n",
      "\u001b[2m\u001b[36m(pid=28727)\u001b[0m   _np_quint16 = np.dtype([(\"quint16\", np.uint16, 1)])\n",
      "\u001b[2m\u001b[36m(pid=28727)\u001b[0m /home/ubuntu/.local/lib/python3.7/site-packages/tensorflow/python/framework/dtypes.py:520: FutureWarning: Passing (type, 1) or '1type' as a synonym of type is deprecated; in a future version of numpy, it will be understood as (type, (1,)) / '(1,)type'.\n",
      "\u001b[2m\u001b[36m(pid=28727)\u001b[0m   _np_qint32 = np.dtype([(\"qint32\", np.int32, 1)])\n",
      "\u001b[2m\u001b[36m(pid=28727)\u001b[0m /home/ubuntu/.local/lib/python3.7/site-packages/tensorflow/python/framework/dtypes.py:525: FutureWarning: Passing (type, 1) or '1type' as a synonym of type is deprecated; in a future version of numpy, it will be understood as (type, (1,)) / '(1,)type'.\n",
      "\u001b[2m\u001b[36m(pid=28727)\u001b[0m   np_resource = np.dtype([(\"resource\", np.ubyte, 1)])\n",
      "\u001b[2m\u001b[36m(pid=28728)\u001b[0m /home/ubuntu/.local/lib/python3.7/site-packages/tensorflow/python/framework/dtypes.py:516: FutureWarning: Passing (type, 1) or '1type' as a synonym of type is deprecated; in a future version of numpy, it will be understood as (type, (1,)) / '(1,)type'.\n",
      "\u001b[2m\u001b[36m(pid=28728)\u001b[0m   _np_qint8 = np.dtype([(\"qint8\", np.int8, 1)])\n",
      "\u001b[2m\u001b[36m(pid=28728)\u001b[0m /home/ubuntu/.local/lib/python3.7/site-packages/tensorflow/python/framework/dtypes.py:517: FutureWarning: Passing (type, 1) or '1type' as a synonym of type is deprecated; in a future version of numpy, it will be understood as (type, (1,)) / '(1,)type'.\n",
      "\u001b[2m\u001b[36m(pid=28728)\u001b[0m   _np_quint8 = np.dtype([(\"quint8\", np.uint8, 1)])\n",
      "\u001b[2m\u001b[36m(pid=28728)\u001b[0m /home/ubuntu/.local/lib/python3.7/site-packages/tensorflow/python/framework/dtypes.py:518: FutureWarning: Passing (type, 1) or '1type' as a synonym of type is deprecated; in a future version of numpy, it will be understood as (type, (1,)) / '(1,)type'.\n",
      "\u001b[2m\u001b[36m(pid=28728)\u001b[0m   _np_qint16 = np.dtype([(\"qint16\", np.int16, 1)])\n",
      "\u001b[2m\u001b[36m(pid=28728)\u001b[0m /home/ubuntu/.local/lib/python3.7/site-packages/tensorflow/python/framework/dtypes.py:519: FutureWarning: Passing (type, 1) or '1type' as a synonym of type is deprecated; in a future version of numpy, it will be understood as (type, (1,)) / '(1,)type'.\n",
      "\u001b[2m\u001b[36m(pid=28728)\u001b[0m   _np_quint16 = np.dtype([(\"quint16\", np.uint16, 1)])\n",
      "\u001b[2m\u001b[36m(pid=28728)\u001b[0m /home/ubuntu/.local/lib/python3.7/site-packages/tensorflow/python/framework/dtypes.py:520: FutureWarning: Passing (type, 1) or '1type' as a synonym of type is deprecated; in a future version of numpy, it will be understood as (type, (1,)) / '(1,)type'.\n",
      "\u001b[2m\u001b[36m(pid=28728)\u001b[0m   _np_qint32 = np.dtype([(\"qint32\", np.int32, 1)])\n",
      "\u001b[2m\u001b[36m(pid=28728)\u001b[0m /home/ubuntu/.local/lib/python3.7/site-packages/tensorflow/python/framework/dtypes.py:525: FutureWarning: Passing (type, 1) or '1type' as a synonym of type is deprecated; in a future version of numpy, it will be understood as (type, (1,)) / '(1,)type'.\n",
      "\u001b[2m\u001b[36m(pid=28728)\u001b[0m   np_resource = np.dtype([(\"resource\", np.ubyte, 1)])\n",
      "\u001b[2m\u001b[36m(pid=28728)\u001b[0m /home/ubuntu/.local/lib/python3.7/site-packages/tensorboard/compat/tensorflow_stub/dtypes.py:541: FutureWarning: Passing (type, 1) or '1type' as a synonym of type is deprecated; in a future version of numpy, it will be understood as (type, (1,)) / '(1,)type'.\n",
      "\u001b[2m\u001b[36m(pid=28728)\u001b[0m   _np_qint8 = np.dtype([(\"qint8\", np.int8, 1)])\n",
      "\u001b[2m\u001b[36m(pid=28728)\u001b[0m /home/ubuntu/.local/lib/python3.7/site-packages/tensorboard/compat/tensorflow_stub/dtypes.py:542: FutureWarning: Passing (type, 1) or '1type' as a synonym of type is deprecated; in a future version of numpy, it will be understood as (type, (1,)) / '(1,)type'.\n",
      "\u001b[2m\u001b[36m(pid=28728)\u001b[0m   _np_quint8 = np.dtype([(\"quint8\", np.uint8, 1)])\n",
      "\u001b[2m\u001b[36m(pid=28728)\u001b[0m /home/ubuntu/.local/lib/python3.7/site-packages/tensorboard/compat/tensorflow_stub/dtypes.py:543: FutureWarning: Passing (type, 1) or '1type' as a synonym of type is deprecated; in a future version of numpy, it will be understood as (type, (1,)) / '(1,)type'.\n",
      "\u001b[2m\u001b[36m(pid=28728)\u001b[0m   _np_qint16 = np.dtype([(\"qint16\", np.int16, 1)])\n",
      "\u001b[2m\u001b[36m(pid=28728)\u001b[0m /home/ubuntu/.local/lib/python3.7/site-packages/tensorboard/compat/tensorflow_stub/dtypes.py:544: FutureWarning: Passing (type, 1) or '1type' as a synonym of type is deprecated; in a future version of numpy, it will be understood as (type, (1,)) / '(1,)type'.\n",
      "\u001b[2m\u001b[36m(pid=28728)\u001b[0m   _np_quint16 = np.dtype([(\"quint16\", np.uint16, 1)])\n",
      "\u001b[2m\u001b[36m(pid=28728)\u001b[0m /home/ubuntu/.local/lib/python3.7/site-packages/tensorboard/compat/tensorflow_stub/dtypes.py:545: FutureWarning: Passing (type, 1) or '1type' as a synonym of type is deprecated; in a future version of numpy, it will be understood as (type, (1,)) / '(1,)type'.\n",
      "\u001b[2m\u001b[36m(pid=28728)\u001b[0m   _np_qint32 = np.dtype([(\"qint32\", np.int32, 1)])\n",
      "\u001b[2m\u001b[36m(pid=28728)\u001b[0m /home/ubuntu/.local/lib/python3.7/site-packages/tensorboard/compat/tensorflow_stub/dtypes.py:550: FutureWarning: Passing (type, 1) or '1type' as a synonym of type is deprecated; in a future version of numpy, it will be understood as (type, (1,)) / '(1,)type'.\n",
      "\u001b[2m\u001b[36m(pid=28728)\u001b[0m   np_resource = np.dtype([(\"resource\", np.ubyte, 1)])\n",
      "\u001b[2m\u001b[36m(pid=28727)\u001b[0m /home/ubuntu/.local/lib/python3.7/site-packages/tensorboard/compat/tensorflow_stub/dtypes.py:541: FutureWarning: Passing (type, 1) or '1type' as a synonym of type is deprecated; in a future version of numpy, it will be understood as (type, (1,)) / '(1,)type'.\n",
      "\u001b[2m\u001b[36m(pid=28727)\u001b[0m   _np_qint8 = np.dtype([(\"qint8\", np.int8, 1)])\n",
      "\u001b[2m\u001b[36m(pid=28727)\u001b[0m /home/ubuntu/.local/lib/python3.7/site-packages/tensorboard/compat/tensorflow_stub/dtypes.py:542: FutureWarning: Passing (type, 1) or '1type' as a synonym of type is deprecated; in a future version of numpy, it will be understood as (type, (1,)) / '(1,)type'.\n",
      "\u001b[2m\u001b[36m(pid=28727)\u001b[0m   _np_quint8 = np.dtype([(\"quint8\", np.uint8, 1)])\n",
      "\u001b[2m\u001b[36m(pid=28727)\u001b[0m /home/ubuntu/.local/lib/python3.7/site-packages/tensorboard/compat/tensorflow_stub/dtypes.py:543: FutureWarning: Passing (type, 1) or '1type' as a synonym of type is deprecated; in a future version of numpy, it will be understood as (type, (1,)) / '(1,)type'.\n",
      "\u001b[2m\u001b[36m(pid=28727)\u001b[0m   _np_qint16 = np.dtype([(\"qint16\", np.int16, 1)])\n",
      "\u001b[2m\u001b[36m(pid=28727)\u001b[0m /home/ubuntu/.local/lib/python3.7/site-packages/tensorboard/compat/tensorflow_stub/dtypes.py:544: FutureWarning: Passing (type, 1) or '1type' as a synonym of type is deprecated; in a future version of numpy, it will be understood as (type, (1,)) / '(1,)type'.\n",
      "\u001b[2m\u001b[36m(pid=28727)\u001b[0m   _np_quint16 = np.dtype([(\"quint16\", np.uint16, 1)])\n",
      "\u001b[2m\u001b[36m(pid=28727)\u001b[0m /home/ubuntu/.local/lib/python3.7/site-packages/tensorboard/compat/tensorflow_stub/dtypes.py:545: FutureWarning: Passing (type, 1) or '1type' as a synonym of type is deprecated; in a future version of numpy, it will be understood as (type, (1,)) / '(1,)type'.\n",
      "\u001b[2m\u001b[36m(pid=28727)\u001b[0m   _np_qint32 = np.dtype([(\"qint32\", np.int32, 1)])\n",
      "\u001b[2m\u001b[36m(pid=28727)\u001b[0m /home/ubuntu/.local/lib/python3.7/site-packages/tensorboard/compat/tensorflow_stub/dtypes.py:550: FutureWarning: Passing (type, 1) or '1type' as a synonym of type is deprecated; in a future version of numpy, it will be understood as (type, (1,)) / '(1,)type'.\n",
      "\u001b[2m\u001b[36m(pid=28727)\u001b[0m   np_resource = np.dtype([(\"resource\", np.ubyte, 1)])\n"
     ]
    },
    {
     "name": "stdout",
     "output_type": "stream",
     "text": [
      "\u001b[2m\u001b[36m(pid=28728)\u001b[0m Inside covid19_components.py: 0 GPUs are available.\n",
      "\u001b[2m\u001b[36m(pid=28728)\u001b[0m No GPUs found! Running the simulation on a CPU.\n",
      "\u001b[2m\u001b[36m(pid=28728)\u001b[0m Inside covid19_env.py: 0 GPUs are available.\n",
      "\u001b[2m\u001b[36m(pid=28728)\u001b[0m No GPUs found! Running the simulation on a CPU.\n",
      "\u001b[2m\u001b[36m(pid=28727)\u001b[0m Inside covid19_components.py: 0 GPUs are available.\n",
      "\u001b[2m\u001b[36m(pid=28727)\u001b[0m No GPUs found! Running the simulation on a CPU.\n",
      "\u001b[2m\u001b[36m(pid=28727)\u001b[0m Inside covid19_env.py: 0 GPUs are available.\n",
      "\u001b[2m\u001b[36m(pid=28727)\u001b[0m No GPUs found! Running the simulation on a CPU.\n"
     ]
    },
    {
     "name": "stderr",
     "output_type": "stream",
     "text": [
      "2022-05-31 12:36:46,777\tINFO trainable.py:180 -- _setup took 10.523 seconds. If your trainable is slow to initialize, consider setting reuse_actors=True to reduce actor creation overheads.\n",
      "2022-05-31 12:36:46,778\tINFO trainable.py:217 -- Getting current IP.\n"
     ]
    }
   ],
   "source": [
    "# Create the PPO trainer.\n",
    "trainer = PPOTrainer(\n",
    "    env=RLlibEnvWrapper,\n",
    "    config=trainer_config,\n",
    "    )"
   ]
  },
  {
   "cell_type": "code",
   "execution_count": 10,
   "id": "30b07c25",
   "metadata": {},
   "outputs": [
    {
     "name": "stdout",
     "output_type": "stream",
     "text": [
      "********** Iter : 0 **********\n",
      "\u001b[2m\u001b[36m(pid=28727)\u001b[0m 2022-05-31 12:36:50,260\tWARNING sampler.py:404 -- More than 2020 observations for 21 env steps are buffered in the sampler. If this is more than you expected, check that that you set a horizon on your environment correctly and that it terminates at some point. Note: In multi-agent environments, `rollout_fragment_length` sets the batch size based on environment steps, not the steps of individual agents, which can result in unexpectedly large batches. Also, you may be in evaluation waiting for your Env to terminate (batch_mode=`complete_episodes`). Make sure it does at some point.\n",
      "episode_reward_mean: 226.17163387089084\n",
      "********** Iter : 1 **********\n",
      "episode_reward_mean: 225.78265705720605\n",
      "********** Iter : 2 **********\n",
      "episode_reward_mean: 226.08912546407993\n",
      "********** Iter : 3 **********\n",
      "episode_reward_mean: 226.27144024846578\n",
      "********** Iter : 4 **********\n",
      "episode_reward_mean: 226.4886470146997\n",
      "********** Iter : 5 **********\n",
      "episode_reward_mean: 226.82594170846042\n",
      "********** Iter : 6 **********\n",
      "episode_reward_mean: 226.9450530791592\n",
      "********** Iter : 7 **********\n",
      "episode_reward_mean: 227.24384507490825\n",
      "********** Iter : 8 **********\n",
      "episode_reward_mean: 227.6018675065538\n",
      "********** Iter : 9 **********\n",
      "episode_reward_mean: 228.3024041432452\n",
      "********** Iter : 10 **********\n",
      "episode_reward_mean: 229.08966004179368\n",
      "********** Iter : 11 **********\n",
      "episode_reward_mean: 229.83031991532957\n",
      "********** Iter : 12 **********\n",
      "episode_reward_mean: 230.7264015612587\n",
      "********** Iter : 13 **********\n",
      "episode_reward_mean: 231.77209342815217\n",
      "********** Iter : 14 **********\n",
      "episode_reward_mean: 232.83964738232123\n",
      "********** Iter : 15 **********\n",
      "episode_reward_mean: 233.7874515341548\n",
      "********** Iter : 16 **********\n",
      "episode_reward_mean: 234.82158904650055\n",
      "********** Iter : 17 **********\n",
      "episode_reward_mean: 235.77584944009894\n",
      "********** Iter : 18 **********\n",
      "episode_reward_mean: 236.6130081132118\n",
      "********** Iter : 19 **********\n",
      "episode_reward_mean: 237.44444282785076\n"
     ]
    }
   ],
   "source": [
    "NUM_ITERS = 20\n",
    "for iteration in range(NUM_ITERS):\n",
    "    print(f'********** Iter : {iteration} **********')\n",
    "    result = trainer.train()\n",
    "    print(f'''episode_reward_mean: {result.get('episode_reward_mean')}''')"
   ]
  },
  {
   "cell_type": "code",
   "execution_count": 11,
   "id": "7d87d22c",
   "metadata": {},
   "outputs": [
    {
     "data": {
      "text/plain": [
       "{'loc': [-1, -1],\n",
       " 'inventory': {},\n",
       " 'escrow': {},\n",
       " 'endogenous': {'ConsumedEnergy': array([0., 0., 0., 0., 0., 0., 0., 0., 0., 0., 0., 0., 0., 0., 0., 0., 0.,\n",
       "         0., 0., 0., 0., 0., 0., 0.]),\n",
       "  'GreenScore': 0.6888900000000001,\n",
       "  'GreenScoresLastDay': array([0.68889, 0.68889, 0.68889, 0.68889, 0.68889, 0.68889, 0.68889,\n",
       "         0.68889, 0.68889, 0.68889, 0.68889, 0.68889, 0.68889, 0.68889,\n",
       "         0.68889, 0.68889, 0.68889, 0.68889, 0.68889, 0.68889, 0.68889,\n",
       "         0.68889, 0.68889, 0.68889]),\n",
       "  'NewData': 0.0,\n",
       "  'RECsPrice': 0.0,\n",
       "  'ReliabilityScore': 0.3,\n",
       "  'TotalData': 0.0,\n",
       "  'TotalScore': 0.3,\n",
       "  'EnergyPrice': 0.115,\n",
       "  'InitialGreenScore': 0.68889}}"
      ]
     },
     "execution_count": 11,
     "metadata": {},
     "output_type": "execute_result"
    }
   ],
   "source": [
    "env_obj.env.get_agent(3).state"
   ]
  },
  {
   "cell_type": "code",
   "execution_count": 12,
   "id": "d7e6256f",
   "metadata": {},
   "outputs": [],
   "source": [
    "def generate_rollout_from_current_trainer_policy(\n",
    "    trainer, \n",
    "    env_obj,\n",
    "    num_dense_logs=1\n",
    "):\n",
    "    dense_logs = {}\n",
    "    for idx in range(num_dense_logs):\n",
    "        # Set initial states\n",
    "        agent_states = {}\n",
    "        for agent_idx in range(env_obj.env.n_agents):\n",
    "            agent_states[str(agent_idx)] = trainer.get_policy(\"a\").get_initial_state()\n",
    "        planner_states = trainer.get_policy(\"p\").get_initial_state()   \n",
    "\n",
    "        # Play out the episode\n",
    "        obs = env_obj.reset(force_dense_logging=True)\n",
    "        for t in range(env_obj.env.episode_length):\n",
    "            actions = {}\n",
    "            for agent_idx in range(env_obj.env.n_agents):\n",
    "                # Use the trainer object directly to sample actions for each agent\n",
    "                actions[str(agent_idx)] = trainer.compute_action(\n",
    "                    obs[str(agent_idx)], \n",
    "                    agent_states[str(agent_idx)], \n",
    "                    policy_id=\"a\",\n",
    "                    full_fetch=False\n",
    "                )\n",
    "\n",
    "            # Action sampling for the planner\n",
    "            actions[\"p\"] = trainer.compute_action(\n",
    "                obs['p'], \n",
    "                planner_states, \n",
    "                policy_id='p',\n",
    "                full_fetch=False\n",
    "            )\n",
    "\n",
    "            obs, rew, done, info = env_obj.step(actions)        \n",
    "            if done['__all__']:\n",
    "                break\n",
    "        dense_logs[idx] = env_obj.env.dense_log\n",
    "    return dense_logs"
   ]
  },
  {
   "cell_type": "code",
   "execution_count": 13,
   "id": "b1fbc5f7",
   "metadata": {},
   "outputs": [],
   "source": [
    "dense_logs = generate_rollout_from_current_trainer_policy(\n",
    "    trainer, \n",
    "    env_obj,\n",
    "    num_dense_logs=1\n",
    ")"
   ]
  },
  {
   "cell_type": "code",
   "execution_count": 14,
   "id": "d82a2faa",
   "metadata": {},
   "outputs": [],
   "source": [
    "timesteps = len(dense_logs[0]['states'])"
   ]
  },
  {
   "cell_type": "code",
   "execution_count": 15,
   "id": "079e73df",
   "metadata": {},
   "outputs": [],
   "source": [
    "import numpy as np"
   ]
  },
  {
   "cell_type": "code",
   "execution_count": 16,
   "id": "7a70fd50",
   "metadata": {},
   "outputs": [],
   "source": [
    "avg_green_scores = [np.mean(np.array([dense_logs[0]['states'][i][k]['endogenous']['GreenScore'] for k in dense_logs[0]['states'][i].keys() if k != 'p'])) for i in range(0,timesteps)]"
   ]
  },
  {
   "cell_type": "code",
   "execution_count": 17,
   "id": "0b95e6f9",
   "metadata": {},
   "outputs": [],
   "source": [
    "def reliability_scores(agent_reliability_scores, agent_storage):\n",
    "    if np.sum(agent_storage) == 0:\n",
    "        return 0.0\n",
    "    return np.sum(agent_reliability_scores * agent_storage) / np.sum(agent_storage)\n",
    "\n",
    "\n",
    "def green_scores(agent_green_scores, agent_storage):\n",
    "    if np.sum(agent_storage) == 0:\n",
    "        return 0.0\n",
    "    return np.sum(agent_green_scores * agent_storage) / np.sum(agent_storage)"
   ]
  },
  {
   "cell_type": "code",
   "execution_count": 18,
   "id": "9daaf98c",
   "metadata": {},
   "outputs": [],
   "source": [
    "system_greenness = []\n",
    "for i in range(0,timesteps):  \n",
    "    agent_green_scores = np.array(\n",
    "        [dense_logs[0]['states'][i][k]['endogenous']['GreenScore'] for k in dense_logs[0]['states'][i].keys() if k != 'p']\n",
    "    )\n",
    "    agent_data = np.array(\n",
    "        [dense_logs[0]['states'][i][k]['endogenous']['TotalData'] for k in dense_logs[0]['states'][i].keys() if k != 'p']\n",
    "    )\n",
    "\n",
    "    rel = green_scores(agent_green_scores, agent_data)\n",
    "    system_greenness.append(rel)"
   ]
  },
  {
   "cell_type": "code",
   "execution_count": 19,
   "id": "fa8970c5",
   "metadata": {},
   "outputs": [],
   "source": [
    "system_reliability = []\n",
    "for i in range(0,timesteps):  \n",
    "    agent_reliability_scores = np.array(\n",
    "        [dense_logs[0]['states'][i][k]['endogenous']['ReliabilityScore'] for k in dense_logs[0]['states'][i].keys() if k != 'p']\n",
    "    )\n",
    "    agent_data = np.array(\n",
    "        [dense_logs[0]['states'][i][k]['endogenous']['TotalData'] for k in dense_logs[0]['states'][i].keys() if k != 'p']\n",
    "    )\n",
    "\n",
    "    rel = reliability_scores(agent_reliability_scores, agent_data)\n",
    "    system_reliability.append(rel)"
   ]
  },
  {
   "cell_type": "code",
   "execution_count": 20,
   "id": "c0c97727",
   "metadata": {},
   "outputs": [],
   "source": [
    "agent_0_green_scores = [log[\"0\"][\"endogenous\"][\"GreenScore\"] for log in dense_logs[0]['states']]\n",
    "agent_1_green_scores = [log[\"1\"][\"endogenous\"][\"GreenScore\"] for log in dense_logs[0]['states']]\n",
    "agent_2_green_scores = [log[\"2\"][\"endogenous\"][\"GreenScore\"] for log in dense_logs[0]['states']]\n",
    "agent_3_green_scores = [log[\"3\"][\"endogenous\"][\"GreenScore\"] for log in dense_logs[0]['states']]"
   ]
  },
  {
   "cell_type": "code",
   "execution_count": 21,
   "id": "f7221a0a",
   "metadata": {},
   "outputs": [],
   "source": [
    "agent_0_rel_scores = [log[\"0\"][\"endogenous\"][\"ReliabilityScore\"] for log in dense_logs[0]['states']]\n",
    "agent_1_rel_scores = [log[\"1\"][\"endogenous\"][\"ReliabilityScore\"] for log in dense_logs[0]['states']]\n",
    "agent_2_rel_scores = [log[\"2\"][\"endogenous\"][\"ReliabilityScore\"] for log in dense_logs[0]['states']]\n",
    "agent_3_rel_scores = [log[\"3\"][\"endogenous\"][\"ReliabilityScore\"] for log in dense_logs[0]['states']]"
   ]
  },
  {
   "cell_type": "code",
   "execution_count": 22,
   "id": "8b8b05cf",
   "metadata": {},
   "outputs": [],
   "source": [
    "agent_0_score = [log[\"0\"][\"endogenous\"][\"TotalScore\"] for log in dense_logs[0]['states']]\n",
    "agent_1_score = [log[\"1\"][\"endogenous\"][\"TotalScore\"] for log in dense_logs[0]['states']]\n",
    "agent_2_score = [log[\"2\"][\"endogenous\"][\"TotalScore\"] for log in dense_logs[0]['states']]\n",
    "agent_3_score = [log[\"3\"][\"endogenous\"][\"TotalScore\"] for log in dense_logs[0]['states']]"
   ]
  },
  {
   "cell_type": "code",
   "execution_count": 23,
   "id": "e339d422",
   "metadata": {},
   "outputs": [],
   "source": [
    "agent_0_data = [log[\"0\"][\"endogenous\"][\"TotalData\"] for log in dense_logs[0]['states']]\n",
    "agent_1_data = [log[\"1\"][\"endogenous\"][\"TotalData\"] for log in dense_logs[0]['states']]\n",
    "agent_2_data = [log[\"2\"][\"endogenous\"][\"TotalData\"] for log in dense_logs[0]['states']]\n",
    "agent_3_data = [log[\"3\"][\"endogenous\"][\"TotalData\"] for log in dense_logs[0]['states']]"
   ]
  },
  {
   "cell_type": "code",
   "execution_count": 24,
   "id": "d092834f",
   "metadata": {},
   "outputs": [
    {
     "data": {
      "image/png": "[encoded data removed]",
      "text/plain": [
       "<Figure size 432x288 with 1 Axes>"
      ]
     },
     "metadata": {
      "needs_background": "light"
     },
     "output_type": "display_data"
    }
   ],
   "source": [
    "import matplotlib.pyplot as plt\n",
    "import numpy as np\n",
    "\n",
    "plt.plot(np.arange(0,timesteps),agent_0_green_scores, label=\"Agent 0\")\n",
    "plt.plot(np.arange(0,timesteps),agent_1_green_scores, label=\"Agent 1\")\n",
    "plt.plot(np.arange(0,timesteps),agent_2_green_scores, label=\"Agent 2\")\n",
    "plt.plot(np.arange(0,timesteps),agent_3_green_scores, label=\"Agent 3\")\n",
    "plt.title('Miner Green Scores')\n",
    "plt.legend()\n",
    "plt.xlabel('Timesteps')\n",
    "plt.ylabel('Green Scores')\n",
    "plt.savefig(\"miners_green_scores_dynamic_importance.png\")\n",
    "plt.show()"
   ]
  },
  {
   "cell_type": "code",
   "execution_count": 25,
   "id": "87742f36",
   "metadata": {},
   "outputs": [
    {
     "data": {
      "image/png": "[encoded data removed]",
      "text/plain": [
       "<Figure size 432x288 with 1 Axes>"
      ]
     },
     "metadata": {
      "needs_background": "light"
     },
     "output_type": "display_data"
    }
   ],
   "source": [
    "plt.plot(np.arange(0,timesteps),agent_0_score, label=\"Agent 0\")\n",
    "plt.plot(np.arange(0,timesteps),agent_1_score, label=\"Agent 1\")\n",
    "plt.plot(np.arange(0,timesteps),agent_2_score, label=\"Agent 2\")\n",
    "plt.plot(np.arange(0,timesteps),agent_3_score, label=\"Agent 3\")\n",
    "plt.title('Miner Total Scores')\n",
    "plt.legend()\n",
    "plt.xlabel('Timesteps')\n",
    "plt.ylabel('Reliability Scores')\n",
    "plt.savefig(\"miners_total_scores_dynamic_importance.png\")\n",
    "plt.show()"
   ]
  },
  {
   "cell_type": "code",
   "execution_count": 26,
   "id": "9f6b555d",
   "metadata": {},
   "outputs": [
    {
     "data": {
      "image/png": "[encoded data removed]",
      "text/plain": [
       "<Figure size 432x288 with 1 Axes>"
      ]
     },
     "metadata": {
      "needs_background": "light"
     },
     "output_type": "display_data"
    }
   ],
   "source": [
    "plt.plot(np.arange(0,timesteps),agent_0_score, label=\"Agent 0\")\n",
    "plt.plot(np.arange(0,timesteps),agent_1_score, label=\"Agent 1\")\n",
    "plt.plot(np.arange(0,timesteps),agent_2_score, label=\"Agent 2\")\n",
    "plt.plot(np.arange(0,timesteps),agent_3_score, label=\"Agent 3\")\n",
    "plt.title('Miner Total Scores')\n",
    "plt.legend()\n",
    "plt.xlabel('Timesteps')\n",
    "plt.ylabel('Reliability Scores')\n",
    "plt.savefig(\"miners_total_scores_dynamic_importance.png\")\n",
    "plt.show()"
   ]
  },
  {
   "cell_type": "code",
   "execution_count": 27,
   "id": "44147fc8",
   "metadata": {},
   "outputs": [
    {
     "data": {
      "image/png": "[encoded data removed]",
      "text/plain": [
       "<Figure size 432x288 with 1 Axes>"
      ]
     },
     "metadata": {
      "needs_background": "light"
     },
     "output_type": "display_data"
    }
   ],
   "source": [
    "plt.plot(np.arange(0,timesteps),agent_0_data, label=\"Agent 0\")\n",
    "plt.plot(np.arange(0,timesteps),agent_1_data, label=\"Agent 1\")\n",
    "plt.plot(np.arange(0,timesteps),agent_2_data, label=\"Agent 2\")\n",
    "plt.plot(np.arange(0,timesteps),agent_3_data, label=\"Agent 3\")\n",
    "plt.title('Total Data Stored By Each Miner')\n",
    "plt.legend()\n",
    "plt.xlabel('Timesteps')\n",
    "plt.ylabel('Data Storage')\n",
    "plt.savefig(\"miners_data_stored_dynamic_importance.png\")\n",
    "plt.show()"
   ]
  },
  {
   "cell_type": "code",
   "execution_count": 28,
   "id": "6b57bfff",
   "metadata": {},
   "outputs": [
    {
     "data": {
      "image/png": "[encoded data removed]",
      "text/plain": [
       "<Figure size 432x288 with 1 Axes>"
      ]
     },
     "metadata": {
      "needs_background": "light"
     },
     "output_type": "display_data"
    }
   ],
   "source": [
    "plt.plot(np.arange(0,timesteps),avg_green_scores)\n",
    "plt.xlabel('Timesteps')\n",
    "plt.ylabel('Average Green Score of the System over Time')\n",
    "plt.savefig(\"avg_miner_green_score_dynamic_importance.png\")\n",
    "plt.show()"
   ]
  },
  {
   "cell_type": "code",
   "execution_count": 29,
   "id": "7b2e2c8e",
   "metadata": {},
   "outputs": [
    {
     "data": {
      "image/png": "[encoded data removed]",
      "text/plain": [
       "<Figure size 432x288 with 1 Axes>"
      ]
     },
     "metadata": {
      "needs_background": "light"
     },
     "output_type": "display_data"
    }
   ],
   "source": [
    "plt.plot(np.arange(0,timesteps),system_reliability)\n",
    "plt.xlabel('Timesteps')\n",
    "plt.ylabel('Average Reliability of the System over Time')\n",
    "plt.savefig(\"system_reliability_dynamic_importance.png\")\n",
    "plt.show()"
   ]
  },
  {
   "cell_type": "code",
   "execution_count": 34,
   "id": "98ef759f",
   "metadata": {},
   "outputs": [
    {
     "data": {
      "text/plain": [
       "[0.0,\n",
       " 0.3694774074074074,\n",
       " 0.5225407456140351,\n",
       " 0.6656513234722801,\n",
       " 0.6656418689472573,\n",
       " 0.7556344398679774,\n",
       " 0.7379398313031803,\n",
       " 0.7724798345746301,\n",
       " 0.7653578644472135,\n",
       " 0.7444698397794692,\n",
       " 0.7708168612446814,\n",
       " 0.7762025662879367,\n",
       " 0.7660690821992461,\n",
       " 0.7816054592982999,\n",
       " 0.759386044512096,\n",
       " 0.7729361958792355,\n",
       " 0.7735949246165953,\n",
       " 0.7716108905747711,\n",
       " 0.7755950644655599,\n",
       " 0.7797411835458058,\n",
       " 0.7690252560703714,\n",
       " 0.7734518299592423,\n",
       " 0.7761627131845115,\n",
       " 0.7738837817540374,\n",
       " 0.7773813323112879,\n",
       " 0.7808150699443889,\n",
       " 0.7813676772635894,\n",
       " 0.7813474726631163,\n",
       " 0.7904756933729238,\n",
       " 0.7861835526856673,\n",
       " 0.7847540220454033,\n",
       " 0.7801306302847957,\n",
       " 0.7874633662135133,\n",
       " 0.7932230639316156,\n",
       " 0.7953758908013588,\n",
       " 0.7836747737009215,\n",
       " 0.7841155056659551,\n",
       " 0.7783509072387835,\n",
       " 0.7816070888396028,\n",
       " 0.7803229859933811,\n",
       " 0.7773294955424578,\n",
       " 0.7745849233387565,\n",
       " 0.772961700506178,\n",
       " 0.7799401244246282,\n",
       " 0.778801137756752,\n",
       " 0.7811473042776494,\n",
       " 0.7834149612036517,\n",
       " 0.7803273485935603,\n",
       " 0.7740932955616423,\n",
       " 0.77207400055066,\n",
       " 0.7696985349537031,\n",
       " 0.7638747985426033,\n",
       " 0.7681893480710463,\n",
       " 0.7667738391624812,\n",
       " 0.7703610260772482,\n",
       " 0.7673039416464732,\n",
       " 0.7608711174241393,\n",
       " 0.7496359933029495,\n",
       " 0.7526898216230781,\n",
       " 0.7528321023647427,\n",
       " 0.7628260916888701,\n",
       " 0.7673718977329713,\n",
       " 0.776284281768398,\n",
       " 0.7730323251040433,\n",
       " 0.7756685375739718,\n",
       " 0.7731825288661981,\n",
       " 0.7736902288941815,\n",
       " 0.7684345793210704,\n",
       " 0.7646968525519825,\n",
       " 0.7670712856457641,\n",
       " 0.7508819777567662,\n",
       " 0.7497814251439668,\n",
       " 0.7607419322743578,\n",
       " 0.7761189780135135,\n",
       " 0.7857087977365245,\n",
       " 0.7783181876974083,\n",
       " 0.7658683254294554,\n",
       " 0.7673405798285348,\n",
       " 0.7644764859273518,\n",
       " 0.7645903711001634,\n",
       " 0.7677403672754578,\n",
       " 0.7718610985568563,\n",
       " 0.7685529936605493,\n",
       " 0.7659449065166487,\n",
       " 0.7606881486274641,\n",
       " 0.7586388162940495,\n",
       " 0.7585160657658896,\n",
       " 0.761677312862259,\n",
       " 0.7534576556251772,\n",
       " 0.7622165385252809,\n",
       " 0.7550588941298183,\n",
       " 0.7578914838259675,\n",
       " 0.7659527585347751,\n",
       " 0.76447873706632,\n",
       " 0.7656751482101931,\n",
       " 0.7720603074878456,\n",
       " 0.7641230251934963,\n",
       " 0.7614606403463414,\n",
       " 0.767926199414006,\n",
       " 0.7759060740530271,\n",
       " 0.789789517924508,\n",
       " 0.787883148698381,\n",
       " 0.7851508243741644,\n",
       " 0.7919080612004303,\n",
       " 0.7971102417456714,\n",
       " 0.7950629137799156,\n",
       " 0.798041558924889,\n",
       " 0.8049395162471152,\n",
       " 0.8067302887402332,\n",
       " 0.8078095044559549,\n",
       " 0.8061645396409635,\n",
       " 0.8053274363046534,\n",
       " 0.8096650857599419,\n",
       " 0.8022274889875176,\n",
       " 0.8049556160281691,\n",
       " 0.8071561593043336,\n",
       " 0.80239039529139,\n",
       " 0.8002135192812527,\n",
       " 0.800020045286804,\n",
       " 0.7979600919765936,\n",
       " 0.7913397183319657,\n",
       " 0.7928918793184019,\n",
       " 0.7894530346097259,\n",
       " 0.7813000588481503,\n",
       " 0.7791869534906536,\n",
       " 0.7715324912399699,\n",
       " 0.7741731780677296,\n",
       " 0.7596151059036083,\n",
       " 0.7578630886112702,\n",
       " 0.7564468445698992,\n",
       " 0.7557483527579899,\n",
       " 0.7523881734000251,\n",
       " 0.7585383539836773,\n",
       " 0.7538936440433668,\n",
       " 0.7502051245034622,\n",
       " 0.745921828924158,\n",
       " 0.743401949381709,\n",
       " 0.7436469262146821,\n",
       " 0.740672631938667,\n",
       " 0.7512447830197666,\n",
       " 0.7463769898130321,\n",
       " 0.7457701448083911,\n",
       " 0.7419101590287535,\n",
       " 0.7509121926770165,\n",
       " 0.7595859844929612,\n",
       " 0.7551114489288901,\n",
       " 0.7560993800447897,\n",
       " 0.7651293512305699,\n",
       " 0.7645485371229014,\n",
       " 0.7695444742338576,\n",
       " 0.7684700888286244,\n",
       " 0.7696195101227787,\n",
       " 0.776268857919162,\n",
       " 0.7785792431011989,\n",
       " 0.7821100737587403,\n",
       " 0.7782157013705147,\n",
       " 0.7794650599189733,\n",
       " 0.781440001477806,\n",
       " 0.7845022931976894,\n",
       " 0.7793552799568804,\n",
       " 0.7809750893779799,\n",
       " 0.781374308757537,\n",
       " 0.7673944937449078,\n",
       " 0.7646092587989534,\n",
       " 0.7607442317458539,\n",
       " 0.753854059910865,\n",
       " 0.7577701816742145,\n",
       " 0.7562769318695964,\n",
       " 0.7593946621299907,\n",
       " 0.7593917507607196,\n",
       " 0.7591896196529477,\n",
       " 0.7489573908381271,\n",
       " 0.7521219039664637,\n",
       " 0.7485977963043788,\n",
       " 0.7468947150505992,\n",
       " 0.7443192286978547,\n",
       " 0.7481891576030856,\n",
       " 0.7425112108264227,\n",
       " 0.7446164208351563,\n",
       " 0.753137300114466,\n",
       " 0.7421220645425836,\n",
       " 0.755740638894537,\n",
       " 0.7601850594680175,\n",
       " 0.7640179370075344,\n",
       " 0.7622554377896398,\n",
       " 0.7666198954902375,\n",
       " 0.7718131495267291,\n",
       " 0.7701577297751449,\n",
       " 0.7693909917360586,\n",
       " 0.7695377620359641,\n",
       " 0.7755289797746724,\n",
       " 0.7581723238982188,\n",
       " 0.7667977755090848,\n",
       " 0.7672879019836653,\n",
       " 0.7613748519247303,\n",
       " 0.7611904316151208,\n",
       " 0.7612576521705362,\n",
       " 0.765664122012831,\n",
       " 0.7613160980108851,\n",
       " 0.7631914418808898,\n",
       " 0.7583643018320936,\n",
       " 0.7594179624557057,\n",
       " 0.7614704544661022,\n",
       " 0.759403889261831,\n",
       " 0.7584268543167262,\n",
       " 0.7517022620808399,\n",
       " 0.7484983209482835,\n",
       " 0.7493765387258008,\n",
       " 0.7487585331322409,\n",
       " 0.7486697002694692,\n",
       " 0.751166420187483,\n",
       " 0.7585487575359485,\n",
       " 0.7634899267092018,\n",
       " 0.7538891061811892,\n",
       " 0.7555401899544317,\n",
       " 0.7630128331950176,\n",
       " 0.7566084981111364,\n",
       " 0.7569018544825611,\n",
       " 0.7539350498029379,\n",
       " 0.7508509640672512,\n",
       " 0.748997207834511,\n",
       " 0.7471281470232006,\n",
       " 0.7452551588776065,\n",
       " 0.7428766628266124,\n",
       " 0.7415915751895064,\n",
       " 0.7511345457574901,\n",
       " 0.7461688975927556,\n",
       " 0.7417568433506518,\n",
       " 0.7297905321300246,\n",
       " 0.7256094312436948,\n",
       " 0.7280688669248842,\n",
       " 0.7283298108754223,\n",
       " 0.7472174669480816,\n",
       " 0.745304275184882,\n",
       " 0.7425914684745841,\n",
       " 0.7540401071755537,\n",
       " 0.7577469053405743,\n",
       " 0.757852380202128,\n",
       " 0.7591919818098971,\n",
       " 0.7627046737275907,\n",
       " 0.7607119158860219,\n",
       " 0.758225797246543,\n",
       " 0.758022326560843,\n",
       " 0.7552366982681921,\n",
       " 0.7568389176083942,\n",
       " 0.7560108992994679,\n",
       " 0.7581381735350199,\n",
       " 0.759507798686631,\n",
       " 0.757643723205938,\n",
       " 0.7539004732630136,\n",
       " 0.7612779460423723,\n",
       " 0.7626254192368356,\n",
       " 0.7650816896463056,\n",
       " 0.7693777584737297,\n",
       " 0.756031071400454,\n",
       " 0.7560644449378786,\n",
       " 0.7548613958808459,\n",
       " 0.754652944768807,\n",
       " 0.759484486775583,\n",
       " 0.75997989746568,\n",
       " 0.7446234515378245,\n",
       " 0.7423542338757335,\n",
       " 0.7447526119305163,\n",
       " 0.7427973168565235,\n",
       " 0.7429991338838008,\n",
       " 0.7480214088756933,\n",
       " 0.7576110846388731,\n",
       " 0.7477373950335549,\n",
       " 0.7578621708813925,\n",
       " 0.7554088733474955,\n",
       " 0.7633552198387145,\n",
       " 0.7654928826090325,\n",
       " 0.7483884608184294,\n",
       " 0.7491532652370567,\n",
       " 0.7425362143832489,\n",
       " 0.7463080299691495,\n",
       " 0.7468975386810975,\n",
       " 0.7454608561268353,\n",
       " 0.747495778881407,\n",
       " 0.7618663968912394,\n",
       " 0.7667754012471357,\n",
       " 0.7654968381319978,\n",
       " 0.7614958633674426,\n",
       " 0.7593144881182345,\n",
       " 0.764094081149173,\n",
       " 0.7654837795902208,\n",
       " 0.7704399933437379,\n",
       " 0.7555566175600129,\n",
       " 0.7623680254032266,\n",
       " 0.7565564866699387,\n",
       " 0.7600305835026855,\n",
       " 0.7618682624887647,\n",
       " 0.7624610021764002,\n",
       " 0.7661455986727999,\n",
       " 0.7636309788643812,\n",
       " 0.7646332556127823,\n",
       " 0.7762445230390204,\n",
       " 0.7709825219178679,\n",
       " 0.7766583451134806,\n",
       " 0.7727369168130354,\n",
       " 0.7724736449627526,\n",
       " 0.7773049840050085,\n",
       " 0.7767524168511861,\n",
       " 0.7818350423083279,\n",
       " 0.7779496303957981,\n",
       " 0.7845174586039196,\n",
       " 0.7920135031276679,\n",
       " 0.7919639535637532,\n",
       " 0.78847993883291,\n",
       " 0.781093086768669,\n",
       " 0.7861132463554888,\n",
       " 0.7898646220890949,\n",
       " 0.7825619524837539,\n",
       " 0.7801156980392682,\n",
       " 0.7818229079050495,\n",
       " 0.7846693298536987,\n",
       " 0.7815054517016345,\n",
       " 0.7758557317838431,\n",
       " 0.7714693315327829,\n",
       " 0.7674055149450967,\n",
       " 0.767758688194561,\n",
       " 0.7620738946388729,\n",
       " 0.7658583147230122,\n",
       " 0.7647837249394562,\n",
       " 0.7651215142564779,\n",
       " 0.7616897648627082,\n",
       " 0.766976562680582,\n",
       " 0.7674487170253813,\n",
       " 0.7666575880015596,\n",
       " 0.7659867562847422,\n",
       " 0.7598017101843577,\n",
       " 0.7588510511488135,\n",
       " 0.767863475644609,\n",
       " 0.773031074581064,\n",
       " 0.7715035686693875,\n",
       " 0.760134966442542,\n",
       " 0.7605231425494142]"
      ]
     },
     "execution_count": 34,
     "metadata": {},
     "output_type": "execute_result"
    }
   ],
   "source": [
    "system_greenness"
   ]
  },
  {
   "cell_type": "code",
   "execution_count": 31,
   "id": "290ffe62",
   "metadata": {},
   "outputs": [
    {
     "data": {
      "image/png": "[encoded data removed]",
      "text/plain": [
       "<Figure size 432x288 with 1 Axes>"
      ]
     },
     "metadata": {
      "needs_background": "light"
     },
     "output_type": "display_data"
    }
   ],
   "source": [
    "plt.plot(np.arange(0,timesteps),system_greenness)\n",
    "plt.xlabel('Timesteps')\n",
    "plt.ylabel('Average Green Score of the System over Time')\n",
    "plt.savefig(\"system_greenness_dynamic_importance.png\")\n",
    "plt.show()"
   ]
  },
  {
   "cell_type": "code",
   "execution_count": 32,
   "id": "1f734456",
   "metadata": {},
   "outputs": [
    {
     "data": {
      "text/plain": [
       "{'0': {'BuyRecFromVirtualStore': 12},\n",
       " '1': {'BuyRecFromVirtualStore': 11},\n",
       " '2': {'BuyRecFromVirtualStore': 9},\n",
       " '3': {'BuyRecFromVirtualStore': 5},\n",
       " '4': {'BuyRecFromVirtualStore': 9},\n",
       " '5': {'BuyRecFromVirtualStore': 12},\n",
       " '6': {'BuyRecFromVirtualStore': 17},\n",
       " '7': {'BuyRecFromVirtualStore': 16},\n",
       " '8': {'BuyRecFromVirtualStore': 14},\n",
       " '9': {'BuyRecFromVirtualStore': 14},\n",
       " '10': {'BuyRecFromVirtualStore': 1},\n",
       " '11': {'BuyRecFromVirtualStore': 19},\n",
       " '12': {'BuyRecFromVirtualStore': 15},\n",
       " '13': {'BuyRecFromVirtualStore': 9},\n",
       " '14': {'BuyRecFromVirtualStore': 20},\n",
       " '15': {'BuyRecFromVirtualStore': 15},\n",
       " '16': {'BuyRecFromVirtualStore': 14},\n",
       " '17': {'BuyRecFromVirtualStore': 15},\n",
       " '18': {'BuyRecFromVirtualStore': 14},\n",
       " '19': {'BuyRecFromVirtualStore': 15},\n",
       " '20': {'BuyRecFromVirtualStore': 18},\n",
       " '21': {'BuyRecFromVirtualStore': 7},\n",
       " '22': {'BuyRecFromVirtualStore': 9},\n",
       " '23': {'BuyRecFromVirtualStore': 21},\n",
       " '24': {'BuyRecFromVirtualStore': 20},\n",
       " '25': {'BuyRecFromVirtualStore': 17},\n",
       " '26': {'BuyRecFromVirtualStore': 14},\n",
       " '27': {'BuyRecFromVirtualStore': 14},\n",
       " '28': {'BuyRecFromVirtualStore': 20},\n",
       " '29': {},\n",
       " '30': {'BuyRecFromVirtualStore': 12},\n",
       " '31': {'BuyRecFromVirtualStore': 11},\n",
       " '32': {'BuyRecFromVirtualStore': 2},\n",
       " '33': {'BuyRecFromVirtualStore': 9},\n",
       " '34': {'BuyRecFromVirtualStore': 21},\n",
       " '35': {'BuyRecFromVirtualStore': 12},\n",
       " '36': {'BuyRecFromVirtualStore': 8},\n",
       " '37': {'BuyRecFromVirtualStore': 1},\n",
       " '38': {'BuyRecFromVirtualStore': 4},\n",
       " '39': {'BuyRecFromVirtualStore': 16},\n",
       " '40': {'BuyRecFromVirtualStore': 19},\n",
       " '41': {'BuyRecFromVirtualStore': 2},\n",
       " '42': {'BuyRecFromVirtualStore': 20},\n",
       " '43': {'BuyRecFromVirtualStore': 11},\n",
       " '44': {'BuyRecFromVirtualStore': 16},\n",
       " '45': {'BuyRecFromVirtualStore': 15},\n",
       " '46': {'BuyRecFromVirtualStore': 17},\n",
       " '47': {'BuyRecFromVirtualStore': 9},\n",
       " '48': {'BuyRecFromVirtualStore': 16},\n",
       " '49': {'BuyRecFromVirtualStore': 11},\n",
       " '50': {'BuyRecFromVirtualStore': 15},\n",
       " '51': {'BuyRecFromVirtualStore': 15},\n",
       " '52': {'BuyRecFromVirtualStore': 5},\n",
       " '53': {'BuyRecFromVirtualStore': 6},\n",
       " '54': {'BuyRecFromVirtualStore': 2},\n",
       " '55': {'BuyRecFromVirtualStore': 20},\n",
       " '56': {'BuyRecFromVirtualStore': 14},\n",
       " '57': {'BuyRecFromVirtualStore': 18},\n",
       " '58': {'BuyRecFromVirtualStore': 18},\n",
       " '59': {'BuyRecFromVirtualStore': 19},\n",
       " '60': {'BuyRecFromVirtualStore': 18},\n",
       " '61': {'BuyRecFromVirtualStore': 15},\n",
       " '62': {'BuyRecFromVirtualStore': 19},\n",
       " '63': {'BuyRecFromVirtualStore': 8},\n",
       " '64': {'BuyRecFromVirtualStore': 13},\n",
       " '65': {'BuyRecFromVirtualStore': 2},\n",
       " '66': {'BuyRecFromVirtualStore': 15},\n",
       " '67': {'BuyRecFromVirtualStore': 15},\n",
       " '68': {'BuyRecFromVirtualStore': 16},\n",
       " '69': {'BuyRecFromVirtualStore': 4},\n",
       " '70': {'BuyRecFromVirtualStore': 14},\n",
       " '71': {'BuyRecFromVirtualStore': 21},\n",
       " '72': {'BuyRecFromVirtualStore': 5},\n",
       " '73': {'BuyRecFromVirtualStore': 14},\n",
       " '74': {'BuyRecFromVirtualStore': 1},\n",
       " '75': {'BuyRecFromVirtualStore': 17},\n",
       " '76': {'BuyRecFromVirtualStore': 20},\n",
       " '77': {'BuyRecFromVirtualStore': 6},\n",
       " '78': {'BuyRecFromVirtualStore': 20},\n",
       " '79': {'BuyRecFromVirtualStore': 9},\n",
       " '80': {'BuyRecFromVirtualStore': 18},\n",
       " '81': {'BuyRecFromVirtualStore': 10},\n",
       " '82': {'BuyRecFromVirtualStore': 16},\n",
       " '83': {'BuyRecFromVirtualStore': 19},\n",
       " '84': {'BuyRecFromVirtualStore': 7},\n",
       " '85': {'BuyRecFromVirtualStore': 17},\n",
       " '86': {'BuyRecFromVirtualStore': 16},\n",
       " '87': {'BuyRecFromVirtualStore': 1},\n",
       " '88': {'BuyRecFromVirtualStore': 17},\n",
       " '89': {'BuyRecFromVirtualStore': 8},\n",
       " '90': {'BuyRecFromVirtualStore': 15},\n",
       " '91': {'BuyRecFromVirtualStore': 15},\n",
       " '92': {'BuyRecFromVirtualStore': 18},\n",
       " '93': {'BuyRecFromVirtualStore': 20},\n",
       " '94': {'BuyRecFromVirtualStore': 7},\n",
       " '95': {'BuyRecFromVirtualStore': 14},\n",
       " '96': {'BuyRecFromVirtualStore': 14},\n",
       " '97': {'BuyRecFromVirtualStore': 20},\n",
       " '98': {'BuyRecFromVirtualStore': 20},\n",
       " '99': {'BuyRecFromVirtualStore': 13},\n",
       " 'p': {'ChangeMinerSelectionPolicy': 20}}"
      ]
     },
     "execution_count": 32,
     "metadata": {},
     "output_type": "execute_result"
    }
   ],
   "source": [
    "dense_logs[0]['actions'][167]"
   ]
  },
  {
   "cell_type": "code",
   "execution_count": 33,
   "id": "6ac30c44",
   "metadata": {},
   "outputs": [],
   "source": [
    "# Shutdown Ray after use\n",
    "ray.shutdown()"
   ]
  },
  {
   "cell_type": "code",
   "execution_count": null,
   "id": "1e4a8540",
   "metadata": {},
   "outputs": [],
   "source": []
  }
 ],
 "metadata": {
  "kernelspec": {
   "display_name": "Python 3",
   "language": "python",
   "name": "python3"
  },
  "language_info": {
   "codemirror_mode": {
    "name": "ipython",
    "version": 3
   },
   "file_extension": ".py",
   "mimetype": "text/x-python",
   "name": "python",
   "nbconvert_exporter": "python",
   "pygments_lexer": "ipython3",
   "version": "3.7.13"
  }
 },
 "nbformat": 4,
 "nbformat_minor": 5
}
