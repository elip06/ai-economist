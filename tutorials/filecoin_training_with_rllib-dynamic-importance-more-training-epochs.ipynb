{
 "cells": [
  {
   "cell_type": "code",
   "execution_count": 1,
   "id": "618c9afa",
   "metadata": {},
   "outputs": [],
   "source": [
    "# Define the configuration of the environment that will be built\n",
    "\n",
    "env_config_dict = {\n",
    "    # ===== SCENARIO CLASS =====\n",
    "    # Which Scenario class to use: the class's name in the Scenario Registry (foundation.scenarios).\n",
    "    # The environment object will be an instance of the Scenario class.\n",
    "    'scenario_name': 'filecoin-energy',\n",
    "    \n",
    "    # ===== COMPONENTS =====\n",
    "    # Which components to use (specified as list of (\"component_name\", {component_kwargs}) tuples).\n",
    "    #   \"component_name\" refers to the Component class's name in the Component Registry (foundation.components)\n",
    "    #   {component_kwargs} is a dictionary of kwargs passed to the Component class\n",
    "    # The order in which components reset, step, and generate obs follows their listed order below.\n",
    "    'components': [\n",
    "        ('ChangeMinerSelectionPolicy', {}),\n",
    "        # (2) Trading collectible resources\n",
    "        ('BuyRECFromVirtualStore', { 'static': False}),\n",
    "    ],\n",
    "    \n",
    "\n",
    "    # ===== STANDARD ARGUMENTS ======\n",
    "    # kwargs that are used by every Scenario class (i.e. defined in BaseEnvironment)\n",
    "    'n_agents': 100,          # Number of non-planner agents (must be > 1)\n",
    "    'world_size': [1, 1], # [Height, Width] of the env world\n",
    "    'episode_length': 336, # Number of timesteps per episode\n",
    "    'static': False,\n",
    "    \n",
    "    # In multi-action-mode, the policy selects an action for each action subspace (defined in component code).\n",
    "    # Otherwise, the policy selects only 1 action.\n",
    "    'multi_action_mode_agents': False,\n",
    "    'multi_action_mode_planner': False,\n",
    "    \n",
    "    # When flattening observations, concatenate scalar & vector observations before output.\n",
    "    # Otherwise, return observations with minimal processing.\n",
    "    'flatten_observations': False,\n",
    "    # When Flattening masks, concatenate each action subspace mask into a single array.\n",
    "    # Note: flatten_masks = True is required for masking action logits in the code below.\n",
    "    'flatten_masks': True,\n",
    "    'dense_log_frequency': 1\n",
    "}"
   ]
  },
  {
   "cell_type": "code",
   "execution_count": 2,
   "id": "029c36a0",
   "metadata": {},
   "outputs": [
    {
     "name": "stdout",
     "output_type": "stream",
     "text": [
      "Inside covid19_components.py: 0 GPUs are available.\n",
      "No GPUs found! Running the simulation on a CPU.\n",
      "Inside covid19_env.py: 0 GPUs are available.\n",
      "No GPUs found! Running the simulation on a CPU.\n"
     ]
    },
    {
     "name": "stderr",
     "output_type": "stream",
     "text": [
      "/home/ubuntu/.local/lib/python3.7/site-packages/tensorflow/python/framework/dtypes.py:516: FutureWarning: Passing (type, 1) or '1type' as a synonym of type is deprecated; in a future version of numpy, it will be understood as (type, (1,)) / '(1,)type'.\n",
      "  _np_qint8 = np.dtype([(\"qint8\", np.int8, 1)])\n",
      "/home/ubuntu/.local/lib/python3.7/site-packages/tensorflow/python/framework/dtypes.py:517: FutureWarning: Passing (type, 1) or '1type' as a synonym of type is deprecated; in a future version of numpy, it will be understood as (type, (1,)) / '(1,)type'.\n",
      "  _np_quint8 = np.dtype([(\"quint8\", np.uint8, 1)])\n",
      "/home/ubuntu/.local/lib/python3.7/site-packages/tensorflow/python/framework/dtypes.py:518: FutureWarning: Passing (type, 1) or '1type' as a synonym of type is deprecated; in a future version of numpy, it will be understood as (type, (1,)) / '(1,)type'.\n",
      "  _np_qint16 = np.dtype([(\"qint16\", np.int16, 1)])\n",
      "/home/ubuntu/.local/lib/python3.7/site-packages/tensorflow/python/framework/dtypes.py:519: FutureWarning: Passing (type, 1) or '1type' as a synonym of type is deprecated; in a future version of numpy, it will be understood as (type, (1,)) / '(1,)type'.\n",
      "  _np_quint16 = np.dtype([(\"quint16\", np.uint16, 1)])\n",
      "/home/ubuntu/.local/lib/python3.7/site-packages/tensorflow/python/framework/dtypes.py:520: FutureWarning: Passing (type, 1) or '1type' as a synonym of type is deprecated; in a future version of numpy, it will be understood as (type, (1,)) / '(1,)type'.\n",
      "  _np_qint32 = np.dtype([(\"qint32\", np.int32, 1)])\n",
      "/home/ubuntu/.local/lib/python3.7/site-packages/tensorflow/python/framework/dtypes.py:525: FutureWarning: Passing (type, 1) or '1type' as a synonym of type is deprecated; in a future version of numpy, it will be understood as (type, (1,)) / '(1,)type'.\n",
      "  np_resource = np.dtype([(\"resource\", np.ubyte, 1)])\n",
      "/home/ubuntu/.local/lib/python3.7/site-packages/tensorboard/compat/tensorflow_stub/dtypes.py:541: FutureWarning: Passing (type, 1) or '1type' as a synonym of type is deprecated; in a future version of numpy, it will be understood as (type, (1,)) / '(1,)type'.\n",
      "  _np_qint8 = np.dtype([(\"qint8\", np.int8, 1)])\n",
      "/home/ubuntu/.local/lib/python3.7/site-packages/tensorboard/compat/tensorflow_stub/dtypes.py:542: FutureWarning: Passing (type, 1) or '1type' as a synonym of type is deprecated; in a future version of numpy, it will be understood as (type, (1,)) / '(1,)type'.\n",
      "  _np_quint8 = np.dtype([(\"quint8\", np.uint8, 1)])\n",
      "/home/ubuntu/.local/lib/python3.7/site-packages/tensorboard/compat/tensorflow_stub/dtypes.py:543: FutureWarning: Passing (type, 1) or '1type' as a synonym of type is deprecated; in a future version of numpy, it will be understood as (type, (1,)) / '(1,)type'.\n",
      "  _np_qint16 = np.dtype([(\"qint16\", np.int16, 1)])\n",
      "/home/ubuntu/.local/lib/python3.7/site-packages/tensorboard/compat/tensorflow_stub/dtypes.py:544: FutureWarning: Passing (type, 1) or '1type' as a synonym of type is deprecated; in a future version of numpy, it will be understood as (type, (1,)) / '(1,)type'.\n",
      "  _np_quint16 = np.dtype([(\"quint16\", np.uint16, 1)])\n",
      "/home/ubuntu/.local/lib/python3.7/site-packages/tensorboard/compat/tensorflow_stub/dtypes.py:545: FutureWarning: Passing (type, 1) or '1type' as a synonym of type is deprecated; in a future version of numpy, it will be understood as (type, (1,)) / '(1,)type'.\n",
      "  _np_qint32 = np.dtype([(\"qint32\", np.int32, 1)])\n",
      "/home/ubuntu/.local/lib/python3.7/site-packages/tensorboard/compat/tensorflow_stub/dtypes.py:550: FutureWarning: Passing (type, 1) or '1type' as a synonym of type is deprecated; in a future version of numpy, it will be understood as (type, (1,)) / '(1,)type'.\n",
      "  np_resource = np.dtype([(\"resource\", np.ubyte, 1)])\n"
     ]
    },
    {
     "name": "stdout",
     "output_type": "stream",
     "text": [
      "[EnvWrapper] Spaces\n",
      "[EnvWrapper] Obs (a)   \n",
      "action_mask    : (22,)\n",
      "time           : (1,)\n",
      "world-endogenous-ConsumedEnergy: (24,)\n",
      "world-endogenous-EnergyPrice: (1,)\n",
      "world-endogenous-GreenScore: (1,)\n",
      "world-endogenous-GreenScoresLastDay: (24,)\n",
      "world-endogenous-InitialGreenScore: (1,)\n",
      "world-endogenous-NewData: (1,)\n",
      "world-endogenous-RECsPrice: (1,)\n",
      "world-endogenous-ReliabilityScore: (1,)\n",
      "world-endogenous-TotalData: (1,)\n",
      "world-endogenous-TotalScore: (1,)\n",
      "\n",
      "\n",
      "[EnvWrapper] Obs (p)   \n",
      "action_mask    : (21,)\n",
      "time           : (1,)\n",
      "world-reliability: (1,)\n",
      "world-renewables: (1,)\n",
      "\n",
      "\n",
      "[EnvWrapper] Action (a) Discrete(22)\n",
      "[EnvWrapper] Action (p) Discrete(21)\n"
     ]
    }
   ],
   "source": [
    "from rllib.env_wrapper import RLlibEnvWrapper\n",
    "env_obj = RLlibEnvWrapper({\"env_config_dict\": env_config_dict}, verbose=True)"
   ]
  },
  {
   "cell_type": "code",
   "execution_count": 3,
   "id": "fe751b55",
   "metadata": {},
   "outputs": [],
   "source": [
    "import ray\n",
    "from ray.rllib.agents.ppo import PPOTrainer"
   ]
  },
  {
   "cell_type": "code",
   "execution_count": 4,
   "id": "9a826ce0",
   "metadata": {},
   "outputs": [],
   "source": [
    "policies = {\n",
    "    \"a\": (\n",
    "        None,  # uses default policy\n",
    "        env_obj.observation_space,\n",
    "        env_obj.action_space,\n",
    "        {}  # define a custom agent policy configuration.\n",
    "    ),\n",
    "    \"p\": (\n",
    "        None,  # uses default policy\n",
    "        env_obj.observation_space_pl,\n",
    "        env_obj.action_space_pl,\n",
    "        {}  # define a custom planner policy configuration.\n",
    "    )\n",
    "}\n",
    "\n",
    "# In foundation, all the agents have integer ids and the social planner has an id of \"p\"\n",
    "policy_mapping_fun = lambda i: \"a\" if str(i).isdigit() else \"p\"\n",
    "\n",
    "policies_to_train = [\"a\", \"p\"]"
   ]
  },
  {
   "cell_type": "code",
   "execution_count": 5,
   "id": "64331642",
   "metadata": {},
   "outputs": [],
   "source": [
    "trainer_config = {\n",
    "    \"multiagent\": {\n",
    "        \"policies\": policies,\n",
    "        \"policies_to_train\": policies_to_train,\n",
    "        \"policy_mapping_fn\": policy_mapping_fun,\n",
    "    }\n",
    "}"
   ]
  },
  {
   "cell_type": "code",
   "execution_count": 6,
   "id": "f2476f35",
   "metadata": {},
   "outputs": [],
   "source": [
    "trainer_config.update(\n",
    "    {\n",
    "        \"num_workers\": 2,\n",
    "        \"num_envs_per_worker\": 2,\n",
    "        # Other training parameters\n",
    "        \"train_batch_size\":  4000,\n",
    "        \"sgd_minibatch_size\": 4000,\n",
    "        \"num_sgd_iter\": 1,\n",
    "        \"lr\": 0.00001,\n",
    "    }\n",
    ")"
   ]
  },
  {
   "cell_type": "code",
   "execution_count": 7,
   "id": "33e6c665",
   "metadata": {},
   "outputs": [],
   "source": [
    "# We also add the \"num_envs_per_worker\" parameter for the env. wrapper to index the environments.\n",
    "env_config = {\n",
    "    \"env_config_dict\": env_config_dict,\n",
    "    \"num_envs_per_worker\": trainer_config.get('num_envs_per_worker'),   \n",
    "}\n",
    "\n",
    "trainer_config.update(\n",
    "    {\n",
    "        \"env_config\": env_config        \n",
    "    }\n",
    ")"
   ]
  },
  {
   "cell_type": "code",
   "execution_count": 8,
   "id": "cf127879",
   "metadata": {},
   "outputs": [
    {
     "name": "stderr",
     "output_type": "stream",
     "text": [
      "2022-05-31 17:23:16,083\tINFO resource_spec.py:212 -- Starting Ray with 9.13 GiB memory available for workers and up to 4.57 GiB for objects. You can adjust these settings with ray.init(memory=<bytes>, object_store_memory=<bytes>).\n",
      "2022-05-31 17:23:16,546\tINFO services.py:1148 -- View the Ray dashboard at \u001b[1m\u001b[32m127.0.0.1:8265\u001b[39m\u001b[22m\n"
     ]
    },
    {
     "data": {
      "text/plain": [
       "{'node_ip_address': '172.31.29.14',\n",
       " 'redis_address': '172.31.29.14:40868',\n",
       " 'object_store_address': '/tmp/ray/session_2022-05-31_17-23-16_065042_29360/sockets/plasma_store',\n",
       " 'raylet_socket_name': '/tmp/ray/session_2022-05-31_17-23-16_065042_29360/sockets/raylet',\n",
       " 'webui_url': '127.0.0.1:8265',\n",
       " 'session_dir': '/tmp/ray/session_2022-05-31_17-23-16_065042_29360'}"
      ]
     },
     "execution_count": 8,
     "metadata": {},
     "output_type": "execute_result"
    }
   ],
   "source": [
    "# Initialize Ray\n",
    "ray.init(webui_host=\"127.0.0.1\")"
   ]
  },
  {
   "cell_type": "code",
   "execution_count": 9,
   "id": "8f9c08a5",
   "metadata": {},
   "outputs": [
    {
     "name": "stderr",
     "output_type": "stream",
     "text": [
      "2022-05-31 17:23:16,709\tINFO trainer.py:428 -- Tip: set 'eager': true or the --eager flag to enable TensorFlow eager execution\n",
      "2022-05-31 17:23:16,776\tINFO trainer.py:585 -- Current log_level is WARN. For more information, set 'log_level': 'INFO' / 'DEBUG' or use the -v and -vv flags.\n"
     ]
    },
    {
     "name": "stdout",
     "output_type": "stream",
     "text": [
      "\u001b[2m\u001b[36m(pid=29409)\u001b[0m /home/ubuntu/.local/lib/python3.7/site-packages/tensorflow/python/framework/dtypes.py:516: FutureWarning: Passing (type, 1) or '1type' as a synonym of type is deprecated; in a future version of numpy, it will be understood as (type, (1,)) / '(1,)type'.\n",
      "\u001b[2m\u001b[36m(pid=29409)\u001b[0m   _np_qint8 = np.dtype([(\"qint8\", np.int8, 1)])\n",
      "\u001b[2m\u001b[36m(pid=29409)\u001b[0m /home/ubuntu/.local/lib/python3.7/site-packages/tensorflow/python/framework/dtypes.py:517: FutureWarning: Passing (type, 1) or '1type' as a synonym of type is deprecated; in a future version of numpy, it will be understood as (type, (1,)) / '(1,)type'.\n",
      "\u001b[2m\u001b[36m(pid=29409)\u001b[0m   _np_quint8 = np.dtype([(\"quint8\", np.uint8, 1)])\n",
      "\u001b[2m\u001b[36m(pid=29409)\u001b[0m /home/ubuntu/.local/lib/python3.7/site-packages/tensorflow/python/framework/dtypes.py:518: FutureWarning: Passing (type, 1) or '1type' as a synonym of type is deprecated; in a future version of numpy, it will be understood as (type, (1,)) / '(1,)type'.\n",
      "\u001b[2m\u001b[36m(pid=29409)\u001b[0m   _np_qint16 = np.dtype([(\"qint16\", np.int16, 1)])\n",
      "\u001b[2m\u001b[36m(pid=29409)\u001b[0m /home/ubuntu/.local/lib/python3.7/site-packages/tensorflow/python/framework/dtypes.py:519: FutureWarning: Passing (type, 1) or '1type' as a synonym of type is deprecated; in a future version of numpy, it will be understood as (type, (1,)) / '(1,)type'.\n",
      "\u001b[2m\u001b[36m(pid=29409)\u001b[0m   _np_quint16 = np.dtype([(\"quint16\", np.uint16, 1)])\n",
      "\u001b[2m\u001b[36m(pid=29409)\u001b[0m /home/ubuntu/.local/lib/python3.7/site-packages/tensorflow/python/framework/dtypes.py:520: FutureWarning: Passing (type, 1) or '1type' as a synonym of type is deprecated; in a future version of numpy, it will be understood as (type, (1,)) / '(1,)type'.\n",
      "\u001b[2m\u001b[36m(pid=29409)\u001b[0m   _np_qint32 = np.dtype([(\"qint32\", np.int32, 1)])\n",
      "\u001b[2m\u001b[36m(pid=29409)\u001b[0m /home/ubuntu/.local/lib/python3.7/site-packages/tensorflow/python/framework/dtypes.py:525: FutureWarning: Passing (type, 1) or '1type' as a synonym of type is deprecated; in a future version of numpy, it will be understood as (type, (1,)) / '(1,)type'.\n",
      "\u001b[2m\u001b[36m(pid=29409)\u001b[0m   np_resource = np.dtype([(\"resource\", np.ubyte, 1)])\n",
      "\u001b[2m\u001b[36m(pid=29407)\u001b[0m /home/ubuntu/.local/lib/python3.7/site-packages/tensorflow/python/framework/dtypes.py:516: FutureWarning: Passing (type, 1) or '1type' as a synonym of type is deprecated; in a future version of numpy, it will be understood as (type, (1,)) / '(1,)type'.\n",
      "\u001b[2m\u001b[36m(pid=29407)\u001b[0m   _np_qint8 = np.dtype([(\"qint8\", np.int8, 1)])\n",
      "\u001b[2m\u001b[36m(pid=29407)\u001b[0m /home/ubuntu/.local/lib/python3.7/site-packages/tensorflow/python/framework/dtypes.py:517: FutureWarning: Passing (type, 1) or '1type' as a synonym of type is deprecated; in a future version of numpy, it will be understood as (type, (1,)) / '(1,)type'.\n",
      "\u001b[2m\u001b[36m(pid=29407)\u001b[0m   _np_quint8 = np.dtype([(\"quint8\", np.uint8, 1)])\n",
      "\u001b[2m\u001b[36m(pid=29407)\u001b[0m /home/ubuntu/.local/lib/python3.7/site-packages/tensorflow/python/framework/dtypes.py:518: FutureWarning: Passing (type, 1) or '1type' as a synonym of type is deprecated; in a future version of numpy, it will be understood as (type, (1,)) / '(1,)type'.\n",
      "\u001b[2m\u001b[36m(pid=29407)\u001b[0m   _np_qint16 = np.dtype([(\"qint16\", np.int16, 1)])\n",
      "\u001b[2m\u001b[36m(pid=29407)\u001b[0m /home/ubuntu/.local/lib/python3.7/site-packages/tensorflow/python/framework/dtypes.py:519: FutureWarning: Passing (type, 1) or '1type' as a synonym of type is deprecated; in a future version of numpy, it will be understood as (type, (1,)) / '(1,)type'.\n",
      "\u001b[2m\u001b[36m(pid=29407)\u001b[0m   _np_quint16 = np.dtype([(\"quint16\", np.uint16, 1)])\n",
      "\u001b[2m\u001b[36m(pid=29407)\u001b[0m /home/ubuntu/.local/lib/python3.7/site-packages/tensorflow/python/framework/dtypes.py:520: FutureWarning: Passing (type, 1) or '1type' as a synonym of type is deprecated; in a future version of numpy, it will be understood as (type, (1,)) / '(1,)type'.\n",
      "\u001b[2m\u001b[36m(pid=29407)\u001b[0m   _np_qint32 = np.dtype([(\"qint32\", np.int32, 1)])\n",
      "\u001b[2m\u001b[36m(pid=29407)\u001b[0m /home/ubuntu/.local/lib/python3.7/site-packages/tensorflow/python/framework/dtypes.py:525: FutureWarning: Passing (type, 1) or '1type' as a synonym of type is deprecated; in a future version of numpy, it will be understood as (type, (1,)) / '(1,)type'.\n",
      "\u001b[2m\u001b[36m(pid=29407)\u001b[0m   np_resource = np.dtype([(\"resource\", np.ubyte, 1)])\n",
      "\u001b[2m\u001b[36m(pid=29409)\u001b[0m /home/ubuntu/.local/lib/python3.7/site-packages/tensorboard/compat/tensorflow_stub/dtypes.py:541: FutureWarning: Passing (type, 1) or '1type' as a synonym of type is deprecated; in a future version of numpy, it will be understood as (type, (1,)) / '(1,)type'.\n",
      "\u001b[2m\u001b[36m(pid=29409)\u001b[0m   _np_qint8 = np.dtype([(\"qint8\", np.int8, 1)])\n",
      "\u001b[2m\u001b[36m(pid=29409)\u001b[0m /home/ubuntu/.local/lib/python3.7/site-packages/tensorboard/compat/tensorflow_stub/dtypes.py:542: FutureWarning: Passing (type, 1) or '1type' as a synonym of type is deprecated; in a future version of numpy, it will be understood as (type, (1,)) / '(1,)type'.\n",
      "\u001b[2m\u001b[36m(pid=29409)\u001b[0m   _np_quint8 = np.dtype([(\"quint8\", np.uint8, 1)])\n",
      "\u001b[2m\u001b[36m(pid=29409)\u001b[0m /home/ubuntu/.local/lib/python3.7/site-packages/tensorboard/compat/tensorflow_stub/dtypes.py:543: FutureWarning: Passing (type, 1) or '1type' as a synonym of type is deprecated; in a future version of numpy, it will be understood as (type, (1,)) / '(1,)type'.\n",
      "\u001b[2m\u001b[36m(pid=29409)\u001b[0m   _np_qint16 = np.dtype([(\"qint16\", np.int16, 1)])\n",
      "\u001b[2m\u001b[36m(pid=29409)\u001b[0m /home/ubuntu/.local/lib/python3.7/site-packages/tensorboard/compat/tensorflow_stub/dtypes.py:544: FutureWarning: Passing (type, 1) or '1type' as a synonym of type is deprecated; in a future version of numpy, it will be understood as (type, (1,)) / '(1,)type'.\n",
      "\u001b[2m\u001b[36m(pid=29409)\u001b[0m   _np_quint16 = np.dtype([(\"quint16\", np.uint16, 1)])\n",
      "\u001b[2m\u001b[36m(pid=29409)\u001b[0m /home/ubuntu/.local/lib/python3.7/site-packages/tensorboard/compat/tensorflow_stub/dtypes.py:545: FutureWarning: Passing (type, 1) or '1type' as a synonym of type is deprecated; in a future version of numpy, it will be understood as (type, (1,)) / '(1,)type'.\n",
      "\u001b[2m\u001b[36m(pid=29409)\u001b[0m   _np_qint32 = np.dtype([(\"qint32\", np.int32, 1)])\n",
      "\u001b[2m\u001b[36m(pid=29409)\u001b[0m /home/ubuntu/.local/lib/python3.7/site-packages/tensorboard/compat/tensorflow_stub/dtypes.py:550: FutureWarning: Passing (type, 1) or '1type' as a synonym of type is deprecated; in a future version of numpy, it will be understood as (type, (1,)) / '(1,)type'.\n",
      "\u001b[2m\u001b[36m(pid=29409)\u001b[0m   np_resource = np.dtype([(\"resource\", np.ubyte, 1)])\n",
      "\u001b[2m\u001b[36m(pid=29407)\u001b[0m /home/ubuntu/.local/lib/python3.7/site-packages/tensorboard/compat/tensorflow_stub/dtypes.py:541: FutureWarning: Passing (type, 1) or '1type' as a synonym of type is deprecated; in a future version of numpy, it will be understood as (type, (1,)) / '(1,)type'.\n",
      "\u001b[2m\u001b[36m(pid=29407)\u001b[0m   _np_qint8 = np.dtype([(\"qint8\", np.int8, 1)])\n",
      "\u001b[2m\u001b[36m(pid=29407)\u001b[0m /home/ubuntu/.local/lib/python3.7/site-packages/tensorboard/compat/tensorflow_stub/dtypes.py:542: FutureWarning: Passing (type, 1) or '1type' as a synonym of type is deprecated; in a future version of numpy, it will be understood as (type, (1,)) / '(1,)type'.\n",
      "\u001b[2m\u001b[36m(pid=29407)\u001b[0m   _np_quint8 = np.dtype([(\"quint8\", np.uint8, 1)])\n",
      "\u001b[2m\u001b[36m(pid=29407)\u001b[0m /home/ubuntu/.local/lib/python3.7/site-packages/tensorboard/compat/tensorflow_stub/dtypes.py:543: FutureWarning: Passing (type, 1) or '1type' as a synonym of type is deprecated; in a future version of numpy, it will be understood as (type, (1,)) / '(1,)type'.\n",
      "\u001b[2m\u001b[36m(pid=29407)\u001b[0m   _np_qint16 = np.dtype([(\"qint16\", np.int16, 1)])\n",
      "\u001b[2m\u001b[36m(pid=29407)\u001b[0m /home/ubuntu/.local/lib/python3.7/site-packages/tensorboard/compat/tensorflow_stub/dtypes.py:544: FutureWarning: Passing (type, 1) or '1type' as a synonym of type is deprecated; in a future version of numpy, it will be understood as (type, (1,)) / '(1,)type'.\n",
      "\u001b[2m\u001b[36m(pid=29407)\u001b[0m   _np_quint16 = np.dtype([(\"quint16\", np.uint16, 1)])\n",
      "\u001b[2m\u001b[36m(pid=29407)\u001b[0m /home/ubuntu/.local/lib/python3.7/site-packages/tensorboard/compat/tensorflow_stub/dtypes.py:545: FutureWarning: Passing (type, 1) or '1type' as a synonym of type is deprecated; in a future version of numpy, it will be understood as (type, (1,)) / '(1,)type'.\n",
      "\u001b[2m\u001b[36m(pid=29407)\u001b[0m   _np_qint32 = np.dtype([(\"qint32\", np.int32, 1)])\n",
      "\u001b[2m\u001b[36m(pid=29407)\u001b[0m /home/ubuntu/.local/lib/python3.7/site-packages/tensorboard/compat/tensorflow_stub/dtypes.py:550: FutureWarning: Passing (type, 1) or '1type' as a synonym of type is deprecated; in a future version of numpy, it will be understood as (type, (1,)) / '(1,)type'.\n",
      "\u001b[2m\u001b[36m(pid=29407)\u001b[0m   np_resource = np.dtype([(\"resource\", np.ubyte, 1)])\n"
     ]
    },
    {
     "name": "stdout",
     "output_type": "stream",
     "text": [
      "\u001b[2m\u001b[36m(pid=29409)\u001b[0m Inside covid19_components.py: 0 GPUs are available.\n",
      "\u001b[2m\u001b[36m(pid=29409)\u001b[0m No GPUs found! Running the simulation on a CPU.\n",
      "\u001b[2m\u001b[36m(pid=29409)\u001b[0m Inside covid19_env.py: 0 GPUs are available.\n",
      "\u001b[2m\u001b[36m(pid=29409)\u001b[0m No GPUs found! Running the simulation on a CPU.\n",
      "\u001b[2m\u001b[36m(pid=29407)\u001b[0m Inside covid19_components.py: 0 GPUs are available.\n",
      "\u001b[2m\u001b[36m(pid=29407)\u001b[0m No GPUs found! Running the simulation on a CPU.\n",
      "\u001b[2m\u001b[36m(pid=29407)\u001b[0m Inside covid19_env.py: 0 GPUs are available.\n",
      "\u001b[2m\u001b[36m(pid=29407)\u001b[0m No GPUs found! Running the simulation on a CPU.\n"
     ]
    },
    {
     "name": "stderr",
     "output_type": "stream",
     "text": [
      "2022-05-31 17:23:27,301\tINFO trainable.py:180 -- _setup took 10.527 seconds. If your trainable is slow to initialize, consider setting reuse_actors=True to reduce actor creation overheads.\n",
      "2022-05-31 17:23:27,302\tINFO trainable.py:217 -- Getting current IP.\n"
     ]
    }
   ],
   "source": [
    "# Create the PPO trainer.\n",
    "trainer = PPOTrainer(\n",
    "    env=RLlibEnvWrapper,\n",
    "    config=trainer_config,\n",
    "    )"
   ]
  },
  {
   "cell_type": "code",
   "execution_count": 10,
   "id": "30b07c25",
   "metadata": {},
   "outputs": [
    {
     "name": "stdout",
     "output_type": "stream",
     "text": [
      "********** Iter : 0 **********\n",
      "\u001b[2m\u001b[36m(pid=29409)\u001b[0m 2022-05-31 17:23:30,841\tWARNING sampler.py:404 -- More than 2020 observations for 21 env steps are buffered in the sampler. If this is more than you expected, check that that you set a horizon on your environment correctly and that it terminates at some point. Note: In multi-agent environments, `rollout_fragment_length` sets the batch size based on environment steps, not the steps of individual agents, which can result in unexpectedly large batches. Also, you may be in evaluation waiting for your Env to terminate (batch_mode=`complete_episodes`). Make sure it does at some point.\n",
      "episode_reward_mean: 224.1478943168009\n",
      "********** Iter : 1 **********\n",
      "episode_reward_mean: 225.06955444416934\n",
      "********** Iter : 2 **********\n",
      "episode_reward_mean: 225.71116174293525\n",
      "********** Iter : 3 **********\n",
      "episode_reward_mean: 225.9113133190572\n",
      "********** Iter : 4 **********\n",
      "episode_reward_mean: 226.10271355739823\n",
      "********** Iter : 5 **********\n",
      "episode_reward_mean: 226.53321955564883\n",
      "********** Iter : 6 **********\n",
      "episode_reward_mean: 226.66411803681484\n",
      "********** Iter : 7 **********\n",
      "episode_reward_mean: 226.88558018248122\n",
      "********** Iter : 8 **********\n",
      "episode_reward_mean: 227.39346914091638\n",
      "********** Iter : 9 **********\n",
      "episode_reward_mean: 228.1681745687064\n",
      "********** Iter : 10 **********\n",
      "episode_reward_mean: 228.7618280528801\n",
      "********** Iter : 11 **********\n",
      "episode_reward_mean: 229.3947286695299\n",
      "********** Iter : 12 **********\n",
      "episode_reward_mean: 230.20846351253087\n",
      "********** Iter : 13 **********\n",
      "episode_reward_mean: 230.87780607921093\n",
      "********** Iter : 14 **********\n",
      "episode_reward_mean: 231.6883331797483\n",
      "********** Iter : 15 **********\n",
      "episode_reward_mean: 232.4787026697496\n",
      "********** Iter : 16 **********\n",
      "episode_reward_mean: 233.33217420488458\n",
      "********** Iter : 17 **********\n",
      "episode_reward_mean: 234.25112920962496\n",
      "********** Iter : 18 **********\n",
      "episode_reward_mean: 235.08515119657318\n",
      "********** Iter : 19 **********\n",
      "episode_reward_mean: 235.8628992224646\n",
      "********** Iter : 20 **********\n",
      "episode_reward_mean: 236.6160971584654\n",
      "********** Iter : 21 **********\n",
      "episode_reward_mean: 237.34616603888674\n",
      "********** Iter : 22 **********\n",
      "episode_reward_mean: 238.10601061116998\n",
      "********** Iter : 23 **********\n",
      "episode_reward_mean: 238.87448634943502\n",
      "********** Iter : 24 **********\n",
      "episode_reward_mean: 239.6343728808563\n",
      "********** Iter : 25 **********\n",
      "episode_reward_mean: 240.14677968371674\n",
      "********** Iter : 26 **********\n",
      "episode_reward_mean: 240.6741371932593\n",
      "********** Iter : 27 **********\n",
      "episode_reward_mean: 241.26980805475975\n",
      "********** Iter : 28 **********\n",
      "episode_reward_mean: 241.8267295815136\n",
      "********** Iter : 29 **********\n",
      "episode_reward_mean: 242.38681108473742\n",
      "********** Iter : 30 **********\n",
      "episode_reward_mean: 242.87860620218166\n",
      "********** Iter : 31 **********\n",
      "episode_reward_mean: 243.37403111809712\n",
      "********** Iter : 32 **********\n",
      "episode_reward_mean: 243.8766757571662\n",
      "********** Iter : 33 **********\n",
      "episode_reward_mean: 244.42564695643927\n",
      "********** Iter : 34 **********\n",
      "episode_reward_mean: 244.93698070754505\n",
      "********** Iter : 35 **********\n",
      "episode_reward_mean: 245.60361050964954\n",
      "********** Iter : 36 **********\n",
      "episode_reward_mean: 246.0767059487446\n",
      "********** Iter : 37 **********\n",
      "episode_reward_mean: 246.6234280910681\n",
      "********** Iter : 38 **********\n",
      "episode_reward_mean: 247.21936226159698\n",
      "********** Iter : 39 **********\n",
      "episode_reward_mean: 247.84939851764975\n",
      "********** Iter : 40 **********\n",
      "episode_reward_mean: 248.45023864248924\n",
      "********** Iter : 41 **********\n",
      "episode_reward_mean: 248.8026514369093\n",
      "********** Iter : 42 **********\n",
      "episode_reward_mean: 249.14205583053416\n",
      "********** Iter : 43 **********\n",
      "episode_reward_mean: 249.52113696507877\n",
      "********** Iter : 44 **********\n",
      "episode_reward_mean: 249.97840716625456\n",
      "********** Iter : 45 **********\n",
      "episode_reward_mean: 250.5571934625667\n",
      "********** Iter : 46 **********\n",
      "episode_reward_mean: 251.01052011091528\n",
      "********** Iter : 47 **********\n",
      "episode_reward_mean: 251.48762809285918\n",
      "********** Iter : 48 **********\n",
      "episode_reward_mean: 251.77762922460963\n",
      "********** Iter : 49 **********\n",
      "episode_reward_mean: 252.26111139225685\n"
     ]
    }
   ],
   "source": [
    "NUM_ITERS = 50\n",
    "for iteration in range(NUM_ITERS):\n",
    "    print(f'********** Iter : {iteration} **********')\n",
    "    result = trainer.train()\n",
    "    print(f'''episode_reward_mean: {result.get('episode_reward_mean')}''')"
   ]
  },
  {
   "cell_type": "code",
   "execution_count": 11,
   "id": "7d87d22c",
   "metadata": {},
   "outputs": [
    {
     "data": {
      "text/plain": [
       "{'loc': [-1, -1],\n",
       " 'inventory': {},\n",
       " 'escrow': {},\n",
       " 'endogenous': {'ConsumedEnergy': array([0., 0., 0., 0., 0., 0., 0., 0., 0., 0., 0., 0., 0., 0., 0., 0., 0.,\n",
       "         0., 0., 0., 0., 0., 0., 0.]),\n",
       "  'GreenScore': 0.6888900000000001,\n",
       "  'GreenScoresLastDay': array([0.68889, 0.68889, 0.68889, 0.68889, 0.68889, 0.68889, 0.68889,\n",
       "         0.68889, 0.68889, 0.68889, 0.68889, 0.68889, 0.68889, 0.68889,\n",
       "         0.68889, 0.68889, 0.68889, 0.68889, 0.68889, 0.68889, 0.68889,\n",
       "         0.68889, 0.68889, 0.68889]),\n",
       "  'NewData': 0.0,\n",
       "  'RECsPrice': 0.0,\n",
       "  'ReliabilityScore': 0.3,\n",
       "  'TotalData': 0.0,\n",
       "  'TotalScore': 0.3,\n",
       "  'EnergyPrice': 0.115,\n",
       "  'InitialGreenScore': 0.68889}}"
      ]
     },
     "execution_count": 11,
     "metadata": {},
     "output_type": "execute_result"
    }
   ],
   "source": [
    "env_obj.env.get_agent(3).state"
   ]
  },
  {
   "cell_type": "code",
   "execution_count": 12,
   "id": "d7e6256f",
   "metadata": {},
   "outputs": [],
   "source": [
    "def generate_rollout_from_current_trainer_policy(\n",
    "    trainer, \n",
    "    env_obj,\n",
    "    num_dense_logs=1\n",
    "):\n",
    "    dense_logs = {}\n",
    "    for idx in range(num_dense_logs):\n",
    "        # Set initial states\n",
    "        agent_states = {}\n",
    "        for agent_idx in range(env_obj.env.n_agents):\n",
    "            agent_states[str(agent_idx)] = trainer.get_policy(\"a\").get_initial_state()\n",
    "        planner_states = trainer.get_policy(\"p\").get_initial_state()   \n",
    "\n",
    "        # Play out the episode\n",
    "        obs = env_obj.reset(force_dense_logging=True)\n",
    "        for t in range(env_obj.env.episode_length):\n",
    "            actions = {}\n",
    "            for agent_idx in range(env_obj.env.n_agents):\n",
    "                # Use the trainer object directly to sample actions for each agent\n",
    "                actions[str(agent_idx)] = trainer.compute_action(\n",
    "                    obs[str(agent_idx)], \n",
    "                    agent_states[str(agent_idx)], \n",
    "                    policy_id=\"a\",\n",
    "                    full_fetch=False\n",
    "                )\n",
    "\n",
    "            # Action sampling for the planner\n",
    "            actions[\"p\"] = trainer.compute_action(\n",
    "                obs['p'], \n",
    "                planner_states, \n",
    "                policy_id='p',\n",
    "                full_fetch=False\n",
    "            )\n",
    "\n",
    "            obs, rew, done, info = env_obj.step(actions)        \n",
    "            if done['__all__']:\n",
    "                break\n",
    "        dense_logs[idx] = env_obj.env.dense_log\n",
    "    return dense_logs"
   ]
  },
  {
   "cell_type": "code",
   "execution_count": 13,
   "id": "b1fbc5f7",
   "metadata": {},
   "outputs": [],
   "source": [
    "dense_logs = generate_rollout_from_current_trainer_policy(\n",
    "    trainer, \n",
    "    env_obj,\n",
    "    num_dense_logs=1\n",
    ")"
   ]
  },
  {
   "cell_type": "code",
   "execution_count": 14,
   "id": "d82a2faa",
   "metadata": {},
   "outputs": [],
   "source": [
    "timesteps = len(dense_logs[0]['states'])"
   ]
  },
  {
   "cell_type": "code",
   "execution_count": 15,
   "id": "079e73df",
   "metadata": {},
   "outputs": [],
   "source": [
    "import numpy as np"
   ]
  },
  {
   "cell_type": "code",
   "execution_count": 16,
   "id": "7a70fd50",
   "metadata": {},
   "outputs": [],
   "source": [
    "avg_green_scores = [np.mean(np.array([dense_logs[0]['states'][i][k]['endogenous']['GreenScore'] for k in dense_logs[0]['states'][i].keys() if k != 'p'])) for i in range(0,timesteps)]"
   ]
  },
  {
   "cell_type": "code",
   "execution_count": 17,
   "id": "0b95e6f9",
   "metadata": {},
   "outputs": [],
   "source": [
    "def reliability_scores(agent_reliability_scores, agent_storage):\n",
    "    if np.sum(agent_storage) == 0:\n",
    "        return 0.0\n",
    "    return np.sum(agent_reliability_scores * agent_storage) / np.sum(agent_storage)\n",
    "\n",
    "\n",
    "def green_scores(agent_green_scores, agent_storage):\n",
    "    if np.sum(agent_storage) == 0:\n",
    "        return 0.0\n",
    "    return np.sum(agent_green_scores * agent_storage) / np.sum(agent_storage)"
   ]
  },
  {
   "cell_type": "code",
   "execution_count": 18,
   "id": "9daaf98c",
   "metadata": {},
   "outputs": [],
   "source": [
    "system_greenness = []\n",
    "for i in range(0,timesteps):  \n",
    "    agent_green_scores = np.array(\n",
    "        [dense_logs[0]['states'][i][k]['endogenous']['GreenScore'] for k in dense_logs[0]['states'][i].keys() if k != 'p']\n",
    "    )\n",
    "    agent_data = np.array(\n",
    "        [dense_logs[0]['states'][i][k]['endogenous']['TotalData'] for k in dense_logs[0]['states'][i].keys() if k != 'p']\n",
    "    )\n",
    "\n",
    "    rel = green_scores(agent_green_scores, agent_data)\n",
    "    system_greenness.append(rel)"
   ]
  },
  {
   "cell_type": "code",
   "execution_count": 19,
   "id": "fa8970c5",
   "metadata": {},
   "outputs": [],
   "source": [
    "system_reliability = []\n",
    "for i in range(0,timesteps):  \n",
    "    agent_reliability_scores = np.array(\n",
    "        [dense_logs[0]['states'][i][k]['endogenous']['ReliabilityScore'] for k in dense_logs[0]['states'][i].keys() if k != 'p']\n",
    "    )\n",
    "    agent_data = np.array(\n",
    "        [dense_logs[0]['states'][i][k]['endogenous']['TotalData'] for k in dense_logs[0]['states'][i].keys() if k != 'p']\n",
    "    )\n",
    "\n",
    "    rel = reliability_scores(agent_reliability_scores, agent_data)\n",
    "    system_reliability.append(rel)"
   ]
  },
  {
   "cell_type": "code",
   "execution_count": 20,
   "id": "c0c97727",
   "metadata": {},
   "outputs": [],
   "source": [
    "agent_0_green_scores = [log[\"0\"][\"endogenous\"][\"GreenScore\"] for log in dense_logs[0]['states']]\n",
    "agent_1_green_scores = [log[\"1\"][\"endogenous\"][\"GreenScore\"] for log in dense_logs[0]['states']]\n",
    "agent_2_green_scores = [log[\"2\"][\"endogenous\"][\"GreenScore\"] for log in dense_logs[0]['states']]\n",
    "agent_3_green_scores = [log[\"3\"][\"endogenous\"][\"GreenScore\"] for log in dense_logs[0]['states']]"
   ]
  },
  {
   "cell_type": "code",
   "execution_count": 21,
   "id": "f7221a0a",
   "metadata": {},
   "outputs": [],
   "source": [
    "agent_0_rel_scores = [log[\"0\"][\"endogenous\"][\"ReliabilityScore\"] for log in dense_logs[0]['states']]\n",
    "agent_1_rel_scores = [log[\"1\"][\"endogenous\"][\"ReliabilityScore\"] for log in dense_logs[0]['states']]\n",
    "agent_2_rel_scores = [log[\"2\"][\"endogenous\"][\"ReliabilityScore\"] for log in dense_logs[0]['states']]\n",
    "agent_3_rel_scores = [log[\"3\"][\"endogenous\"][\"ReliabilityScore\"] for log in dense_logs[0]['states']]"
   ]
  },
  {
   "cell_type": "code",
   "execution_count": 22,
   "id": "8b8b05cf",
   "metadata": {},
   "outputs": [],
   "source": [
    "agent_0_score = [log[\"0\"][\"endogenous\"][\"TotalScore\"] for log in dense_logs[0]['states']]\n",
    "agent_1_score = [log[\"1\"][\"endogenous\"][\"TotalScore\"] for log in dense_logs[0]['states']]\n",
    "agent_2_score = [log[\"2\"][\"endogenous\"][\"TotalScore\"] for log in dense_logs[0]['states']]\n",
    "agent_3_score = [log[\"3\"][\"endogenous\"][\"TotalScore\"] for log in dense_logs[0]['states']]"
   ]
  },
  {
   "cell_type": "code",
   "execution_count": 23,
   "id": "e339d422",
   "metadata": {},
   "outputs": [],
   "source": [
    "agent_0_data = [log[\"0\"][\"endogenous\"][\"TotalData\"] for log in dense_logs[0]['states']]\n",
    "agent_1_data = [log[\"1\"][\"endogenous\"][\"TotalData\"] for log in dense_logs[0]['states']]\n",
    "agent_2_data = [log[\"2\"][\"endogenous\"][\"TotalData\"] for log in dense_logs[0]['states']]\n",
    "agent_3_data = [log[\"3\"][\"endogenous\"][\"TotalData\"] for log in dense_logs[0]['states']]"
   ]
  },
  {
   "cell_type": "code",
   "execution_count": 24,
   "id": "d092834f",
   "metadata": {},
   "outputs": [
    {
     "data": {
      "image/png": "[encoded data removed]",
      "text/plain": [
       "<Figure size 432x288 with 1 Axes>"
      ]
     },
     "metadata": {
      "needs_background": "light"
     },
     "output_type": "display_data"
    }
   ],
   "source": [
    "import matplotlib.pyplot as plt\n",
    "import numpy as np\n",
    "\n",
    "plt.plot(np.arange(0,timesteps),agent_0_green_scores, label=\"Agent 0\")\n",
    "plt.plot(np.arange(0,timesteps),agent_1_green_scores, label=\"Agent 1\")\n",
    "plt.plot(np.arange(0,timesteps),agent_2_green_scores, label=\"Agent 2\")\n",
    "plt.plot(np.arange(0,timesteps),agent_3_green_scores, label=\"Agent 3\")\n",
    "plt.title('Miner Green Scores')\n",
    "plt.legend()\n",
    "plt.xlabel('Timesteps')\n",
    "plt.ylabel('Green Scores')\n",
    "plt.savefig(\"miners_green_scores_dynamic_importance_50_epochs.png\")\n",
    "plt.show()"
   ]
  },
  {
   "cell_type": "code",
   "execution_count": 25,
   "id": "9f6b555d",
   "metadata": {},
   "outputs": [
    {
     "data": {
      "image/png": "[encoded data removed]",
      "text/plain": [
       "<Figure size 432x288 with 1 Axes>"
      ]
     },
     "metadata": {
      "needs_background": "light"
     },
     "output_type": "display_data"
    }
   ],
   "source": [
    "plt.plot(np.arange(0,timesteps),agent_0_score, label=\"Agent 0\")\n",
    "plt.plot(np.arange(0,timesteps),agent_1_score, label=\"Agent 1\")\n",
    "plt.plot(np.arange(0,timesteps),agent_2_score, label=\"Agent 2\")\n",
    "plt.plot(np.arange(0,timesteps),agent_3_score, label=\"Agent 3\")\n",
    "plt.title('Miner Total Scores')\n",
    "plt.legend()\n",
    "plt.xlabel('Timesteps')\n",
    "plt.ylabel('Reliability Scores')\n",
    "plt.savefig(\"miners_total_scores_dynamic_importance_50_epochs.png\")\n",
    "plt.show()"
   ]
  },
  {
   "cell_type": "code",
   "execution_count": 26,
   "id": "44147fc8",
   "metadata": {},
   "outputs": [
    {
     "data": {
      "image/png": "[encoded data removed]",
      "text/plain": [
       "<Figure size 432x288 with 1 Axes>"
      ]
     },
     "metadata": {
      "needs_background": "light"
     },
     "output_type": "display_data"
    }
   ],
   "source": [
    "plt.plot(np.arange(0,timesteps),agent_0_data, label=\"Agent 0\")\n",
    "plt.plot(np.arange(0,timesteps),agent_1_data, label=\"Agent 1\")\n",
    "plt.plot(np.arange(0,timesteps),agent_2_data, label=\"Agent 2\")\n",
    "plt.plot(np.arange(0,timesteps),agent_3_data, label=\"Agent 3\")\n",
    "plt.title('Total Data Stored By Each Miner')\n",
    "plt.legend()\n",
    "plt.xlabel('Timesteps')\n",
    "plt.ylabel('Data Storage')\n",
    "plt.savefig(\"miners_data_stored_dynamic_importance_50_epochs.png\")\n",
    "plt.show()"
   ]
  },
  {
   "cell_type": "code",
   "execution_count": 27,
   "id": "6b57bfff",
   "metadata": {},
   "outputs": [
    {
     "data": {
      "image/png": "[encoded data removed]",
      "text/plain": [
       "<Figure size 432x288 with 1 Axes>"
      ]
     },
     "metadata": {
      "needs_background": "light"
     },
     "output_type": "display_data"
    }
   ],
   "source": [
    "plt.plot(np.arange(0,timesteps),avg_green_scores)\n",
    "plt.xlabel('Timesteps')\n",
    "plt.ylabel('Average Green Score of the System over Time')\n",
    "plt.savefig(\"avg_miner_green_score_dynamic_importance_50_epochs.png\")\n",
    "plt.show()"
   ]
  },
  {
   "cell_type": "code",
   "execution_count": 28,
   "id": "7b2e2c8e",
   "metadata": {},
   "outputs": [
    {
     "data": {
      "image/png": "[encoded data removed]",
      "text/plain": [
       "<Figure size 432x288 with 1 Axes>"
      ]
     },
     "metadata": {
      "needs_background": "light"
     },
     "output_type": "display_data"
    }
   ],
   "source": [
    "plt.plot(np.arange(0,timesteps),system_reliability)\n",
    "plt.xlabel('Timesteps')\n",
    "plt.ylabel('Average Reliability of the System over Time')\n",
    "plt.savefig(\"system_reliability_dynamic_importance_50_epochs.png\")\n",
    "plt.show()"
   ]
  },
  {
   "cell_type": "code",
   "execution_count": 33,
   "id": "98ef759f",
   "metadata": {},
   "outputs": [
    {
     "data": {
      "text/plain": [
       "[0.0,\n",
       " 0.53,\n",
       " 0.5388888888888889,\n",
       " 0.5428571428571428,\n",
       " 0.5381578947368421,\n",
       " 0.5375,\n",
       " 0.5310344827586208,\n",
       " 0.5432835820895522,\n",
       " 0.5525974025974025,\n",
       " 0.5545977011494253,\n",
       " 0.5628865979381443,\n",
       " 0.5588785046728971,\n",
       " 0.5508620689655173,\n",
       " 0.5451999999999999,\n",
       " 0.5518518518518517,\n",
       " 0.5555555555555556,\n",
       " 0.5594155844155844,\n",
       " 0.5475460122699386,\n",
       " 0.5439306358381502,\n",
       " 0.5381868131868132,\n",
       " 0.5320312500000001,\n",
       " 0.5266169154228856,\n",
       " 0.528095238095238,\n",
       " 0.5200913242009131,\n",
       " 0.5183406113537117,\n",
       " 0.5199579831932772,\n",
       " 0.5157258064516129,\n",
       " 0.5137596899224807,\n",
       " 0.5125468164794007,\n",
       " 0.5097472924187725,\n",
       " 0.5057692307692307,\n",
       " 0.5032203389830509,\n",
       " 0.49836065573770494,\n",
       " 0.49269841269841264,\n",
       " 0.49599999999999994,\n",
       " 0.49537313432835817,\n",
       " 0.4915942028985507,\n",
       " 0.4901988636363636,\n",
       " 0.4883977900552486,\n",
       " 0.48770270270270266,\n",
       " 0.4857894736842105,\n",
       " 0.48414948453608236,\n",
       " 0.4820351758793969,\n",
       " 0.48284313725490197,\n",
       " 0.4799043062200957,\n",
       " 0.47880562060889925,\n",
       " 0.482454128440367,\n",
       " 0.48393258426966296,\n",
       " 0.4843956043956045,\n",
       " 0.48556034482758625,\n",
       " 0.48530655391120503,\n",
       " 0.48509316770186334,\n",
       " 0.484349593495935,\n",
       " 0.4827689243027889,\n",
       " 0.48395303326810174,\n",
       " 0.48442307692307696,\n",
       " 0.486578449905482,\n",
       " 0.4872439478584731,\n",
       " 0.4879341864716637,\n",
       " 0.48990990990990996,\n",
       " 0.488741134751773,\n",
       " 0.4912891986062718,\n",
       " 0.4909246575342466,\n",
       " 0.48846801346801344,\n",
       " 0.48650662251655624,\n",
       " 0.48580750407830336,\n",
       " 0.48561093247588427,\n",
       " 0.48473101265822777,\n",
       " 0.4842433697347894,\n",
       " 0.4852534562211982,\n",
       " 0.4837367624810893,\n",
       " 0.4816691505216095,\n",
       " 0.4801762114537445,\n",
       " 0.48096960926193927,\n",
       " 0.48014285714285715,\n",
       " 0.482394366197183,\n",
       " 0.48368055555555556,\n",
       " 0.4837671232876712,\n",
       " 0.4829729729729729,\n",
       " 0.4833110814419225,\n",
       " 0.4832674571805006,\n",
       " 0.48224967490247067,\n",
       " 0.48369704749679077,\n",
       " 0.4831218274111675,\n",
       " 0.48243412797992463,\n",
       " 0.48097893432465916,\n",
       " 0.4813112745098039,\n",
       " 0.48050847457627116,\n",
       " 0.4793062200956937,\n",
       " 0.4792553191489361,\n",
       " 0.47897196261682246,\n",
       " 0.4797109826589595,\n",
       " 0.4792906178489703,\n",
       " 0.4808823529411764,\n",
       " 0.4807390817469205,\n",
       " 0.4815614617940199,\n",
       " 0.48132530120481926,\n",
       " 0.48232104121475056,\n",
       " 0.48256437768240346,\n",
       " 0.4819341126461212,\n",
       " 0.4813880126182966,\n",
       " 0.48090530697190426,\n",
       " 0.4813594232749742,\n",
       " 0.4797145769622833,\n",
       " 0.4802325581395348,\n",
       " 0.48008008008007996,\n",
       " 0.4798907646474677,\n",
       " 0.4800688976377952,\n",
       " 0.47993164062499993,\n",
       " 0.4785091965150048,\n",
       " 0.47737296260786194,\n",
       " 0.4759734093067426,\n",
       " 0.4757290686735653,\n",
       " 0.47600186393289834,\n",
       " 0.4747227356746765,\n",
       " 0.47326007326007324,\n",
       " 0.472005444646098,\n",
       " 0.47263726372637255,\n",
       " 0.4737053571428571,\n",
       " 0.47278761061946883,\n",
       " 0.47251975417032477,\n",
       " 0.4727154046997389,\n",
       " 0.47264883520276096,\n",
       " 0.47315608919382496,\n",
       " 0.47444727891156446,\n",
       " 0.4756118143459915,\n",
       " 0.4752719665271966,\n",
       " 0.47653654485049823,\n",
       " 0.4777411376751855,\n",
       " 0.4774549918166939,\n",
       " 0.4784090909090909,\n",
       " 0.4787037037037037,\n",
       " 0.4791134185303514,\n",
       " 0.4793185419968304,\n",
       " 0.48025177025963817,\n",
       " 0.4800546448087432,\n",
       " 0.4813323005422153,\n",
       " 0.4821538461538462,\n",
       " 0.48391902215431637,\n",
       " 0.4843702579666161,\n",
       " 0.48432554634513947,\n",
       " 0.48347045624532536,\n",
       " 0.48303637713437264,\n",
       " 0.48349299926308026,\n",
       " 0.48440702781844797,\n",
       " 0.4846656976744186,\n",
       " 0.48416305916305913,\n",
       " 0.4837992831541219,\n",
       " 0.48362989323843414,\n",
       " 0.483356890459364,\n",
       " 0.4829002808988764,\n",
       " 0.4834728033472803,\n",
       " 0.48291753291753287,\n",
       " 0.48247245179063347,\n",
       " 0.48234086242299784,\n",
       " 0.48248299319727883,\n",
       " 0.482331081081081,\n",
       " 0.4836919973100201,\n",
       " 0.48303273213092845,\n",
       " 0.4837425348374253,\n",
       " 0.4834762532981529,\n",
       " 0.48301639344262287,\n",
       " 0.483257328990228,\n",
       " 0.48288025889967634,\n",
       " 0.4834083601286174,\n",
       " 0.484185303514377,\n",
       " 0.4837992376111817,\n",
       " 0.484586228679722,\n",
       " 0.4833333333333333,\n",
       " 0.48277153558052427,\n",
       " 0.48234016139044067,\n",
       " 0.4821296296296296,\n",
       " 0.4827300613496932,\n",
       " 0.48283536585365855,\n",
       " 0.48254545454545456,\n",
       " 0.4823795180722892,\n",
       " 0.48280407429598565,\n",
       " 0.48296605122096486,\n",
       " 0.4823755924170616,\n",
       " 0.48146729522687093,\n",
       " 0.4813122437024019,\n",
       " 0.4815958066394875,\n",
       " 0.4821552723059096,\n",
       " 0.4817108294930876,\n",
       " 0.48148997134670485,\n",
       " 0.4819088319088318,\n",
       " 0.48214285714285715,\n",
       " 0.4818771138669673,\n",
       " 0.48168816601233877,\n",
       " 0.4808314732142857,\n",
       " 0.48035516093229746,\n",
       " 0.48028713418001107,\n",
       " 0.48060439560439555,\n",
       " 0.4815645514223194,\n",
       " 0.4814099074578116,\n",
       " 0.48151055766107204,\n",
       " 0.48104469574582664,\n",
       " 0.4803322615219721,\n",
       " 0.4802666666666666,\n",
       " 0.4804405520169851,\n",
       " 0.4804014791336503,\n",
       " 0.4805044666316342,\n",
       " 0.4807531380753138,\n",
       " 0.48090530697190426,\n",
       " 0.48141821946169766,\n",
       " 0.48145285935085,\n",
       " 0.48122113904566444,\n",
       " 0.48057682491066867,\n",
       " 0.4797256097560975,\n",
       " 0.4788675429726997,\n",
       " 0.4786720321931589,\n",
       " 0.4788788788788788,\n",
       " 0.4791978076731439,\n",
       " 0.47865642042637574,\n",
       " 0.47810957551826255,\n",
       " 0.4770383104125736,\n",
       " 0.47741935483870973,\n",
       " 0.4778696498054475,\n",
       " 0.4779903147699758,\n",
       " 0.4776867469879519,\n",
       " 0.4778896882494006,\n",
       " 0.47853390639923593,\n",
       " 0.47843556823585354,\n",
       " 0.47849029815428296,\n",
       " 0.47821479039095627,\n",
       " 0.47784810126582283,\n",
       " 0.4773809523809524,\n",
       " 0.4779042750929367,\n",
       " 0.47795002313743645,\n",
       " 0.4775806451612904,\n",
       " 0.47805045871559637,\n",
       " 0.4778310502283105,\n",
       " 0.4781136363636363,\n",
       " 0.4785067873303168,\n",
       " 0.4786840919333033,\n",
       " 0.4790040376850605,\n",
       " 0.47856185797230905,\n",
       " 0.4789239662072033,\n",
       " 0.4790615316511731,\n",
       " 0.4796386073159982,\n",
       " 0.4799912242211496,\n",
       " 0.47961101398601397,\n",
       " 0.4790034812880765,\n",
       " 0.4790944540727903,\n",
       " 0.47817083692838647,\n",
       " 0.47787800687285215,\n",
       " 0.477706461275139,\n",
       " 0.4776949296974861,\n",
       " 0.4775137887144674,\n",
       " 0.4773764258555132,\n",
       " 0.47711400925536385,\n",
       " 0.47714704650188505,\n",
       " 0.47659574468085103,\n",
       " 0.47597672485453024,\n",
       " 0.4759834368530021,\n",
       " 0.4750927835051546,\n",
       " 0.4748665297741273,\n",
       " 0.47472392638036803,\n",
       " 0.47477587612061944,\n",
       " 0.47497970779220783,\n",
       " 0.47512126111560227,\n",
       " 0.47525171163914626,\n",
       " 0.475070196550341,\n",
       " 0.47455053935277663,\n",
       " 0.47416401273885345,\n",
       " 0.4746827914353688,\n",
       " 0.4750098775187673,\n",
       " 0.4745572609208972,\n",
       " 0.47410819286554295,\n",
       " 0.47466796874999995,\n",
       " 0.47441634241245134,\n",
       " 0.4742729740209384,\n",
       " 0.47429509463113173,\n",
       " 0.4744418783679754,\n",
       " 0.47417561349693255,\n",
       " 0.4744363775315247,\n",
       " 0.4743335872048744,\n",
       " 0.4745447647951442,\n",
       " 0.47479213907785334,\n",
       " 0.4744067796610169,\n",
       " 0.4742776735459662,\n",
       " 0.47502805836139167,\n",
       " 0.47517704062616467,\n",
       " 0.47525064983290005,\n",
       " 0.47500924898261193,\n",
       " 0.47526723184666414,\n",
       " 0.4758538376790304,\n",
       " 0.47619831686791064,\n",
       " 0.4756653299307328,\n",
       " 0.47568107519070096,\n",
       " 0.4757784214337436,\n",
       " 0.4754962107542403,\n",
       " 0.47486505937387546,\n",
       " 0.4744352814628899,\n",
       " 0.47422293676312965,\n",
       " 0.4736027055891776,\n",
       " 0.4735012415750266,\n",
       " 0.47345351714386713,\n",
       " 0.4733180697428672,\n",
       " 0.4727623727623728,\n",
       " 0.47253324002799163,\n",
       " 0.47241018486222536,\n",
       " 0.47214111922141117,\n",
       " 0.47195079695079695,\n",
       " 0.4719095303867404,\n",
       " 0.4718513420509291,\n",
       " 0.4717324185248713,\n",
       " 0.47125512995896035,\n",
       " 0.47070552147239264,\n",
       " 0.47055027173913044,\n",
       " 0.47027758970886935,\n",
       " 0.469838056680162,\n",
       " 0.46973772696704774,\n",
       " 0.46922561180020106,\n",
       " 0.4691677807486631,\n",
       " 0.4688540972684877,\n",
       " 0.46866489538359346,\n",
       " 0.4685430463576159,\n",
       " 0.46821782178217813,\n",
       " 0.4680980585718986,\n",
       " 0.4677107248278124,\n",
       " 0.4675547564563583,\n",
       " 0.46743807040417207,\n",
       " 0.4674139051332033,\n",
       " 0.4671146373056994,\n",
       " 0.4669141381536475,\n",
       " 0.4674066924066924,\n",
       " 0.46751122514432336,\n",
       " 0.46776463063639273,\n",
       " 0.46788332802040167,\n",
       " 0.4680705657978385,\n",
       " 0.46833016476552597,\n",
       " 0.46833543903979785,\n",
       " 0.4681360201511335,\n",
       " 0.4676766091051805,\n",
       " 0.46763693270735524,\n",
       " 0.4677379095163806]"
      ]
     },
     "execution_count": 33,
     "metadata": {},
     "output_type": "execute_result"
    }
   ],
   "source": [
    "system_reliability"
   ]
  },
  {
   "cell_type": "code",
   "execution_count": 30,
   "id": "290ffe62",
   "metadata": {},
   "outputs": [
    {
     "data": {
      "image/png": "[encoded data removed]",
      "text/plain": [
       "<Figure size 432x288 with 1 Axes>"
      ]
     },
     "metadata": {
      "needs_background": "light"
     },
     "output_type": "display_data"
    }
   ],
   "source": [
    "plt.plot(np.arange(0,timesteps),system_greenness)\n",
    "plt.xlabel('Timesteps')\n",
    "plt.ylabel('Average Green Score of the System over Time')\n",
    "plt.savefig(\"system_greenness_dynamic_importance_50_epochs.png\")\n",
    "plt.show()"
   ]
  },
  {
   "cell_type": "code",
   "execution_count": 35,
   "id": "ba7cfa87",
   "metadata": {},
   "outputs": [],
   "source": [
    "planner_gr_score_importances = [log[\"p\"][\"GreenScoreImportance\"] for log in dense_logs[0]['states']]"
   ]
  },
  {
   "cell_type": "code",
   "execution_count": 37,
   "id": "1f734456",
   "metadata": {},
   "outputs": [
    {
     "data": {
      "image/png": "[encoded data removed]",
      "text/plain": [
       "<Figure size 432x288 with 1 Axes>"
      ]
     },
     "metadata": {
      "needs_background": "light"
     },
     "output_type": "display_data"
    }
   ],
   "source": [
    "plt.plot(np.arange(0,timesteps),planner_gr_score_importances)\n",
    "plt.title('Green Score Importance over Time')\n",
    "plt.xlabel('Timesteps')\n",
    "plt.ylabel('Green Score Importance')\n",
    "plt.savefig(\"planner_policy_dynamic_importance_50_epochs.png\")\n",
    "plt.show()"
   ]
  },
  {
   "cell_type": "code",
   "execution_count": 32,
   "id": "6ac30c44",
   "metadata": {},
   "outputs": [],
   "source": [
    "# Shutdown Ray after use\n",
    "ray.shutdown()"
   ]
  },
  {
   "cell_type": "code",
   "execution_count": null,
   "id": "1e4a8540",
   "metadata": {},
   "outputs": [],
   "source": []
  }
 ],
 "metadata": {
  "kernelspec": {
   "display_name": "Python 3",
   "language": "python",
   "name": "python3"
  },
  "language_info": {
   "codemirror_mode": {
    "name": "ipython",
    "version": 3
   },
   "file_extension": ".py",
   "mimetype": "text/x-python",
   "name": "python",
   "nbconvert_exporter": "python",
   "pygments_lexer": "ipython3",
   "version": "3.7.13"
  }
 },
 "nbformat": 4,
 "nbformat_minor": 5
}
